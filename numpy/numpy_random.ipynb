{
 "cells": [
  {
   "cell_type": "markdown",
   "metadata": {},
   "source": [
    "# さまざまな分布に従う乱数\n",
    "\n",
    "|関数名|説明|\n",
    "|:-:|:-:|\n",
    "|`np.random.binomial(n,p,size)`|二項分布|\n",
    "|`np.random.normal(loc,scale,size)`|正規分布|\n",
    "|`np.random.beta(a,b,size)`|ベータ分布|\n",
    "|`np.random.chisquare(df,size)`|カイ二乗分布|\n",
    "|`np.random.gamma(shape,scale,size)`|ガンマ関数|\n",
    "|`np.random.uniform(low,high,size)`|区間0<=x<1の一様分布|"
   ]
  },
  {
   "cell_type": "code",
   "execution_count": 5,
   "metadata": {
    "collapsed": false
   },
   "outputs": [
    {
     "name": "stdout",
     "output_type": "stream",
     "text": [
      "[[7 0]\n",
      " [7 6]]\n"
     ]
    }
   ],
   "source": [
    "# coding:utf-8\n",
    "import numpy as np\n",
    "\n",
    "# 二項分布に従う乱数\n",
    "binomial = np.random.binomial(10, 0.5, (2,2))\n",
    "print binomial"
   ]
  },
  {
   "cell_type": "code",
   "execution_count": 6,
   "metadata": {
    "collapsed": false
   },
   "outputs": [
    {
     "name": "stdout",
     "output_type": "stream",
     "text": [
      "[[-2.01677692 -0.12600801]\n",
      " [-0.359088   -1.50765792]]\n"
     ]
    }
   ],
   "source": [
    "# 正規分布に従う乱数\n",
    "normal = np.random.normal(0, 1, (2,2))\n",
    "print normal"
   ]
  },
  {
   "cell_type": "code",
   "execution_count": 7,
   "metadata": {
    "collapsed": false
   },
   "outputs": [
    {
     "name": "stdout",
     "output_type": "stream",
     "text": [
      "[[ 0.63237931  0.08976079]\n",
      " [ 0.26943176  0.07292672]]\n"
     ]
    }
   ],
   "source": [
    "# ベータ分布に従う乱数\n",
    "beta = np.random.beta(1, 1, (2,2))\n",
    "print beta"
   ]
  },
  {
   "cell_type": "code",
   "execution_count": 8,
   "metadata": {
    "collapsed": false
   },
   "outputs": [
    {
     "name": "stdout",
     "output_type": "stream",
     "text": [
      "[[ 0.36477184  0.15991732]\n",
      " [ 1.86645181  0.70713959]]\n"
     ]
    }
   ],
   "source": [
    "# カイ二乗分布に従う乱数\n",
    "chisquare = np.random.chisquare(1, (2,2))\n",
    "print chisquare"
   ]
  },
  {
   "cell_type": "code",
   "execution_count": 9,
   "metadata": {
    "collapsed": false
   },
   "outputs": [
    {
     "name": "stdout",
     "output_type": "stream",
     "text": [
      "[[ 1.86792088  2.43415547]\n",
      " [ 1.15937232  0.52924301]]\n"
     ]
    }
   ],
   "source": [
    "# ガンマ分布\n",
    "gamma = np.random.gamma(2, 1, (2,2))\n",
    "print gamma"
   ]
  },
  {
   "cell_type": "code",
   "execution_count": 10,
   "metadata": {
    "collapsed": false
   },
   "outputs": [
    {
     "name": "stdout",
     "output_type": "stream",
     "text": [
      "[[ 0.49393402  0.20058058]\n",
      " [ 0.69737889  0.230199  ]]\n"
     ]
    }
   ],
   "source": [
    "# [0,1)の一様分布\n",
    "uniform = np.random.uniform(0, 1, (2,2))\n",
    "print uniform"
   ]
  }
 ],
 "metadata": {
  "kernelspec": {
   "display_name": "Python 2",
   "language": "python",
   "name": "python2"
  },
  "language_info": {
   "codemirror_mode": {
    "name": "ipython",
    "version": 2
   },
   "file_extension": ".py",
   "mimetype": "text/x-python",
   "name": "python",
   "nbconvert_exporter": "python",
   "pygments_lexer": "ipython2",
   "version": "2.7.9"
  }
 },
 "nbformat": 4,
 "nbformat_minor": 2
}
