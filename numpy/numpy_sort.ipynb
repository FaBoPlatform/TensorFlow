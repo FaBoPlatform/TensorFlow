{
 "cells": [
  {
   "cell_type": "markdown",
   "metadata": {},
   "source": [
    "# ソート\n",
    "---"
   ]
  },
  {
   "cell_type": "code",
   "execution_count": 4,
   "metadata": {
    "collapsed": false
   },
   "outputs": [
    {
     "name": "stdout",
     "output_type": "stream",
     "text": [
      "[12 19 53 66 26  2 22 49 48 15]\n"
     ]
    }
   ],
   "source": [
    "# coding:utf-8\n",
    "import numpy as np\n",
    "\n",
    "# 範囲0〜100の乱数を持つ1次元配列\n",
    "x = np.random.randint(0, 100, 10)\n",
    "# 範囲0〜100の乱数を持つ4x4行列\n",
    "y = np.random.randint(0, 100, (4,4))\n",
    "\n",
    "print x"
   ]
  },
  {
   "cell_type": "code",
   "execution_count": 5,
   "metadata": {
    "collapsed": false
   },
   "outputs": [
    {
     "name": "stdout",
     "output_type": "stream",
     "text": [
      "[ 2 12 15 19 22 26 48 49 53 66]\n"
     ]
    }
   ],
   "source": [
    "# 昇順に整列する\n",
    "# 注意: np.sort()は破壊的操作\n",
    "x.sort()\n",
    "print x"
   ]
  },
  {
   "cell_type": "code",
   "execution_count": 6,
   "metadata": {
    "collapsed": false
   },
   "outputs": [
    {
     "name": "stdout",
     "output_type": "stream",
     "text": [
      "[[ 5 63 62 90]\n",
      " [98 20 63 12]\n",
      " [37 49 62 66]\n",
      " [39 42 32 45]]\n"
     ]
    }
   ],
   "source": [
    "print y"
   ]
  },
  {
   "cell_type": "code",
   "execution_count": 7,
   "metadata": {
    "collapsed": false
   },
   "outputs": [
    {
     "name": "stdout",
     "output_type": "stream",
     "text": [
      "[[ 5 20 32 12]\n",
      " [37 42 62 45]\n",
      " [39 49 62 66]\n",
      " [98 63 63 90]]\n"
     ]
    }
   ],
   "source": [
    "# yをコピーする\n",
    "y1 = np.array(y)\n",
    "y2 = np.array(y)\n",
    "# 列単位で昇順に整列する\n",
    "y1.sort(0)\n",
    "print y1"
   ]
  },
  {
   "cell_type": "code",
   "execution_count": 8,
   "metadata": {
    "collapsed": false
   },
   "outputs": [
    {
     "name": "stdout",
     "output_type": "stream",
     "text": [
      "[[ 5 62 63 90]\n",
      " [12 20 63 98]\n",
      " [37 49 62 66]\n",
      " [32 39 42 45]]\n"
     ]
    }
   ],
   "source": [
    "# 行単位で昇順に整列する\n",
    "# 引数がない場合は、デフォルト\n",
    "y2.sort(1)\n",
    "print y2"
   ]
  }
 ],
 "metadata": {
  "kernelspec": {
   "display_name": "Python 2",
   "language": "python",
   "name": "python2"
  },
  "language_info": {
   "codemirror_mode": {
    "name": "ipython",
    "version": 2
   },
   "file_extension": ".py",
   "mimetype": "text/x-python",
   "name": "python",
   "nbconvert_exporter": "python",
   "pygments_lexer": "ipython2",
   "version": "2.7.9"
  }
 },
 "nbformat": 4,
 "nbformat_minor": 2
}
