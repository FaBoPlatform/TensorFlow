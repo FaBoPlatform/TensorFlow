{
 "cells": [
  {
   "cell_type": "markdown",
   "metadata": {},
   "source": [
    "# ユニバーサル関数\n",
    "\n",
    "ユニバーサル関数は、numpyオブジェクトのそれぞれの要素に対して計算・操作を返す関数である。\n",
    "\n",
    "ユニバーサル関数の例:\n",
    "\n",
    "|関数名|説明|\n",
    "|:-:|:-:|\n",
    "|np.add(x1, x2)|加算|\n",
    "|np.negative(x)|-1を掛けた値を返す|\n",
    "|np.power(x1, x2)|n乗|\n",
    "|np.exp(x)|指数関数|\n",
    "|np.log(x)|対数関数|\n",
    "|np.sqrt(x)|平方根|\n",
    "\n",
    "詳しくは[ドキュメント](https://docs.scipy.org/doc/numpy/reference/ufuncs.html#math-operations)を参考。\n",
    "\n",
    "---"
   ]
  },
  {
   "cell_type": "code",
   "execution_count": 1,
   "metadata": {
    "collapsed": false
   },
   "outputs": [
    {
     "name": "stdout",
     "output_type": "stream",
     "text": [
      "[[ 1  2  3  4]\n",
      " [ 5  6  7  8]\n",
      " [ 9 10 11 12]\n",
      " [13 14 15 16]]\n"
     ]
    }
   ],
   "source": [
    "# coding:utf-8\n",
    "import numpy as np\n",
    "\n",
    "# 4x4行列\n",
    "x = np.arange(1, 17).reshape(4, 4)\n",
    "print x"
   ]
  },
  {
   "cell_type": "code",
   "execution_count": 2,
   "metadata": {
    "collapsed": false
   },
   "outputs": [
    {
     "name": "stdout",
     "output_type": "stream",
     "text": [
      "[[ 2  3  4  5]\n",
      " [ 6  7  8  9]\n",
      " [10 11 12 13]\n",
      " [14 15 16 17]]\n"
     ]
    }
   ],
   "source": [
    "# 加算\n",
    "print np.add(x, 1)"
   ]
  },
  {
   "cell_type": "code",
   "execution_count": 3,
   "metadata": {
    "collapsed": false
   },
   "outputs": [
    {
     "name": "stdout",
     "output_type": "stream",
     "text": [
      "[[ 2  3  4  5]\n",
      " [ 6  7  8  9]\n",
      " [10 11 12 13]\n",
      " [14 15 16 17]]\n"
     ]
    }
   ],
   "source": [
    "# 以下も同様\n",
    "print x + 1"
   ]
  },
  {
   "cell_type": "code",
   "execution_count": 4,
   "metadata": {
    "collapsed": false
   },
   "outputs": [
    {
     "name": "stdout",
     "output_type": "stream",
     "text": [
      "[[ -1  -2  -3  -4]\n",
      " [ -5  -6  -7  -8]\n",
      " [ -9 -10 -11 -12]\n",
      " [-13 -14 -15 -16]]\n"
     ]
    }
   ],
   "source": [
    "# -1を掛ける\n",
    "print np.negative(x)"
   ]
  },
  {
   "cell_type": "code",
   "execution_count": 5,
   "metadata": {
    "collapsed": false
   },
   "outputs": [
    {
     "name": "stdout",
     "output_type": "stream",
     "text": [
      "[[  1   4   9  16]\n",
      " [ 25  36  49  64]\n",
      " [ 81 100 121 144]\n",
      " [169 196 225 256]]\n"
     ]
    }
   ],
   "source": [
    "# n乗\n",
    "print np.power(x, 2)"
   ]
  },
  {
   "cell_type": "code",
   "execution_count": 6,
   "metadata": {
    "collapsed": false
   },
   "outputs": [
    {
     "name": "stdout",
     "output_type": "stream",
     "text": [
      "[[  2.71828183e+00   7.38905610e+00   2.00855369e+01   5.45981500e+01]\n",
      " [  1.48413159e+02   4.03428793e+02   1.09663316e+03   2.98095799e+03]\n",
      " [  8.10308393e+03   2.20264658e+04   5.98741417e+04   1.62754791e+05]\n",
      " [  4.42413392e+05   1.20260428e+06   3.26901737e+06   8.88611052e+06]]\n"
     ]
    }
   ],
   "source": [
    "# 指数関数\n",
    "print np.exp(x)"
   ]
  },
  {
   "cell_type": "code",
   "execution_count": 7,
   "metadata": {
    "collapsed": false
   },
   "outputs": [
    {
     "name": "stdout",
     "output_type": "stream",
     "text": [
      "[[ 0.          0.69314718  1.09861229  1.38629436]\n",
      " [ 1.60943791  1.79175947  1.94591015  2.07944154]\n",
      " [ 2.19722458  2.30258509  2.39789527  2.48490665]\n",
      " [ 2.56494936  2.63905733  2.7080502   2.77258872]]\n"
     ]
    }
   ],
   "source": [
    "# 対数関数\n",
    "print np.log(x)"
   ]
  },
  {
   "cell_type": "code",
   "execution_count": 8,
   "metadata": {
    "collapsed": false
   },
   "outputs": [
    {
     "name": "stdout",
     "output_type": "stream",
     "text": [
      "[[ 1.          1.41421356  1.73205081  2.        ]\n",
      " [ 2.23606798  2.44948974  2.64575131  2.82842712]\n",
      " [ 3.          3.16227766  3.31662479  3.46410162]\n",
      " [ 3.60555128  3.74165739  3.87298335  4.        ]]\n"
     ]
    }
   ],
   "source": [
    "# 平方根\n",
    "print np.sqrt(x)"
   ]
  },
  {
   "cell_type": "markdown",
   "metadata": {},
   "source": [
    "---\n",
    "## 参考\n",
    "\n",
    "* Numpyのユニバーサル関数一覧\n",
    "    * https://docs.scipy.org/doc/numpy/reference/ufuncs.html#math-operations"
   ]
  }
 ],
 "metadata": {
  "kernelspec": {
   "display_name": "Python 2",
   "language": "python",
   "name": "python2"
  },
  "language_info": {
   "codemirror_mode": {
    "name": "ipython",
    "version": 2
   },
   "file_extension": ".py",
   "mimetype": "text/x-python",
   "name": "python",
   "nbconvert_exporter": "python",
   "pygments_lexer": "ipython2",
   "version": "2.7.9"
  }
 },
 "nbformat": 4,
 "nbformat_minor": 2
}
