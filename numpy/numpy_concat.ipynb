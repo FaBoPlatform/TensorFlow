{
 "cells": [
  {
   "cell_type": "markdown",
   "metadata": {},
   "source": [
    "# 結合関数\n",
    "---"
   ]
  },
  {
   "cell_type": "code",
   "execution_count": 1,
   "metadata": {
    "collapsed": false
   },
   "outputs": [
    {
     "data": {
      "text/plain": [
       "array([[0, 1, 2],\n",
       "       [3, 4, 5],\n",
       "       [6, 7, 8]])"
      ]
     },
     "execution_count": 1,
     "metadata": {},
     "output_type": "execute_result"
    }
   ],
   "source": [
    "# coding:utf-8\n",
    "import numpy as np\n",
    "\n",
    "# 3x3行列\n",
    "x = np.arange(0, 9).reshape(3,3)\n",
    "x"
   ]
  },
  {
   "cell_type": "code",
   "execution_count": 2,
   "metadata": {
    "collapsed": false
   },
   "outputs": [
    {
     "data": {
      "text/plain": [
       "array([[8, 4, 3],\n",
       "       [0, 2, 7],\n",
       "       [3, 4, 0]])"
      ]
     },
     "execution_count": 2,
     "metadata": {},
     "output_type": "execute_result"
    }
   ],
   "source": [
    "# 3x3行列\n",
    "y = np.random.randint(0, 10, (3,3))\n",
    "y"
   ]
  },
  {
   "cell_type": "code",
   "execution_count": 3,
   "metadata": {
    "collapsed": false
   },
   "outputs": [
    {
     "name": "stdout",
     "output_type": "stream",
     "text": [
      "[[0 1 2]\n",
      " [3 4 5]\n",
      " [6 7 8]\n",
      " [8 4 3]\n",
      " [0 2 7]\n",
      " [3 4 0]]\n"
     ]
    }
   ],
   "source": [
    "# 行列の結合\n",
    "# 行方向に行列を結合する(デフォルト)\n",
    "print np.concatenate((x,y), axis=0)"
   ]
  },
  {
   "cell_type": "code",
   "execution_count": 8,
   "metadata": {
    "collapsed": false
   },
   "outputs": [
    {
     "name": "stdout",
     "output_type": "stream",
     "text": [
      "[[0 1 2]\n",
      " [3 4 5]\n",
      " [6 7 8]\n",
      " [8 4 3]\n",
      " [0 2 7]\n",
      " [3 4 0]]\n"
     ]
    }
   ],
   "source": [
    "# 以下も同様\n",
    "print np.vstack((x,y))"
   ]
  },
  {
   "cell_type": "code",
   "execution_count": 9,
   "metadata": {
    "collapsed": false
   },
   "outputs": [
    {
     "name": "stdout",
     "output_type": "stream",
     "text": [
      "[[0 1 2 8 4 3]\n",
      " [3 4 5 0 2 7]\n",
      " [6 7 8 3 4 0]]\n"
     ]
    }
   ],
   "source": [
    "# 列方向に行列を結合する\n",
    "print np.concatenate((x,y), axis=1)"
   ]
  },
  {
   "cell_type": "code",
   "execution_count": 6,
   "metadata": {
    "collapsed": false
   },
   "outputs": [
    {
     "name": "stdout",
     "output_type": "stream",
     "text": [
      "[[0 1 2 8 4 3]\n",
      " [3 4 5 0 2 7]\n",
      " [6 7 8 3 4 0]]\n"
     ]
    }
   ],
   "source": [
    "# 以下も同様\n",
    "print np.hstack((x,y))"
   ]
  },
  {
   "cell_type": "code",
   "execution_count": 7,
   "metadata": {
    "collapsed": false
   },
   "outputs": [
    {
     "name": "stdout",
     "output_type": "stream",
     "text": [
      "[[[0 8]\n",
      "  [1 4]\n",
      "  [2 3]]\n",
      "\n",
      " [[3 0]\n",
      "  [4 2]\n",
      "  [5 7]]\n",
      "\n",
      " [[6 3]\n",
      "  [7 4]\n",
      "  [8 0]]]\n"
     ]
    }
   ],
   "source": [
    "# 同じ行と列の要素を並べる\n",
    "print np.dstack((x,y))"
   ]
  },
  {
   "cell_type": "code",
   "execution_count": 10,
   "metadata": {
    "collapsed": false
   },
   "outputs": [
    {
     "name": "stdout",
     "output_type": "stream",
     "text": [
      "[[0 1 2]]\n",
      "[[3 4 5]]\n",
      "[[6 7 8]]\n"
     ]
    }
   ],
   "source": [
    "# 3x3行列を、1列目、2列目で分割する\n",
    "x1, x2, x3 = np.split(x,(1,2))\n",
    "print x1\n",
    "print x2\n",
    "print x3"
   ]
  }
 ],
 "metadata": {
  "kernelspec": {
   "display_name": "Python 2",
   "language": "python",
   "name": "python2"
  },
  "language_info": {
   "codemirror_mode": {
    "name": "ipython",
    "version": 2
   },
   "file_extension": ".py",
   "mimetype": "text/x-python",
   "name": "python",
   "nbconvert_exporter": "python",
   "pygments_lexer": "ipython2",
   "version": "2.7.9"
  }
 },
 "nbformat": 4,
 "nbformat_minor": 2
}
