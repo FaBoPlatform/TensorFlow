{
 "cells": [
  {
   "cell_type": "markdown",
   "metadata": {},
   "source": [
    "# 集合関数\n",
    "---\n",
    "\n",
    "<div style=\"text-align:center;\">Numpyオブジェクトに対する集合関数のサンプル</div>\n",
    "\n",
    "|関数名|説明|\n",
    "|:-:|:-:|\n",
    "|`np.unique(x)`|重複した値を省く|\n",
    "|`np.intersect1d(x,y)`|積集合|\n",
    "|`np.union1d(x,y)`|和集合|\n",
    "|`np.setdiff1d(x,y)`|差集合|\n",
    "|`np.setxor1d(x,y)`|排他的論理和|\n",
    "|`np.in1d(x,y)`|包含|"
   ]
  },
  {
   "cell_type": "code",
   "execution_count": 2,
   "metadata": {
    "collapsed": false
   },
   "outputs": [
    {
     "name": "stdout",
     "output_type": "stream",
     "text": [
      "[1 0 3 1 3 1 2 0 1 3]\n"
     ]
    }
   ],
   "source": [
    "# coding:utf-8\n",
    "import numpy as np\n",
    "\n",
    "# 乱数のシードを設定する\n",
    "np.random.seed(20200724)\n",
    "\n",
    "# 範囲0〜4の乱数を10個生成する\n",
    "x = np.random.randint(0, 4, 10)\n",
    "print x"
   ]
  },
  {
   "cell_type": "code",
   "execution_count": 3,
   "metadata": {
    "collapsed": false
   },
   "outputs": [
    {
     "name": "stdout",
     "output_type": "stream",
     "text": [
      "[0 1 2 3]\n"
     ]
    }
   ],
   "source": [
    "# 重複した値を取り除く\n",
    "print np.unique(x)"
   ]
  },
  {
   "cell_type": "code",
   "execution_count": 6,
   "metadata": {
    "collapsed": false
   },
   "outputs": [
    {
     "name": "stdout",
     "output_type": "stream",
     "text": [
      "[0 1 2 3 4]\n",
      "[3 4 5 6 7]\n"
     ]
    }
   ],
   "source": [
    "# 集合演算\n",
    "# [0, 1, 2, 3, 4]\n",
    "a = np.arange(5)\n",
    "print a\n",
    "# [3, 4, 5, 6, 7]\n",
    "b = np.arange(3, 8)\n",
    "print b"
   ]
  },
  {
   "cell_type": "code",
   "execution_count": 7,
   "metadata": {
    "collapsed": false
   },
   "outputs": [
    {
     "name": "stdout",
     "output_type": "stream",
     "text": [
      "[3 4]\n"
     ]
    }
   ],
   "source": [
    "# 積集合 a ∩ b\n",
    "print np.intersect1d(a, b)"
   ]
  },
  {
   "cell_type": "code",
   "execution_count": 8,
   "metadata": {
    "collapsed": false
   },
   "outputs": [
    {
     "name": "stdout",
     "output_type": "stream",
     "text": [
      "[0 1 2 3 4 5 6 7]\n"
     ]
    }
   ],
   "source": [
    "# 和集合 a ∪ b\n",
    "print np.union1d(a, b)"
   ]
  },
  {
   "cell_type": "code",
   "execution_count": 9,
   "metadata": {
    "collapsed": false
   },
   "outputs": [
    {
     "name": "stdout",
     "output_type": "stream",
     "text": [
      "[0 1 2]\n"
     ]
    }
   ],
   "source": [
    "# 差集合 a - b\n",
    "print np.setdiff1d(a, b)"
   ]
  },
  {
   "cell_type": "code",
   "execution_count": 10,
   "metadata": {
    "collapsed": false
   },
   "outputs": [
    {
     "name": "stdout",
     "output_type": "stream",
     "text": [
      "[0 1 2 5 6 7]\n"
     ]
    }
   ],
   "source": [
    "# 排他的論理和 a xor b\n",
    "print np.setxor1d(a, b)"
   ]
  },
  {
   "cell_type": "code",
   "execution_count": 11,
   "metadata": {
    "collapsed": false
   },
   "outputs": [
    {
     "name": "stdout",
     "output_type": "stream",
     "text": [
      "[False False False  True  True]\n"
     ]
    }
   ],
   "source": [
    "# 配列bの各要素が、配列aの中に含まれているか調べる\n",
    "print np.in1d(a, b)"
   ]
  }
 ],
 "metadata": {
  "kernelspec": {
   "display_name": "Python 2",
   "language": "python",
   "name": "python2"
  },
  "language_info": {
   "codemirror_mode": {
    "name": "ipython",
    "version": 2
   },
   "file_extension": ".py",
   "mimetype": "text/x-python",
   "name": "python",
   "nbconvert_exporter": "python",
   "pygments_lexer": "ipython2",
   "version": "2.7.9"
  }
 },
 "nbformat": 4,
 "nbformat_minor": 2
}
