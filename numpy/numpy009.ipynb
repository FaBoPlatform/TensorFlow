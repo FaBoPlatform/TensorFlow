{
 "cells": [
  {
   "cell_type": "markdown",
   "metadata": {},
   "source": [
    "# ブールインデックス\n",
    "---"
   ]
  },
  {
   "cell_type": "code",
   "execution_count": 1,
   "metadata": {
    "collapsed": false
   },
   "outputs": [
    {
     "name": "stdout",
     "output_type": "stream",
     "text": [
      "[-2.18521529  0.42678029 -0.62646754 -1.04752281  0.88930716  0.6623171\n",
      " -0.0643219  -0.3794636   0.20273436 -0.18788788]\n"
     ]
    }
   ],
   "source": [
    "# coding:utf-8\n",
    "import numpy as np\n",
    "\n",
    "# 標準正規分布による乱数を10コ生成する\n",
    "x = np.random.randn(10)\n",
    "print x"
   ]
  },
  {
   "cell_type": "code",
   "execution_count": 2,
   "metadata": {
    "collapsed": false
   },
   "outputs": [
    {
     "name": "stdout",
     "output_type": "stream",
     "text": [
      "[False  True False False  True  True False False  True False]\n"
     ]
    }
   ],
   "source": [
    "# 0以上の場合にはTrueを返す\n",
    "mask = x >= 0.0\n",
    "print mask"
   ]
  },
  {
   "cell_type": "code",
   "execution_count": 3,
   "metadata": {
    "collapsed": false
   },
   "outputs": [
    {
     "name": "stdout",
     "output_type": "stream",
     "text": [
      "[ 0.42678029  0.88930716  0.6623171   0.20273436]\n",
      "[ 0.42678029  0.88930716  0.6623171   0.20273436]\n"
     ]
    }
   ],
   "source": [
    "# Trueとなっている値のみ取得する\n",
    "print x[mask]\n",
    "# 以下も同様\n",
    "print x[x >= 0]"
   ]
  }
 ],
 "metadata": {
  "kernelspec": {
   "display_name": "Python 2",
   "language": "python",
   "name": "python2"
  },
  "language_info": {
   "codemirror_mode": {
    "name": "ipython",
    "version": 2
   },
   "file_extension": ".py",
   "mimetype": "text/x-python",
   "name": "python",
   "nbconvert_exporter": "python",
   "pygments_lexer": "ipython2",
   "version": "2.7.9"
  }
 },
 "nbformat": 4,
 "nbformat_minor": 2
}
