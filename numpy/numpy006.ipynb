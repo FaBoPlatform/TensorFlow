{
 "cells": [
  {
   "cell_type": "markdown",
   "metadata": {},
   "source": [
    "# 行列の演算\n",
    "---\n",
    "<div style=\"text-align:center;\"><h2>Sample</h2></div>\n",
    "\n",
    "|演算|説明|\n",
    "|:-:|:-:|\n",
    "|+|行列の和|\n",
    "|-|行列の差|\n",
    "|np.dot(a, b) または a.dot(b)|行列の積|\n",
    "|*|行列の**要素**同士の積|\n",
    "|/|行列の**要素**同士の商|"
   ]
  },
  {
   "cell_type": "code",
   "execution_count": 2,
   "metadata": {
    "collapsed": false
   },
   "outputs": [
    {
     "data": {
      "text/plain": [
       "array([[ 2.,  1.],\n",
       "       [ 4.,  2.]])"
      ]
     },
     "execution_count": 2,
     "metadata": {},
     "output_type": "execute_result"
    }
   ],
   "source": [
    "# coding:utf-8\n",
    "import numpy as np\n",
    "\n",
    "# 2x2行列a\n",
    "a = np.array([[2.0, 1.0], [4.0, 2.0]])\n",
    "a"
   ]
  },
  {
   "cell_type": "code",
   "execution_count": 3,
   "metadata": {
    "collapsed": false
   },
   "outputs": [
    {
     "data": {
      "text/plain": [
       "array([[ 1.,  1.],\n",
       "       [ 6.,  3.]])"
      ]
     },
     "execution_count": 3,
     "metadata": {},
     "output_type": "execute_result"
    }
   ],
   "source": [
    "# 2x2行列b\n",
    "b = np.array([[1.0, 1.0], [6.0, 3.0]])\n",
    "b"
   ]
  },
  {
   "cell_type": "code",
   "execution_count": 4,
   "metadata": {
    "collapsed": false
   },
   "outputs": [
    {
     "name": "stdout",
     "output_type": "stream",
     "text": [
      "[[  3.   2.]\n",
      " [ 10.   5.]]\n"
     ]
    }
   ],
   "source": [
    "# 行列の和\n",
    "print a + b"
   ]
  },
  {
   "cell_type": "code",
   "execution_count": 5,
   "metadata": {
    "collapsed": false
   },
   "outputs": [
    {
     "name": "stdout",
     "output_type": "stream",
     "text": [
      "[[ 1.  0.]\n",
      " [-2. -1.]]\n"
     ]
    }
   ],
   "source": [
    "# 行列の差\n",
    "print a - b"
   ]
  },
  {
   "cell_type": "code",
   "execution_count": 6,
   "metadata": {
    "collapsed": false
   },
   "outputs": [
    {
     "name": "stdout",
     "output_type": "stream",
     "text": [
      "[[  8.   5.]\n",
      " [ 16.  10.]]\n"
     ]
    }
   ],
   "source": [
    "# 行列の積\n",
    "print np.dot(a, b)"
   ]
  },
  {
   "cell_type": "code",
   "execution_count": 7,
   "metadata": {
    "collapsed": false
   },
   "outputs": [
    {
     "name": "stdout",
     "output_type": "stream",
     "text": [
      "[[  8.   5.]\n",
      " [ 16.  10.]]\n"
     ]
    }
   ],
   "source": [
    "# 以下も同様\n",
    "print a.dot(b)"
   ]
  },
  {
   "cell_type": "code",
   "execution_count": 8,
   "metadata": {
    "collapsed": false
   },
   "outputs": [
    {
     "name": "stdout",
     "output_type": "stream",
     "text": [
      "[[  2.   1.]\n",
      " [ 24.   6.]]\n"
     ]
    }
   ],
   "source": [
    "# 行列の要素同士の積\n",
    "print a * b"
   ]
  },
  {
   "cell_type": "code",
   "execution_count": 9,
   "metadata": {
    "collapsed": false
   },
   "outputs": [
    {
     "name": "stdout",
     "output_type": "stream",
     "text": [
      "[[ 2.          1.        ]\n",
      " [ 0.66666667  0.66666667]]\n"
     ]
    }
   ],
   "source": [
    "# 行列の要素同士の商\n",
    "print a / b"
   ]
  }
 ],
 "metadata": {
  "kernelspec": {
   "display_name": "Python 2",
   "language": "python",
   "name": "python2"
  },
  "language_info": {
   "codemirror_mode": {
    "name": "ipython",
    "version": 2
   },
   "file_extension": ".py",
   "mimetype": "text/x-python",
   "name": "python",
   "nbconvert_exporter": "python",
   "pygments_lexer": "ipython2",
   "version": "2.7.9"
  }
 },
 "nbformat": 4,
 "nbformat_minor": 2
}
