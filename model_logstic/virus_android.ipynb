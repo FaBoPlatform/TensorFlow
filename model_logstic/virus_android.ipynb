{
 "cells": [
  {
   "cell_type": "markdown",
   "metadata": {},
   "source": [
    "前回までのコード(データ作成)"
   ]
  },
  {
   "cell_type": "code",
   "execution_count": 222,
   "metadata": {
    "collapsed": false
   },
   "outputs": [
    {
     "name": "stdout",
     "output_type": "stream",
     "text": [
      "[[-0.93310809 -1.91782868]\n",
      " [-2.82859015  0.81086099]\n",
      " [-2.75637984 -2.77326179]\n",
      " ..., \n",
      " [-0.19083697  0.88233054]\n",
      " [ 2.62935019  2.49025702]\n",
      " [ 1.44053531  1.59495437]]\n",
      "[[ 0.  1.]\n",
      " [ 0.  1.]\n",
      " [ 0.  1.]\n",
      " ..., \n",
      " [ 1.  0.]\n",
      " [ 1.  0.]\n",
      " [ 1.  0.]]\n"
     ]
    },
    {
     "data": {
      "image/png": "[encoded data removed]",
      "text/plain": [
       "<matplotlib.figure.Figure at 0x7fcf8c97a510>"
      ]
     },
     "metadata": {},
     "output_type": "display_data"
    }
   ],
   "source": [
    "import tensorflow as tf\n",
    "import numpy as np\n",
    "import matplotlib.pyplot as plt\n",
    "\n",
    "x_positive = np.random.randn(500, 1) + 2\n",
    "y_positive = np.random.randn(500, 1) + 2\n",
    "x_negative = np.random.randn(500, 1) - 2\n",
    "y_negative = np.random.randn(500, 1) - 2\n",
    "\n",
    "plt.figure(1)\n",
    "plt.plot(x_positive, y_positive, 'ro', label='Data1')\n",
    "plt.plot(x_negative, y_negative, 'bo', label='Data2')\n",
    "\n",
    "N = len(x_positive)\n",
    "POSITIVE = np.zeros((N,2))\n",
    "for i in xrange(N):\n",
    "  POSITIVE[i][0] = x_positive[i]\n",
    "  POSITIVE[i][1] = y_positive[i]\n",
    "\n",
    "NEGATIVE = np.zeros((N,2))\n",
    "for i in xrange(N):\n",
    "  NEGATIVE[i][0] = x_negative[i]\n",
    "  NEGATIVE[i][1] = y_negative[i]\n",
    "\n",
    "VIRUS = np.vstack([NEGATIVE, POSITIVE]).astype(np.float32)\n",
    "\n",
    "print VIRUS\n",
    "\n",
    "STATE = np.zeros((N*2,2), dtype=np.float32)\n",
    "for i in xrange(N*2):\n",
    "  if i < N:\n",
    "    STATE[i][1] = 1\n",
    "  else:\n",
    "    STATE[i][0] = 1\n",
    "\n",
    "print STATE"
   ]
  },
  {
   "cell_type": "markdown",
   "metadata": {},
   "source": [
    "TensorFlow処理"
   ]
  },
  {
   "cell_type": "code",
   "execution_count": 223,
   "metadata": {
    "collapsed": false
   },
   "outputs": [
    {
     "name": "stdout",
     "output_type": "stream",
     "text": [
      "initialization\n",
      "step 0, cost 0.679459, accuracy 0.973000\n",
      "step 100, cost 0.402448, accuracy 0.996000\n",
      "step 200, cost 0.368173, accuracy 0.996000\n",
      "step 300, cost 0.354790, accuracy 0.996000\n",
      "step 400, cost 0.347494, accuracy 0.996000\n",
      "step 500, cost 0.342836, accuracy 0.996000\n",
      "step 600, cost 0.339573, accuracy 0.996000\n",
      "step 700, cost 0.337142, accuracy 0.996000\n",
      "step 800, cost 0.335252, accuracy 0.996000\n",
      "step 900, cost 0.333735, accuracy 0.997000\n",
      "step 1000, cost 0.332485, accuracy 0.997000\n",
      "flag position is 1\n",
      "flag position is 0\n"
     ]
    }
   ],
   "source": [
    "\n",
    "def showGraph():\n",
    "  for operation in tf.get_default_graph().get_operations():\n",
    "    for output in operation.outputs:\n",
    "      print \"op_name = %s, output_name = %s\" %(operation.name, output.name)\n",
    "\n",
    "\n",
    "tf.reset_default_graph()\n",
    "LOG_DIR = \"./data_virus/\"\n",
    "_w = \"\"\n",
    "_b = \"\"\n",
    "g_1 = tf.Graph()\n",
    "with g_1.as_default():\n",
    "\n",
    "  x = tf.placeholder(tf.float32, shape=(None,2))\n",
    "  y = tf.placeholder(tf.float32, shape=(None,2))\n",
    "  w = tf.Variable(tf.random_normal([2,2], stddev=0.01), dtype=tf.float32, name=\"weight\")\n",
    "  b = tf.Variable(tf.random_normal([2], stddev=0.01), dtype=tf.float32, name=\"bias\")\n",
    "\n",
    "  # ロジスティック回帰のモデルを定義\n",
    "  y_pred = tf.nn.softmax(tf.matmul(x,w) + b, name=\"forward\")\n",
    "\n",
    "  # コストの計算\n",
    "  loss = tf.nn.softmax_cross_entropy_with_logits(labels=y,logits=y_pred, name=\"entropy\")\n",
    "  cost = tf.reduce_mean(loss, 0, name=\"reduce\")\n",
    "\n",
    "  # 精度の計算\n",
    "  correct_pred = tf.equal(tf.argmax(y_pred,1), tf.argmax(STATE,1))\n",
    "  accuracy_op = tf.reduce_mean(tf.cast(correct_pred, tf.float32))\n",
    "\n",
    "  # 予測\n",
    "  predict_op = tf.argmax(y_pred, 1, name=\"predict_op\")\n",
    "\n",
    "  # TensorBoardへの反映\n",
    "  w_graph = tf.summary.histogram(\"W_graph\", w)\n",
    "  b_graph = tf.summary.histogram(\"b_graph\", b)\n",
    "  y_graph = tf.summary.histogram(\"y_graph\", y)\n",
    "  cost_graph = tf.summary.scalar(\"cost_graph\", cost)\n",
    "\n",
    "  # 学習済みモデルの保存準備\n",
    "  saver = tf.train.Saver()\n",
    "\n",
    "  # トレーニング\n",
    "  learning_rate = 0.01\n",
    "  train_op = tf.train.GradientDescentOptimizer(learning_rate).minimize(cost)\n",
    "\n",
    "  # Summary\n",
    "  summary_writer = tf.summary.FileWriter(LOG_DIR, sess.graph)\n",
    "  summary_op = tf.summary.merge_all()\n",
    "\n",
    "  with tf.Session() as sess:\n",
    "    \n",
    "    print(\"initialization\")\n",
    "    # 初期化処理\n",
    "    init_op = tf.global_variables_initializer()\n",
    "    sess.run(init_op)  \n",
    "  \n",
    "    # トレーニング回数\n",
    "    training_step = 1001\n",
    "    validation_step = 100\n",
    "\n",
    "    # トレーニング\n",
    "    for step in xrange(training_step):\n",
    "      sess.run(train_op, feed_dict={x: VIRUS, y: STATE})\n",
    "\n",
    "      if step % validation_step == 0:\n",
    "        accuracy_output,cost_output = sess.run([accuracy_op,cost], feed_dict={x: VIRUS, y: STATE})\n",
    "        print \"step %d, cost %f, accuracy %f\" % (step,cost_output,accuracy_output)\n",
    "\n",
    "        # TensorBoardにも反映\n",
    "        summary_str = sess.run(summary_op, feed_dict={x: VIRUS, y: STATE})\n",
    "        summary_writer.add_summary(summary_str, step)\n",
    "\n",
    "        # 学習済みモデルの保存　ファイル名：checkpointとvirus-model-100.[data-00000-of-00001|index|meta] (step=100の場合)が作られる\n",
    "        #saver.save(sess, \"trained-virus\", global_step=step)\n",
    "\n",
    "    summary_writer.flush()\n",
    "  \n",
    "    # Store variable\n",
    "    _w = w.eval(sess)\n",
    "    _b = b.eval(sess)\n",
    "\n",
    "    # check anser\n",
    "    data = [[-2,-2]]\n",
    "    x_check = np.array(data)\n",
    "    flag_pos = sess.run(predict_op, feed_dict={x: x_check})\n",
    "    print \"flag position is %d\" % (flag_pos)\n",
    "    data = [[2,2]]\n",
    "    x_check = np.array(data)\n",
    "    flag_pos = sess.run(predict_op, feed_dict={x: x_check})\n",
    "    print \"flag position is %d\" % (flag_pos)\n",
    "\n",
    "sess.close()"
   ]
  },
  {
   "cell_type": "code",
   "execution_count": 107,
   "metadata": {
    "collapsed": false
   },
   "outputs": [],
   "source": [
    "!rm model-virus.pb"
   ]
  },
  {
   "cell_type": "code",
   "execution_count": 225,
   "metadata": {
    "collapsed": false
   },
   "outputs": [
    {
     "name": "stdout",
     "output_type": "stream",
     "text": [
      "<dtype: 'float32'>\n",
      "<dtype: 'float32'>\n",
      "[[ 4.  4.]]\n",
      "flag position is 1\n",
      "flag position is 0\n"
     ]
    }
   ],
   "source": [
    "g_2 = tf.Graph()\n",
    "with g_2.as_default():\n",
    "    \n",
    "  x_2 = tf.placeholder(tf.float32, shape=(None,2), name=\"input\")\n",
    "  y_2 = tf.placeholder(tf.float32, shape=(None,2))\n",
    "  w_2 = tf.constant(_w, shape=(2,2), dtype=tf.float32, name=\"constant_w\")\n",
    "  b_2 = tf.constant(_b, shape=[2], dtype=tf.float32, name=\"constant_b\")\n",
    "  \n",
    "  print y_2.dtype\n",
    "  with tf.Session() as sess_2:\n",
    "    init_op2 = tf.global_variables_initializer()\n",
    "    sess_2.run(init_op2)  \n",
    "\n",
    "    # ロジスティック回帰のモデルを定義\n",
    "    y_pred2 = tf.nn.softmax(tf.matmul(x_2,w_2) + b_2, name=\"output\")\n",
    "    print y_pred2.dtype\n",
    "    # 予測\n",
    "    predict_op200 = tf.cast(tf.argmax(y_pred2, 1), tf.float32, name=\"predict_op200\")\n",
    "   \n",
    "    \n",
    "    # Add Operation(Test)\n",
    "    add_op = tf.add(x_2,x_2, name=\"add_op\")\n",
    "    print sess_2.run(add_op,feed_dict={x_2: x_check2})\n",
    "\n",
    "    # check anser\n",
    "    data2 = [[-2.0,-2.0]]\n",
    "    x_check2 = np.array(data2)\n",
    "    flag_pos2 = sess_2.run(predict_op200, feed_dict={x_2: x_check2})\n",
    "    print \"flag position is %d\" % (flag_pos2)\n",
    "    data2 = [[2.0,2.0]]\n",
    "    x_check2 = np.array(data2)\n",
    "    flag_pos2 = sess_2.run(predict_op200, feed_dict={x_2: x_check2})\n",
    "    print \"flag position is %d\" % (flag_pos2)\n",
    "    \n",
    "  graph_def = g_2.as_graph_def()\n",
    "  tf.train.write_graph(graph_def, './', 'graph-virus.pb', as_text=False)\n",
    "  tf.train.write_graph(graph_def, './', 'graph-virus.pbtxt', as_text=True)\n",
    "    \n",
    "sess_2.close()"
   ]
  },
  {
   "cell_type": "code",
   "execution_count": null,
   "metadata": {
    "collapsed": true
   },
   "outputs": [],
   "source": []
  },
  {
   "cell_type": "code",
   "execution_count": null,
   "metadata": {
    "collapsed": true
   },
   "outputs": [],
   "source": []
  }
 ],
 "metadata": {
  "kernelspec": {
   "display_name": "Python 2",
   "language": "python",
   "name": "python2"
  },
  "language_info": {
   "codemirror_mode": {
    "name": "ipython",
    "version": 2
   },
   "file_extension": ".py",
   "mimetype": "text/x-python",
   "name": "python",
   "nbconvert_exporter": "python",
   "pygments_lexer": "ipython2",
   "version": "2.7.9"
  }
 },
 "nbformat": 4,
 "nbformat_minor": 2
}
