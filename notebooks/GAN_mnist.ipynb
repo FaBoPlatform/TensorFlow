{
  "nbformat": 4,
  "nbformat_minor": 0,
  "metadata": {
    "colab": {
      "name": "GAN_for_docs.ipynb",
      "version": "0.3.2",
      "views": {},
      "default_view": {},
      "provenance": [],
      "collapsed_sections": []
    },
    "kernelspec": {
      "name": "python3",
      "display_name": "Python 3"
    },
    "accelerator": "GPU"
  },
  "cells": [
    {
      "metadata": {
        "id": "DVSobA65j96C",
        "colab_type": "code",
        "colab": {
          "autoexec": {
            "startup": false,
            "wait_interval": 0
          }
        }
      },
      "cell_type": "code",
      "source": [
        "import numpy as np\n",
        "import tensorflow as tf\n",
        "import matplotlib.pyplot as plt\n",
        "%matplotlib inline"
      ],
      "execution_count": 0,
      "outputs": []
    },
    {
      "metadata": {
        "id": "MPZD-757kRwU",
        "colab_type": "code",
        "colab": {
          "autoexec": {
            "startup": false,
            "wait_interval": 0
          }
        }
      },
      "cell_type": "code",
      "source": [
        "import time\n",
        "from pathlib import Path\n",
        "from PIL import Image\n",
        "from tensorflow.contrib.learn.python.learn.datasets import mnist\n",
        "import csv"
      ],
      "execution_count": 0,
      "outputs": []
    },
    {
      "metadata": {
        "id": "_Wqsy_5EkS44",
        "colab_type": "code",
        "colab": {
          "autoexec": {
            "startup": false,
            "wait_interval": 0
          },
          "base_uri": "https://localhost:8080/",
          "height": 687
        },
        "outputId": "22837698-edb8-43e5-ea0b-5d6265635a0c",
        "executionInfo": {
          "status": "ok",
          "timestamp": 1526440544329,
          "user_tz": -540,
          "elapsed": 3036,
          "user": {
            "displayName": "村山ひさみ",
            "photoUrl": "https://lh3.googleusercontent.com/a/default-user=s128",
            "userId": "113874243179507049880"
          }
        }
      },
      "cell_type": "code",
      "source": [
        "dataset = mnist.read_data_sets('MNIST_data', one_hot=True)\n",
        "img = np.array(dataset.train.images[753])\n",
        "plt.imshow(img.reshape(28,28))"
      ],
      "execution_count": 3,
      "outputs": [
        {
          "output_type": "stream",
          "text": [
            "WARNING:tensorflow:From <ipython-input-3-83077b4c4c83>:1: read_data_sets (from tensorflow.contrib.learn.python.learn.datasets.mnist) is deprecated and will be removed in a future version.\n",
            "Instructions for updating:\n",
            "Please use alternatives such as official/mnist/dataset.py from tensorflow/models.\n",
            "WARNING:tensorflow:From /usr/local/lib/python3.6/dist-packages/tensorflow/contrib/learn/python/learn/datasets/mnist.py:260: maybe_download (from tensorflow.contrib.learn.python.learn.datasets.base) is deprecated and will be removed in a future version.\n",
            "Instructions for updating:\n",
            "Please write your own downloading logic.\n",
            "WARNING:tensorflow:From /usr/local/lib/python3.6/dist-packages/tensorflow/contrib/learn/python/learn/datasets/mnist.py:262: extract_images (from tensorflow.contrib.learn.python.learn.datasets.mnist) is deprecated and will be removed in a future version.\n",
            "Instructions for updating:\n",
            "Please use tf.data to implement this functionality.\n",
            "Extracting MNIST_data/train-images-idx3-ubyte.gz\n",
            "WARNING:tensorflow:From /usr/local/lib/python3.6/dist-packages/tensorflow/contrib/learn/python/learn/datasets/mnist.py:267: extract_labels (from tensorflow.contrib.learn.python.learn.datasets.mnist) is deprecated and will be removed in a future version.\n",
            "Instructions for updating:\n",
            "Please use tf.data to implement this functionality.\n",
            "Extracting MNIST_data/train-labels-idx1-ubyte.gz\n",
            "WARNING:tensorflow:From /usr/local/lib/python3.6/dist-packages/tensorflow/contrib/learn/python/learn/datasets/mnist.py:110: dense_to_one_hot (from tensorflow.contrib.learn.python.learn.datasets.mnist) is deprecated and will be removed in a future version.\n",
            "Instructions for updating:\n",
            "Please use tf.one_hot on tensors.\n",
            "Extracting MNIST_data/t10k-images-idx3-ubyte.gz\n",
            "Extracting MNIST_data/t10k-labels-idx1-ubyte.gz\n",
            "WARNING:tensorflow:From /usr/local/lib/python3.6/dist-packages/tensorflow/contrib/learn/python/learn/datasets/mnist.py:290: DataSet.__init__ (from tensorflow.contrib.learn.python.learn.datasets.mnist) is deprecated and will be removed in a future version.\n",
            "Instructions for updating:\n",
            "Please use alternatives such as official/mnist/dataset.py from tensorflow/models.\n"
          ],
          "name": "stdout"
        },
        {
          "output_type": "execute_result",
          "data": {
            "text/plain": [
              "<matplotlib.image.AxesImage at 0x7fb69cf426a0>"
            ]
          },
          "metadata": {
            "tags": []
          },
          "execution_count": 3
        },
        {
          "output_type": "display_data",
          "data": {
            "image/png": "[encoded data removed]",
            "text/plain": [
              "<matplotlib.figure.Figure at 0x7fb69f019d30>"
            ]
          },
          "metadata": {
            "tags": []
          }
        }
      ]
    },
    {
      "metadata": {
        "id": "Yh28jKFVkXKT",
        "colab_type": "code",
        "colab": {
          "autoexec": {
            "startup": false,
            "wait_interval": 0
          }
        }
      },
      "cell_type": "code",
      "source": [
        "def batch_norm(X, scale, offset, axes, is_train,device_name='/cpu:0'):\n",
        "    # 予測のときにはそのまんまの値を返す\n",
        "    if is_train is False:\n",
        "        return X\n",
        "    \n",
        "    epsilon = 1e-5\n",
        "    with tf.device(device_name):\n",
        "        mean, variance = tf.nn.moments(X, axes)\n",
        "        bn = tf.nn.batch_normalization(X, mean, variance, offset, scale, epsilon)\n",
        "        \n",
        "    return bn\n",
        "\n",
        "class Generator():\n",
        "    def __init__(self,device_name='/cpu:0'):\n",
        "        \n",
        "        # Generator parameter         \n",
        "        with tf.device(device_name):\n",
        "            self.gen_w1 = tf.Variable(tf.truncated_normal(shape=[100,256],stddev=0.02,dtype=tf.float32),name=\"gen_w1\")\n",
        "            self.gen_b1 = tf.Variable(tf.truncated_normal(shape=[256],stddev=0.02,dtype=tf.float32),name=\"gen_b1\")\n",
        "\n",
        "            self.gen_w2 = tf.Variable(tf.truncated_normal([256,512],stddev=0.02,dtype=tf.float32),name=\"gen_w2\")\n",
        "            self.gen_b2 = tf.Variable(tf.truncated_normal(shape=[512],stddev=0.02,dtype=tf.float32),name=\"gen_b2\")\n",
        "\n",
        "            self.gen_w3 = tf.Variable(tf.truncated_normal([512,1024],stddev=0.02,dtype=tf.float32),name=\"gen_w3\")\n",
        "            self.gen_b3 = tf.Variable(tf.truncated_normal(shape=[1024],stddev=0.02,dtype=tf.float32),name=\"gen_b3\")\n",
        "\n",
        "            self.gen_w4 = tf.Variable(tf.truncated_normal([1024,28*28],stddev=0.02,dtype=tf.float32),name=\"gen_w4\")\n",
        "            self.gen_b4 = tf.Variable(tf.truncated_normal(shape=[28*28],stddev=0.02,dtype=tf.float32),name=\"gen_b4\")\n",
        "\n",
        "            self.gen_scale_w1 = tf.Variable(tf.ones([256]),name=\"gen_scale_w1\")\n",
        "            self.gen_offset_w1 = tf.Variable(tf.zeros([256]),name=\"gen_offset_w1\")\n",
        "\n",
        "            self.gen_scale_w2 = tf.Variable(tf.ones([512]),name=\"gen_scale_w2\")\n",
        "            self.gen_offset_w2 = tf.Variable(tf.zeros([512]),name=\"gen_offset_w2\")\n",
        "\n",
        "            self.gen_scale_w3 = tf.Variable(tf.ones([1024]),name=\"gen_scale_w3\")\n",
        "            self.gen_offset_w3 = tf.Variable(tf.zeros([1024]),name=\"gen_offset_w3\")\n",
        "\n",
        "            self.keep_prob = tf.placeholder(tf.float32)     \n",
        "        \n",
        "    def run(self,z,is_train,device_name='/cpu:0'):\n",
        "        \n",
        "        with tf.device(device_name):\n",
        "            h1 = tf.nn.leaky_relu(tf.nn.xw_plus_b(z,self.gen_w1,self.gen_b1),alpha=0.2)\n",
        "            h1 = batch_norm(h1,self.gen_scale_w1,self.gen_offset_w1,[0],is_train,device_name)\n",
        "\n",
        "            h2 = tf.nn.leaky_relu(tf.nn.xw_plus_b(h1,self.gen_w2,self.gen_b2),alpha=0.2)\n",
        "            h2 = batch_norm(h2,self.gen_scale_w2,self.gen_offset_w2,[0],is_train,device_name)\n",
        "\n",
        "            h3 = tf.nn.leaky_relu(tf.nn.xw_plus_b(h2,self.gen_w3,self.gen_b3),alpha=0.2)\n",
        "            h3 = batch_norm(h3,self.gen_scale_w3,self.gen_offset_w3,[0],is_train,device_name)\n",
        "            h3_drop = tf.nn.dropout(h3, self.keep_prob)\n",
        "\n",
        "            fc = tf.nn.sigmoid(tf.nn.xw_plus_b(h3_drop,self.gen_w4,self.gen_b4))\n",
        "                \n",
        "        return fc\n",
        "\n",
        "class Discrimitor():\n",
        "    def __init__(self,device_name='/cpu:0'):\n",
        "        # Discrimitor parameter\n",
        "        with tf.device(device_name):        \n",
        "            self.dis_w1 = tf.Variable(tf.truncated_normal([28*28,1024],stddev=0.02,dtype=tf.float32),name=\"dis_w1\")\n",
        "            self.dis_b1 = tf.Variable(tf.truncated_normal([1024],stddev=0.02,dtype=tf.float32),name=\"dis_b1\")\n",
        "\n",
        "            self.dis_w2 = tf.Variable(tf.truncated_normal([1024,512],stddev=0.02,dtype=tf.float32),name=\"dis_w2\")\n",
        "            self.dis_b2 = tf.Variable(tf.truncated_normal([512],stddev=0.02,dtype=tf.float32),name=\"dis_b2\")\n",
        "\n",
        "            self.dis_w3 = tf.Variable(tf.truncated_normal([512,256],stddev=0.02,dtype=tf.float32),name=\"dis_w3\")\n",
        "            self.dis_b3 = tf.Variable(tf.truncated_normal([256],stddev=0.02,dtype=tf.float32),name=\"dis_b3\")\n",
        "\n",
        "            self.dis_w4 = tf.Variable(tf.truncated_normal([256,1],stddev=0.02,dtype=tf.float32),name=\"dis_w4\")\n",
        "            self.dis_b4 = tf.Variable(tf.truncated_normal([1],stddev=0.02,dtype=tf.float32),name=\"dis_b4\")\n",
        "\n",
        "        \n",
        "    def run(self,x,device_name='/cpu:0'):\n",
        "        \n",
        "        with tf.device(device_name):\n",
        "            h1 = tf.nn.leaky_relu(tf.nn.xw_plus_b(x,self.dis_w1,self.dis_b1),alpha=0.2)\n",
        "            h2 = tf.nn.leaky_relu(tf.nn.xw_plus_b(h1,self.dis_w2,self.dis_b2),alpha=0.2)   \n",
        "            h3 = tf.nn.leaky_relu(tf.nn.xw_plus_b(h2,self.dis_w3,self.dis_b3),alpha=0.2)\n",
        "\n",
        "            fc = tf.nn.sigmoid(tf.nn.xw_plus_b(h3,self.dis_w4,self.dis_b4))\n",
        "                \n",
        "        return fc\n",
        "    \n",
        "class GAN():\n",
        "    def __init__(self,using_gpu):\n",
        "        self.device_name = '/cpu:0'\n",
        "        if(using_gpu):\n",
        "            self.device_name = '/gpu:0'\n",
        "        \n",
        "        print('using : {}'.format(self.device_name))\n",
        "        \n",
        "        with tf.device(self.device_name):\n",
        "            self.is_train = tf.placeholder(tf.bool)\n",
        "            self.input_X = tf.placeholder(tf.float32, shape=(None,28*28))\n",
        "\n",
        "            # t0は0のラベルを格納し、t1は1のラベルを格納する\n",
        "            self.label_t0 = tf.placeholder(tf.float32, shape=(None,1))\n",
        "            self.label_t1 = tf.placeholder(tf.float32, shape=(None,1))\n",
        "\n",
        "            # Generator\n",
        "            self.generator = Generator(device_name=self.device_name)\n",
        "            # 生成モデルに必要なノイズの入れ物\n",
        "            self.gen_z = tf.placeholder(tf.float32, shape=(None,100))\n",
        "\n",
        "            # Discrimitor \n",
        "            self.discrimitor = Discrimitor(device_name=self.device_name)\n",
        "\n",
        "            # weight decay\n",
        "            gen_norm_term = tf.nn.l2_loss(self.generator.gen_w2) + tf.nn.l2_loss(self.generator.gen_w3) + tf.nn.l2_loss(self.generator.gen_w4)\n",
        "            gen_lambda_ = 0.001\n",
        "\n",
        "            dis_norm_term = tf.nn.l2_loss(self.discrimitor.dis_w2) + tf.nn.l2_loss(self.discrimitor.dis_w3)\n",
        "            dis_lambda_ = 0.001\n",
        "\n",
        "            # 訓練データの識別予測\n",
        "            input_X = self.discrimitor.run(self.input_X,device_name=self.device_name)\n",
        "            # 生成されたデータの識別yosoku\n",
        "            generated_X = self.discrimitor.run(self.generator.run(z=self.gen_z,is_train=self.is_train,device_name=self.device_name))\n",
        "\n",
        "            self.dis_entropy_X = tf.nn.sigmoid_cross_entropy_with_logits(labels=self.label_t1, logits=input_X)  \n",
        "            self.dis_entropy_G = tf.nn.sigmoid_cross_entropy_with_logits(labels=self.label_t0, logits=generated_X)   \n",
        "            self.dis_loss = tf.reduce_mean(self.dis_entropy_X + self.dis_entropy_G) #+ dis_norm_term*dis_lambda_\n",
        "\n",
        "            self.gen_entropy = tf.nn.sigmoid_cross_entropy_with_logits(labels=self.label_t1,logits=generated_X)\n",
        "            self.gen_loss = tf.reduce_mean(self.gen_entropy) #+ gen_norm_term*gen_lambda_\n",
        "\n",
        "            # 最適化する際にDならDのみのパラメータを、GならGのみのパラメータを更新するようにしたいのでモデル別の変数を取得する\n",
        "            dis_vars = [x for x in tf.trainable_variables() if \"dis_\" in x.name]\n",
        "            gen_vars = [x for x in tf.trainable_variables() if \"gen_\" in x.name]\n",
        "\n",
        "            # 識別モデルDの最適化\n",
        "            self.opt_d = tf.train.AdamOptimizer(0.0002, beta1=0.1).minimize(self.dis_loss,var_list=[dis_vars])\n",
        "            # 生成モデルGの最適化\n",
        "            self.opt_g = tf.train.AdamOptimizer(0.0002, beta1=0.5).minimize(self.gen_loss,var_list=[gen_vars])\n",
        "        \n",
        "    def train(self\n",
        "                  , X_train = None \n",
        "                  , batch_size = 100\n",
        "                  , epoch_num = 1000\n",
        "                  , imgpath = './mnist_GAN_images/'\n",
        "                  , ckptpath = './mnist_GAN_checkpoints/'\n",
        "                  , log_file='mnist_GAN_loss_log.csv'\n",
        "                  , init = False):\n",
        "        \n",
        "        if X_train is None:\n",
        "            raise TypeError(\"X_train is None\")\n",
        "\n",
        "        # 訓練途中で生成データを作成して保存したいのでその保存先の作成\n",
        "        p = Path(imgpath)\n",
        "        if not(p.is_dir()):\n",
        "            p.mkdir()\n",
        "        \n",
        "        # モデルパラメータのチェックポイントの保存先\n",
        "        ckpt_p = Path(ckptpath)\n",
        "        if not(ckpt_p.is_dir()):\n",
        "            ckpt_p.mkdir()\n",
        "            \n",
        "        config = tf.ConfigProto()\n",
        "        config.gpu_options.allow_growth = True\n",
        "        \n",
        "        saver = tf.train.Saver()\n",
        "        \n",
        "        sess = tf.Session()\n",
        "        \n",
        "        if(init):\n",
        "            sess.run(tf.global_variables_initializer())\n",
        "            print('Initialize')\n",
        "            \n",
        "        ckpt = tf.train.get_checkpoint_state(str(ckpt_p.absolute()))\n",
        "        if ckpt:\n",
        "            # checkpointファイルから最後に保存したモデルへのパスを取得する\n",
        "            last_model = ckpt.model_checkpoint_path\n",
        "            print(\"load {0}\".format(last_model))\n",
        "            # 学習済みモデルを読み込む\n",
        "            saver.restore(sess, last_model)        \n",
        "            \n",
        "        step = len(X_train) // batch_size\n",
        "        \n",
        "        # 正解ラベルのミニバッチ\n",
        "        t1_batch = np.ones((batch_size,1),dtype=np.float32)\n",
        "        t0_batch = np.zeros((batch_size,1),dtype=np.float32)\n",
        "\n",
        "        for epoch in range(epoch_num):            \n",
        "            \n",
        "            perm = np.random.permutation(len(X_train))\n",
        "            # １エポックごとにかかる時間の計測\n",
        "            start = time.time()\n",
        "            for k in range(step):\n",
        "                #X_batch = mnist.train.next_batch(batch_size)[0] /255.\n",
        "                X_batch = X_train[perm][k*batch_size:(k+1)*batch_size]\n",
        "                \n",
        "                # Train Discrimitor\n",
        "                # ノイズ事前分布からノイズをミニバッチ分取得\n",
        "                noise_z = np.random.uniform(-1,1, size=[batch_size, 100]).astype(np.float32)\n",
        "\n",
        "                sess.run(self.opt_d, feed_dict = {self.input_X:X_batch\n",
        "                                                                          , self.is_train:False\n",
        "                                                                          , self.gen_z:noise_z\n",
        "                                                                          , self.generator.keep_prob:1.0\n",
        "                                                                          , self.label_t1:t1_batch\n",
        "                                                                          , self.label_t0:t0_batch})\n",
        "                \n",
        "                if k % 1 == 0:\n",
        "                    # Train Generator\n",
        "                    # ノイズ事前分布からノイズをミニバッチ分取得\n",
        "                    noise_z = np.random.uniform(-1,1, size=[batch_size, 100]).astype(np.float32)\n",
        "                    sess.run(self.opt_g, feed_dict = {self.gen_z:noise_z\n",
        "                                                                              , self.is_train:True\n",
        "                                                                              , self.generator.keep_prob:0.5\n",
        "                                                                              , self.label_t1:t1_batch})\n",
        "            \n",
        "            # 1epoch終了時の損失を表示\n",
        "            noise_z = np.random.uniform(-1,1, size=[batch_size, 100]).astype(np.float32)\n",
        "            train_dis_loss = sess.run(self.dis_loss, feed_dict = {self.input_X:X_batch\n",
        "                                                                                                      , self.is_train:False\n",
        "                                                                                                      , self.gen_z:noise_z\n",
        "                                                                                                      , self.generator.keep_prob:1.0\n",
        "                                                                                                      , self.label_t1:t1_batch\n",
        "                                                                                                      , self.label_t0:t0_batch})\n",
        "\n",
        "            train_gen_loss = sess.run(self.gen_loss, feed_dict ={self.gen_z:noise_z\n",
        "                                                                                                      , self.is_train:False\n",
        "                                                                                                      , self.generator.keep_prob:1.0\n",
        "                                                                                                      , self.label_t1:t1_batch})\n",
        "\n",
        "            print(\"[Train] epoch: %d, dis loss: %f , gen loss : %f  Time : %f\" % (epoch, train_dis_loss, train_gen_loss, time.time() - start))\n",
        "            \n",
        "            saver.save(sess, str(ckpt_p.absolute())+'/GAN-mnist')\n",
        "            \n",
        "            # lossの記録\n",
        "            f = open(log_file, 'a')\n",
        "            log_writer = csv.writer(f, lineterminator='\\n')\n",
        "            loss_list = []\n",
        "            loss_list.append(epoch)\n",
        "            loss_list.append(train_dis_loss)\n",
        "            loss_list.append(train_gen_loss)\n",
        "            # 損失の値を書き込む\n",
        "            log_writer.writerow(loss_list)\n",
        "            f.close()       \n",
        "            \n",
        "            # 10epoch終了毎に生成モデルから5枚の画像を生成する\n",
        "            if epoch % 10 == 0:\n",
        "                noise_z = np.random.uniform(-1,1, size=[5, 100]).astype(np.float32)\n",
        "                z_const = tf.constant(noise_z,dtype=tf.float32)\n",
        "                gen_imgs = sess.run(self.generator.run(z_const, is_train=False),feed_dict={self.generator.keep_prob:1.0}) * 255.\n",
        "                for i,img in enumerate(gen_imgs):\n",
        "                    Image.fromarray(img.reshape(28,28)).convert('RGB').save(\n",
        "                            str(p.absolute())+'/generate_img_epoch{0}_{1}.jpg'.format(epoch, i)\n",
        "                    )"
      ],
      "execution_count": 0,
      "outputs": []
    },
    {
      "metadata": {
        "id": "nquVHSzwl8hO",
        "colab_type": "code",
        "colab": {
          "autoexec": {
            "startup": false,
            "wait_interval": 0
          },
          "base_uri": "https://localhost:8080/",
          "height": 35
        },
        "outputId": "dc9029cb-ba96-49f3-94d9-d5ed21ed0f42",
        "executionInfo": {
          "status": "ok",
          "timestamp": 1526440560327,
          "user_tz": -540,
          "elapsed": 1432,
          "user": {
            "displayName": "村山ひさみ",
            "photoUrl": "https://lh3.googleusercontent.com/a/default-user=s128",
            "userId": "113874243179507049880"
          }
        }
      },
      "cell_type": "code",
      "source": [
        "X_train = np.r_[dataset.train.images]\n",
        "len(X_train)"
      ],
      "execution_count": 5,
      "outputs": [
        {
          "output_type": "execute_result",
          "data": {
            "text/plain": [
              "55000"
            ]
          },
          "metadata": {
            "tags": []
          },
          "execution_count": 5
        }
      ]
    },
    {
      "metadata": {
        "id": "_QUqvrmOmw4_",
        "colab_type": "code",
        "colab": {
          "autoexec": {
            "startup": false,
            "wait_interval": 0
          },
          "base_uri": "https://localhost:8080/",
          "height": 35
        },
        "outputId": "f02e6ddf-c0de-46b4-8dcb-71d3c6a2d327",
        "executionInfo": {
          "status": "ok",
          "timestamp": 1526440561527,
          "user_tz": -540,
          "elapsed": 1098,
          "user": {
            "displayName": "村山ひさみ",
            "photoUrl": "https://lh3.googleusercontent.com/a/default-user=s128",
            "userId": "113874243179507049880"
          }
        }
      },
      "cell_type": "code",
      "source": [
        "import tensorflow as tf\n",
        "\n",
        "device_name = tf.test.gpu_device_name()\n",
        "if device_name != '/device:GPU:0':\n",
        "  raise SystemError('GPU device not found')\n",
        "print('Found GPU at: {}'.format(device_name))"
      ],
      "execution_count": 6,
      "outputs": [
        {
          "output_type": "stream",
          "text": [
            "Found GPU at: /device:GPU:0\n"
          ],
          "name": "stdout"
        }
      ]
    },
    {
      "metadata": {
        "id": "7MfqdJf6mFky",
        "colab_type": "code",
        "colab": {
          "autoexec": {
            "startup": false,
            "wait_interval": 0
          },
          "base_uri": "https://localhost:8080/",
          "height": 1295
        },
        "outputId": "5fc43976-c246-4145-82dd-0c1f6a46a3ca",
        "executionInfo": {
          "status": "ok",
          "timestamp": 1526443900731,
          "user_tz": -540,
          "elapsed": 3328246,
          "user": {
            "displayName": "村山ひさみ",
            "photoUrl": "https://lh3.googleusercontent.com/a/default-user=s128",
            "userId": "113874243179507049880"
          }
        }
      },
      "cell_type": "code",
      "source": [
        "model = GAN(using_gpu=True)\n",
        "model.train(\n",
        "    X_train=X_train,\n",
        "    batch_size=100,\n",
        "    epoch_num=71,\n",
        "    init=True,\n",
        "    ckptpath='./mnist_GAN_checkpoints_adam_gpu/',\n",
        "    imgpath='./mnist_GAN_images_gpu/')"
      ],
      "execution_count": 7,
      "outputs": [
        {
          "output_type": "stream",
          "text": [
            "using : /gpu:0\n",
            "Initialize\n",
            "[Train] epoch: 0, dis loss: 1.009230 , gen loss : 0.692398  Time : 47.622355\n",
            "[Train] epoch: 1, dis loss: 1.011563 , gen loss : 0.692015  Time : 46.579700\n",
            "[Train] epoch: 2, dis loss: 1.011738 , gen loss : 0.691160  Time : 46.584012\n",
            "[Train] epoch: 3, dis loss: 1.023454 , gen loss : 0.690356  Time : 46.520867\n",
            "[Train] epoch: 4, dis loss: 1.117988 , gen loss : 0.668713  Time : 46.723519\n",
            "[Train] epoch: 5, dis loss: 1.119901 , gen loss : 0.641968  Time : 46.760487\n",
            "[Train] epoch: 6, dis loss: 1.044820 , gen loss : 0.673244  Time : 46.622514\n",
            "[Train] epoch: 7, dis loss: 1.055976 , gen loss : 0.682148  Time : 46.578947\n",
            "[Train] epoch: 8, dis loss: 1.130152 , gen loss : 0.635110  Time : 46.563222\n",
            "[Train] epoch: 9, dis loss: 1.088946 , gen loss : 0.693076  Time : 46.767577\n",
            "[Train] epoch: 10, dis loss: 1.095846 , gen loss : 0.692683  Time : 46.641538\n",
            "[Train] epoch: 11, dis loss: 1.082665 , gen loss : 0.683932  Time : 46.726766\n",
            "[Train] epoch: 12, dis loss: 1.127557 , gen loss : 0.630233  Time : 46.690552\n",
            "[Train] epoch: 13, dis loss: 1.264442 , gen loss : 0.685918  Time : 46.551000\n",
            "[Train] epoch: 14, dis loss: 1.103934 , gen loss : 0.658069  Time : 46.523895\n",
            "[Train] epoch: 15, dis loss: 1.282718 , gen loss : 0.515794  Time : 46.471814\n",
            "[Train] epoch: 16, dis loss: 1.100960 , gen loss : 0.646037  Time : 46.540557\n",
            "[Train] epoch: 17, dis loss: 1.124490 , gen loss : 0.657324  Time : 46.596446\n",
            "[Train] epoch: 18, dis loss: 1.136263 , gen loss : 0.688662  Time : 46.582171\n",
            "[Train] epoch: 19, dis loss: 1.103743 , gen loss : 0.671608  Time : 46.680514\n",
            "[Train] epoch: 20, dis loss: 1.124744 , gen loss : 0.687877  Time : 46.612873\n",
            "[Train] epoch: 21, dis loss: 1.180273 , gen loss : 0.591804  Time : 46.626600\n",
            "[Train] epoch: 22, dis loss: 1.126604 , gen loss : 0.662269  Time : 46.489635\n",
            "[Train] epoch: 23, dis loss: 1.089939 , gen loss : 0.667256  Time : 46.426664\n",
            "[Train] epoch: 24, dis loss: 1.154076 , gen loss : 0.686889  Time : 46.479826\n",
            "[Train] epoch: 25, dis loss: 1.187345 , gen loss : 0.686296  Time : 46.665545\n",
            "[Train] epoch: 26, dis loss: 1.171137 , gen loss : 0.595345  Time : 46.494476\n",
            "[Train] epoch: 27, dis loss: 1.123539 , gen loss : 0.645465  Time : 46.677718\n",
            "[Train] epoch: 28, dis loss: 1.189403 , gen loss : 0.683338  Time : 46.631998\n",
            "[Train] epoch: 29, dis loss: 1.129633 , gen loss : 0.659840  Time : 46.538452\n",
            "[Train] epoch: 30, dis loss: 1.203757 , gen loss : 0.587956  Time : 46.654553\n",
            "[Train] epoch: 31, dis loss: 1.154616 , gen loss : 0.628729  Time : 46.570834\n",
            "[Train] epoch: 32, dis loss: 1.094773 , gen loss : 0.641864  Time : 46.652084\n",
            "[Train] epoch: 33, dis loss: 1.109788 , gen loss : 0.670763  Time : 46.624471\n",
            "[Train] epoch: 34, dis loss: 1.125469 , gen loss : 0.640214  Time : 46.654397\n",
            "[Train] epoch: 35, dis loss: 1.124560 , gen loss : 0.660836  Time : 46.655961\n",
            "[Train] epoch: 36, dis loss: 1.154784 , gen loss : 0.635519  Time : 46.694140\n",
            "[Train] epoch: 37, dis loss: 1.097549 , gen loss : 0.675193  Time : 46.763090\n",
            "[Train] epoch: 38, dis loss: 1.140625 , gen loss : 0.683676  Time : 46.559710\n",
            "[Train] epoch: 39, dis loss: 1.150841 , gen loss : 0.668891  Time : 46.513769\n",
            "[Train] epoch: 40, dis loss: 1.184569 , gen loss : 0.592819  Time : 46.584728\n",
            "[Train] epoch: 41, dis loss: 1.124178 , gen loss : 0.640517  Time : 46.604371\n",
            "[Train] epoch: 42, dis loss: 1.093706 , gen loss : 0.671411  Time : 46.532543\n",
            "[Train] epoch: 43, dis loss: 1.132620 , gen loss : 0.659972  Time : 46.552808\n",
            "[Train] epoch: 44, dis loss: 1.122146 , gen loss : 0.652284  Time : 46.511823\n",
            "[Train] epoch: 45, dis loss: 1.116439 , gen loss : 0.663878  Time : 46.483481\n",
            "[Train] epoch: 46, dis loss: 1.153327 , gen loss : 0.634049  Time : 46.603546\n",
            "[Train] epoch: 47, dis loss: 1.137854 , gen loss : 0.627700  Time : 46.639150\n",
            "[Train] epoch: 48, dis loss: 1.127564 , gen loss : 0.636351  Time : 46.715497\n"
          ],
          "name": "stdout"
        },
        {
          "output_type": "stream",
          "text": [
            "[Train] epoch: 49, dis loss: 1.117485 , gen loss : 0.660624  Time : 46.495108\n",
            "[Train] epoch: 50, dis loss: 1.128582 , gen loss : 0.684817  Time : 46.928948\n",
            "[Train] epoch: 51, dis loss: 1.127734 , gen loss : 0.659004  Time : 46.762568\n",
            "[Train] epoch: 52, dis loss: 1.110047 , gen loss : 0.681531  Time : 46.491295\n",
            "[Train] epoch: 53, dis loss: 1.088208 , gen loss : 0.687668  Time : 46.592987\n",
            "[Train] epoch: 54, dis loss: 1.146603 , gen loss : 0.668273  Time : 46.620784\n",
            "[Train] epoch: 55, dis loss: 1.107368 , gen loss : 0.655425  Time : 46.680190\n",
            "[Train] epoch: 56, dis loss: 1.083830 , gen loss : 0.655477  Time : 47.087676\n",
            "[Train] epoch: 57, dis loss: 1.132934 , gen loss : 0.622517  Time : 46.811362\n",
            "[Train] epoch: 58, dis loss: 1.091421 , gen loss : 0.672378  Time : 46.854156\n",
            "[Train] epoch: 59, dis loss: 1.121952 , gen loss : 0.646309  Time : 47.221495\n",
            "[Train] epoch: 60, dis loss: 1.088810 , gen loss : 0.669237  Time : 46.927561\n",
            "[Train] epoch: 61, dis loss: 1.172289 , gen loss : 0.662431  Time : 46.290212\n",
            "[Train] epoch: 62, dis loss: 1.113369 , gen loss : 0.671455  Time : 46.841925\n",
            "[Train] epoch: 63, dis loss: 1.148807 , gen loss : 0.649133  Time : 46.928395\n",
            "[Train] epoch: 64, dis loss: 1.117710 , gen loss : 0.674289  Time : 46.429658\n",
            "[Train] epoch: 65, dis loss: 1.154709 , gen loss : 0.669625  Time : 46.780473\n",
            "[Train] epoch: 66, dis loss: 1.135411 , gen loss : 0.626764  Time : 46.869681\n",
            "[Train] epoch: 67, dis loss: 1.178314 , gen loss : 0.590768  Time : 46.499808\n",
            "[Train] epoch: 68, dis loss: 1.113656 , gen loss : 0.648440  Time : 46.399014\n",
            "[Train] epoch: 69, dis loss: 1.131884 , gen loss : 0.685573  Time : 47.085084\n",
            "[Train] epoch: 70, dis loss: 1.121112 , gen loss : 0.676714  Time : 46.434835\n"
          ],
          "name": "stdout"
        }
      ]
    },
    {
      "metadata": {
        "id": "dOclj0pcVq8S",
        "colab_type": "code",
        "colab": {
          "autoexec": {
            "startup": false,
            "wait_interval": 0
          },
          "base_uri": "https://localhost:8080/",
          "height": 588
        },
        "outputId": "79da3135-37aa-4eae-b88b-9f3fd58e6b2b",
        "executionInfo": {
          "status": "ok",
          "timestamp": 1526448131959,
          "user_tz": -540,
          "elapsed": 4669,
          "user": {
            "displayName": "村山ひさみ",
            "photoUrl": "https://lh3.googleusercontent.com/a/default-user=s128",
            "userId": "113874243179507049880"
          }
        }
      },
      "cell_type": "code",
      "source": [
        "epoch_num = [0,10,20,30,40,50,60,70]\n",
        "\n",
        "plt.figure(figsize=(8,10))\n",
        "for i,epoch in enumerate(epoch_num):\n",
        "    for num in range(0,5):\n",
        "        img = Image.open('./mnist_GAN_images_gpu/generate_img_epoch{0}_{1}.jpg'.format(epoch,num), 'r')\n",
        "        # train data plot\n",
        "        plt.subplot(8, 5, num+i*5+1)\n",
        "        plt.title('epoch {0}'.format(epoch),fontsize=10)\n",
        "        plt.tick_params(labelbottom='off')\n",
        "        plt.tick_params(labelleft='off')\n",
        "        plt.grid(False)\n",
        "        plt.imshow(img)"
      ],
      "execution_count": 28,
      "outputs": [
        {
          "output_type": "display_data",
          "data": {
            "image/png": "[encoded data removed]",
            "text/plain": [
              "<matplotlib.figure.Figure at 0x7fb65c543588>"
            ]
          },
          "metadata": {
            "tags": []
          }
        }
      ]
    }
  ]
}