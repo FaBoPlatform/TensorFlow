{
 "cells": [
  {
   "cell_type": "code",
   "execution_count": 1,
   "metadata": {
    "collapsed": true
   },
   "outputs": [],
   "source": [
    "import numpy as np\n",
    "import pandas as pd\n",
    "import seaborn as sns\n",
    "import matplotlib.pyplot as plt\n",
    "import tensorflow as tf\n",
    "%matplotlib inline"
   ]
  },
  {
   "cell_type": "markdown",
   "metadata": {},
   "source": [
    "目的変数であるカテゴリの種類に偏りがあるので、ダウンサンプリングを行い、正と負の割合を等しくした時の精度を確認する。        \n",
    "\n"
   ]
  },
  {
   "cell_type": "code",
   "execution_count": 2,
   "metadata": {},
   "outputs": [
    {
     "data": {
      "text/html": [
       "<div>\n",
       "<style>\n",
       "    .dataframe thead tr:only-child th {\n",
       "        text-align: right;\n",
       "    }\n",
       "\n",
       "    .dataframe thead th {\n",
       "        text-align: left;\n",
       "    }\n",
       "\n",
       "    .dataframe tbody tr th {\n",
       "        vertical-align: top;\n",
       "    }\n",
       "</style>\n",
       "<table border=\"1\" class=\"dataframe\">\n",
       "  <thead>\n",
       "    <tr style=\"text-align: right;\">\n",
       "      <th></th>\n",
       "      <th>Unnamed: 0</th>\n",
       "      <th>CATEGORY*</th>\n",
       "      <th>MILES*</th>\n",
       "      <th>PURPOSE*</th>\n",
       "      <th>MONTH</th>\n",
       "      <th>START_HOUR_TIME</th>\n",
       "    </tr>\n",
       "  </thead>\n",
       "  <tbody>\n",
       "    <tr>\n",
       "      <th>0</th>\n",
       "      <td>0</td>\n",
       "      <td>0</td>\n",
       "      <td>5.1</td>\n",
       "      <td>6</td>\n",
       "      <td>1.0</td>\n",
       "      <td>21.0</td>\n",
       "    </tr>\n",
       "    <tr>\n",
       "      <th>1</th>\n",
       "      <td>1</td>\n",
       "      <td>0</td>\n",
       "      <td>5.0</td>\n",
       "      <td>10</td>\n",
       "      <td>1.0</td>\n",
       "      <td>1.0</td>\n",
       "    </tr>\n",
       "    <tr>\n",
       "      <th>2</th>\n",
       "      <td>2</td>\n",
       "      <td>0</td>\n",
       "      <td>4.8</td>\n",
       "      <td>5</td>\n",
       "      <td>1.0</td>\n",
       "      <td>20.0</td>\n",
       "    </tr>\n",
       "    <tr>\n",
       "      <th>3</th>\n",
       "      <td>3</td>\n",
       "      <td>0</td>\n",
       "      <td>4.7</td>\n",
       "      <td>7</td>\n",
       "      <td>1.0</td>\n",
       "      <td>17.0</td>\n",
       "    </tr>\n",
       "    <tr>\n",
       "      <th>4</th>\n",
       "      <td>4</td>\n",
       "      <td>0</td>\n",
       "      <td>63.7</td>\n",
       "      <td>4</td>\n",
       "      <td>1.0</td>\n",
       "      <td>14.0</td>\n",
       "    </tr>\n",
       "  </tbody>\n",
       "</table>\n",
       "</div>"
      ],
      "text/plain": [
       "   Unnamed: 0  CATEGORY*  MILES*  PURPOSE*  MONTH  START_HOUR_TIME\n",
       "0           0          0     5.1         6    1.0             21.0\n",
       "1           1          0     5.0        10    1.0              1.0\n",
       "2           2          0     4.8         5    1.0             20.0\n",
       "3           3          0     4.7         7    1.0             17.0\n",
       "4           4          0    63.7         4    1.0             14.0"
      ]
     },
     "execution_count": 2,
     "metadata": {},
     "output_type": "execute_result"
    }
   ],
   "source": [
    "# CSVファイル読み込み\n",
    "df = pd.read_csv('new_MyUberDrives.csv')\n",
    "df.head(5)"
   ]
  },
  {
   "cell_type": "code",
   "execution_count": 3,
   "metadata": {
    "collapsed": true
   },
   "outputs": [],
   "source": [
    "# Unnamed が邪魔なので削除する\n",
    "drop_columns = ['Unnamed: 0']\n",
    "df = df.drop(drop_columns, axis=1)"
   ]
  },
  {
   "cell_type": "code",
   "execution_count": 4,
   "metadata": {},
   "outputs": [
    {
     "name": "stdout",
     "output_type": "stream",
     "text": [
      "訓練データ : \n",
      " 0    862\n",
      "1     62\n",
      "Name: CATEGORY*, dtype: int64\n",
      "テストデータ : \n",
      " 0    216\n",
      "1     15\n",
      "Name: CATEGORY*, dtype: int64\n",
      "CATEGORY*\n",
      "0    77\n",
      "1    77\n",
      "dtype: int64\n",
      "(154, 4) (154,)\n",
      "(231, 4) (231,)\n"
     ]
    }
   ],
   "source": [
    "from sklearn.model_selection import train_test_split\n",
    "\n",
    "# 特徴として使うデータとラベルとして使うデータに分ける\n",
    "train_df, test_df = train_test_split(df, test_size = 0.2)\n",
    "train_df = train_df.reset_index(drop=True)\n",
    "test_df = test_df.reset_index(drop=True)\n",
    "print(\"訓練データ : \\n\",train_df['CATEGORY*'].value_counts())\n",
    "print(\"テストデータ : \\n\",test_df['CATEGORY*'].value_counts())\n",
    "np.random.seed(seed=2)\n",
    "train_df = df.copy()\n",
    "# ダウンサンプリングを行う\n",
    "# 訓練データ内で目的変数が 0 と 1で分ける\n",
    "zero_df = train_df[train_df['CATEGORY*'] == 0].reset_index(drop = True)\n",
    "one_df = train_df[train_df['CATEGORY*'] == 1].reset_index(drop = True)\n",
    "one_num = len(one_df)\n",
    "\n",
    "zero_df = zero_df.take(np.random.permutation(len(zero_df)))\n",
    "zero_df = zero_df.iloc[:one_num, :].reset_index(drop = True)\n",
    "train_df = pd.concat([one_df,zero_df])\n",
    "\n",
    "print(train_df.groupby('CATEGORY*').size())\n",
    "\n",
    "X_train = np.array(train_df.drop('CATEGORY*', axis=1).values).astype(np.float32)\n",
    "y_train = np.array(train_df['CATEGORY*'].values).astype(np.float32)\n",
    "\n",
    "X_test = np.array(test_df.drop('CATEGORY*', axis=1).values).astype(np.float32)\n",
    "y_test = np.array(test_df['CATEGORY*'].values).astype(np.float32)\n",
    "\n",
    "print(X_train.shape,y_train.shape)\n",
    "print(X_test.shape,y_test.shape)"
   ]
  },
  {
   "cell_type": "code",
   "execution_count": 5,
   "metadata": {
    "collapsed": true
   },
   "outputs": [],
   "source": [
    "y_train = y_train.reshape(-1,1)\n",
    "y_test =y_test.reshape(-1,1)"
   ]
  },
  {
   "cell_type": "markdown",
   "metadata": {},
   "source": [
    "ロジスティック回帰でのモデル構築"
   ]
  },
  {
   "cell_type": "code",
   "execution_count": 6,
   "metadata": {
    "collapsed": true
   },
   "outputs": [],
   "source": [
    "# 入力層\n",
    "X = tf.placeholder(tf.float32, shape=[None, 4], name=\"input\")\n",
    "t = tf.placeholder(tf.float32, shape=[None, 1])\n",
    "# パラメータ1\n",
    "W1 = tf.Variable(tf.truncated_normal([4,6]))\n",
    "b1 = tf.Variable(tf.constant(0.1, shape=[1]))\n",
    "\n",
    "# パラメータ2\n",
    "stddev = np.sqrt(2.0 / 6)\n",
    "W2 = tf.Variable(tf.truncated_normal([6,1], stddev=stddev))\n",
    "b2 = tf.Variable(tf.constant(0.1, shape=[1]))\n",
    "\n",
    "layer1 = tf.matmul(X,W1) + b1\n",
    "layer2 = tf.matmul(layer1,W2) + b2\n",
    "\n",
    "p = tf.nn.sigmoid(layer2,name=\"output\")\n",
    "# 損失関数\n",
    "loss = tf.reduce_mean(tf.square(p - t))\n",
    "# 学習アルゴリズム\n",
    "optimizer = tf.train.GradientDescentOptimizer(0.01)\n",
    "train_step = optimizer.minimize(loss)\n",
    "# 精度\n",
    "correct_prediction = tf.equal(tf.sign(p-0.5), tf.sign(t-0.5))\n",
    "accuracy = tf.reduce_mean(tf.cast(correct_prediction, tf.float32))"
   ]
  },
  {
   "cell_type": "code",
   "execution_count": 7,
   "metadata": {},
   "outputs": [
    {
     "name": "stdout",
     "output_type": "stream",
     "text": [
      "[Train] step: 0, loss: 0.454772, acc: 0.532468, [Test] loss: 0.819071, acc : 0.155844\n",
      "[Train] step: 1000, loss: 0.151982, acc: 0.831169, [Test] loss: 0.153817, acc : 0.822511\n",
      "[Train] step: 2000, loss: 0.141766, acc: 0.792208, [Test] loss: 0.167412, acc : 0.753247\n",
      "[Train] step: 3000, loss: 0.153406, acc: 0.759740, [Test] loss: 0.094312, acc : 0.861472\n",
      "[Train] step: 4000, loss: 0.141713, acc: 0.753247, [Test] loss: 0.119077, acc : 0.822511\n"
     ]
    }
   ],
   "source": [
    "sess = tf.Session()\n",
    "sess.run(tf.global_variables_initializer())\n",
    "\n",
    "batch_size = 30\n",
    "for i in range(5000):\n",
    "    batch_mask = np.random.choice(X_train.shape[0], batch_size)\n",
    "    x_batch = X_train[batch_mask]\n",
    "    y_batch = y_train[batch_mask]\n",
    "    sess.run(train_step,feed_dict={X: x_batch, t: y_batch})\n",
    "    if i % 1000 == 0:\n",
    "        train_acc, train_loss = sess.run([accuracy,loss], feed_dict={X: X_train, t: y_train})\n",
    "        test_acc, test_loss = sess.run([accuracy,loss], feed_dict={X: X_test, t: y_test})\n",
    "        print(\"[Train] step: %d, loss: %f, acc: %f, [Test] loss: %f, acc : %f\" % (i, train_loss, train_acc,test_loss,test_acc))"
   ]
  },
  {
   "cell_type": "code",
   "execution_count": 8,
   "metadata": {},
   "outputs": [
    {
     "name": "stderr",
     "output_type": "stream",
     "text": [
      "/usr/local/lib/python3.6/dist-packages/sklearn/cross_validation.py:44: DeprecationWarning: This module was deprecated in version 0.18 in favor of the model_selection module into which all the refactored classes and functions are moved. Also note that the interface of the new CV iterators are different from that of this module. This module will be removed in 0.20.\n",
      "  \"This module will be removed in 0.20.\", DeprecationWarning)\n"
     ]
    }
   ],
   "source": [
    "from xgboost import XGBRegressor\n",
    "clf = XGBRegressor()\n",
    "\n",
    "model = clf.fit(X_train, y_train)"
   ]
  },
  {
   "cell_type": "code",
   "execution_count": 9,
   "metadata": {},
   "outputs": [
    {
     "data": {
      "image/png": "[encoded data removed]",
      "text/plain": [
       "<matplotlib.figure.Figure at 0x7f50242b6f60>"
      ]
     },
     "metadata": {},
     "output_type": "display_data"
    }
   ],
   "source": [
    "xg_pred = clf.predict(X_test)\n",
    "\n",
    "plt.grid()\n",
    "plt.scatter(y_test, xg_pred)\n",
    "plt.show()"
   ]
  },
  {
   "cell_type": "code",
   "execution_count": 10,
   "metadata": {
    "collapsed": true
   },
   "outputs": [],
   "source": [
    "nn_pred = sess.run(p,feed_dict={X:X_test}).reshape(-1,)\n",
    "xg_pred = np.fmin(1.0, np.fmax(1e-5, xg_pred))\n",
    "y_test =y_test.reshape(-1,)"
   ]
  },
  {
   "cell_type": "markdown",
   "metadata": {},
   "source": [
    "平均二乗誤差"
   ]
  },
  {
   "cell_type": "code",
   "execution_count": 11,
   "metadata": {},
   "outputs": [
    {
     "name": "stdout",
     "output_type": "stream",
     "text": [
      "NN LogisticRegression mean square loss = 0.17750036716461182\n",
      "XGBoost mean square loss = 0.052057456225156784\n"
     ]
    }
   ],
   "source": [
    "print('NN LogisticRegression mean square loss = {}'.format(np.mean(np.square(y_test - nn_pred))))\n",
    "print('XGBoost mean square loss = {}'.format(np.mean(np.square(y_test - xg_pred))))"
   ]
  },
  {
   "cell_type": "markdown",
   "metadata": {},
   "source": [
    "Log_loss"
   ]
  },
  {
   "cell_type": "code",
   "execution_count": 12,
   "metadata": {},
   "outputs": [
    {
     "name": "stdout",
     "output_type": "stream",
     "text": [
      "NN LogisticRegression log loss = 0.5404935538380969\n",
      "XGBoost log loss = 1e-12\n"
     ]
    },
    {
     "name": "stderr",
     "output_type": "stream",
     "text": [
      "/usr/local/lib/python3.6/dist-packages/sklearn/metrics/classification.py:1662: RuntimeWarning: divide by zero encountered in log\n",
      "  loss = -(transformed_labels * np.log(y_pred)).sum(axis=1)\n",
      "/usr/local/lib/python3.6/dist-packages/sklearn/metrics/classification.py:1662: RuntimeWarning: invalid value encountered in multiply\n",
      "  loss = -(transformed_labels * np.log(y_pred)).sum(axis=1)\n"
     ]
    }
   ],
   "source": [
    "from sklearn.metrics import log_loss\n",
    "print('NN LogisticRegression log loss = {}'.format(log_loss(y_test,nn_pred)))\n",
    "print('XGBoost log loss = {}'.format(np.fmax(1e-12,log_loss(y_test,xg_pred))))"
   ]
  }
 ],
 "metadata": {
  "kernelspec": {
   "display_name": "Python 3",
   "language": "python",
   "name": "python3"
  },
  "language_info": {
   "codemirror_mode": {
    "name": "ipython",
    "version": 3
   },
   "file_extension": ".py",
   "mimetype": "text/x-python",
   "name": "python",
   "nbconvert_exporter": "python",
   "pygments_lexer": "ipython3",
   "version": "3.6.2"
  }
 },
 "nbformat": 4,
 "nbformat_minor": 2
}
