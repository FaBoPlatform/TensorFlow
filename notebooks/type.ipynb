{
 "cells": [
  {
   "cell_type": "markdown",
   "metadata": {},
   "source": [
    "Tensorの型・次元数・ランク・サイズ"
   ]
  },
  {
   "cell_type": "code",
   "execution_count": 1,
   "metadata": {
    "collapsed": false
   },
   "outputs": [
    {
     "name": "stdout",
     "output_type": "stream",
     "text": [
      "--run--\n",
      "[[-1.30151387 -0.27209197 -0.02436113]\n",
      " [-0.11732982 -0.3129898  -0.67891681]\n",
      " [ 0.4651189   0.27368295  1.52785832]]\n",
      "--dtype--\n",
      "<dtype: 'float64'>\n",
      "--shape---\n",
      "[3 3]\n",
      "--rank--\n",
      "2\n",
      "--size--\n",
      "9\n"
     ]
    }
   ],
   "source": [
    "# coding:utf-8\n",
    "import numpy as np\n",
    "import tensorflow as tf\n",
    "\n",
    "# 標準正規分布による乱数を持つ3x3行列\n",
    "x_data = np.random.randn(3, 3)\n",
    "# 3x3のTensor\n",
    "x = tf.constant(x_data, shape=(3,3))\n",
    "\n",
    "sess = tf.Session()\n",
    "\n",
    "# 実行結果\n",
    "print \"--run--\"\n",
    "print sess.run(x)\n",
    "# 型\n",
    "print \"--dtype--\"\n",
    "print x.dtype\n",
    "# 次元数\n",
    "print \"--shape---\"\n",
    "print sess.run(tf.shape(x))\n",
    "# ランク\n",
    "print \"--rank--\"\n",
    "print sess.run(tf.rank(x))\n",
    "# サイズ\n",
    "print \"--size--\"\n",
    "print sess.run(tf.size(x))"
   ]
  },
  {
   "cell_type": "code",
   "execution_count": null,
   "metadata": {
    "collapsed": true
   },
   "outputs": [],
   "source": []
  }
 ],
 "metadata": {
  "kernelspec": {
   "display_name": "Python 2",
   "language": "python",
   "name": "python2"
  },
  "language_info": {
   "codemirror_mode": {
    "name": "ipython",
    "version": 2
   },
   "file_extension": ".py",
   "mimetype": "text/x-python",
   "name": "python",
   "nbconvert_exporter": "python",
   "pygments_lexer": "ipython2",
   "version": "2.7.9"
  }
 },
 "nbformat": 4,
 "nbformat_minor": 2
}
