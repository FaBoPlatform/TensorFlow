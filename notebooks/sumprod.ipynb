{
 "cells": [
  {
   "cell_type": "markdown",
   "metadata": {},
   "source": [
    "総和"
   ]
  },
  {
   "cell_type": "code",
   "execution_count": 1,
   "metadata": {
    "collapsed": false
   },
   "outputs": [
    {
     "name": "stdout",
     "output_type": "stream",
     "text": [
      "[[ 1.  2.]\n",
      " [ 3.  4.]]\n",
      "10.0\n",
      "[ 4.  6.]\n",
      "[ 3.  7.]\n"
     ]
    }
   ],
   "source": [
    "# coding:utf-8\n",
    "import numpy as np\n",
    "import tensorflow as tf\n",
    "\n",
    "# 2x2行列(Tensor)\n",
    "# [[1, 2],\n",
    "#  [3, 4]])\n",
    "x_data = np.arange(1, 5).reshape(2,2)\n",
    "\n",
    "# 2x2行列のPlaceholder\n",
    "x = tf.placeholder(tf.float32, shape=(2,2))\n",
    "\n",
    "# 全要素の和\n",
    "a1 = tf.reduce_sum(x)\n",
    "# 列ごとの和\n",
    "a2 = tf.reduce_sum(x, 0)\n",
    "# 行ごとの和\n",
    "a3 = tf.reduce_sum(x, 1)\n",
    "\n",
    "sess = tf.Session()\n",
    "print sess.run(x, feed_dict={x:x_data})\n",
    "# 総和\n",
    "print sess.run(a1, feed_dict={x:x_data})\n",
    "print sess.run(a2, feed_dict={x:x_data})\n",
    "print sess.run(a3, feed_dict={x:x_data})"
   ]
  },
  {
   "cell_type": "markdown",
   "metadata": {},
   "source": [
    "総積"
   ]
  },
  {
   "cell_type": "code",
   "execution_count": 2,
   "metadata": {
    "collapsed": false
   },
   "outputs": [
    {
     "name": "stdout",
     "output_type": "stream",
     "text": [
      "[[ 1.  2.]\n",
      " [ 3.  4.]]\n",
      "24.0\n",
      "[ 3.  8.]\n",
      "[  2.  12.]\n"
     ]
    }
   ],
   "source": [
    "# 全要素の積\n",
    "b1 = tf.reduce_prod(x)\n",
    "# 列ごとの積\n",
    "b2 = tf.reduce_prod(x, 0)\n",
    "# 行ごとの積\n",
    "b3 = tf.reduce_prod(x, 1)\n",
    "\n",
    "sess = tf.Session()\n",
    "\n",
    "print sess.run(x, feed_dict={x:x_data})\n",
    "\n",
    "# 総積\n",
    "print sess.run(b1, feed_dict={x:x_data})\n",
    "print sess.run(b2, feed_dict={x:x_data})\n",
    "print sess.run(b3, feed_dict={x:x_data})"
   ]
  },
  {
   "cell_type": "code",
   "execution_count": null,
   "metadata": {
    "collapsed": true
   },
   "outputs": [],
   "source": []
  }
 ],
 "metadata": {
  "kernelspec": {
   "display_name": "Python 2",
   "language": "python",
   "name": "python2"
  },
  "language_info": {
   "codemirror_mode": {
    "name": "ipython",
    "version": 2
   },
   "file_extension": ".py",
   "mimetype": "text/x-python",
   "name": "python",
   "nbconvert_exporter": "python",
   "pygments_lexer": "ipython2",
   "version": "2.7.9"
  }
 },
 "nbformat": 4,
 "nbformat_minor": 2
}
