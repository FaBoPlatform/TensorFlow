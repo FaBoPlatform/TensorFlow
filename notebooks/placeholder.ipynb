{
 "cells": [
  {
   "cell_type": "markdown",
   "metadata": {},
   "source": [
    "Constantが定数です。"
   ]
  },
  {
   "cell_type": "code",
   "execution_count": 5,
   "metadata": {
    "collapsed": false
   },
   "outputs": [
    {
     "name": "stdout",
     "output_type": "stream",
     "text": [
      "Tensor(\"Const_4:0\", shape=(3, 2), dtype=int32)\n",
      "---------\n",
      "[[1 2]\n",
      " [3 4]\n",
      " [5 6]]\n"
     ]
    }
   ],
   "source": [
    "import tensorflow as tf\n",
    "\n",
    "const_a = tf.constant([1, 2, 3, 4, 5, 6], shape=(3,2))\n",
    "print const_a\n",
    "\n",
    "sess = tf.Session()\n",
    "result_a = sess.run(const_a)\n",
    "print \"---------\"\n",
    "print result_a"
   ]
  },
  {
   "cell_type": "markdown",
   "metadata": {},
   "source": [
    "Variableは変数です。"
   ]
  },
  {
   "cell_type": "code",
   "execution_count": 8,
   "metadata": {
    "collapsed": false
   },
   "outputs": [
    {
     "name": "stdout",
     "output_type": "stream",
     "text": [
      "Tensor(\"Variable_2/read:0\", shape=(2, 2), dtype=float32)\n",
      "--------\n",
      "[[ 1.  1.]\n",
      " [ 2.  2.]]\n"
     ]
    }
   ],
   "source": [
    "varible_a = tf.Variable([[1.0,1.0],[2.0,2.0]])\n",
    "print varible_a\n",
    "\n",
    "sess = tf.Session()\n",
    "# Initializerで初期化をおこなう\n",
    "sess.run(varible_a.initializer)\n",
    "\n",
    "result_a = sess.run(varible_a)\n",
    "print \"--------\"\n",
    "print result_a"
   ]
  },
  {
   "cell_type": "markdown",
   "metadata": {},
   "source": [
    "Placeholderは、Session時に値を引数として渡す事ができます。"
   ]
  },
  {
   "cell_type": "code",
   "execution_count": 12,
   "metadata": {
    "collapsed": false
   },
   "outputs": [
    {
     "name": "stdout",
     "output_type": "stream",
     "text": [
      "5\n"
     ]
    }
   ],
   "source": [
    "ph_a = tf.placeholder(tf.int16)\n",
    "ph_b = tf.placeholder(tf.int16)\n",
    "\n",
    "add_op = tf.add(ph_a, ph_b)\n",
    "\n",
    "sess = tf.Session()\n",
    "result_a = sess.run(add_op, feed_dict={ph_a:2, ph_b:3})\n",
    "print result_a"
   ]
  },
  {
   "cell_type": "code",
   "execution_count": null,
   "metadata": {
    "collapsed": true
   },
   "outputs": [],
   "source": []
  }
 ],
 "metadata": {
  "kernelspec": {
   "display_name": "Python 2",
   "language": "python",
   "name": "python2"
  },
  "language_info": {
   "codemirror_mode": {
    "name": "ipython",
    "version": 2
   },
   "file_extension": ".py",
   "mimetype": "text/x-python",
   "name": "python",
   "nbconvert_exporter": "python",
   "pygments_lexer": "ipython2",
   "version": "2.7.9"
  }
 },
 "nbformat": 4,
 "nbformat_minor": 2
}
