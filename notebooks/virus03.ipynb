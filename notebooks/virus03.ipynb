{
 "cells": [
  {
   "cell_type": "markdown",
   "metadata": {},
   "source": [
    "前回までのコード(データ作成)"
   ]
  },
  {
   "cell_type": "code",
   "execution_count": 2,
   "metadata": {
    "collapsed": false
   },
   "outputs": [
    {
     "name": "stdout",
     "output_type": "stream",
     "text": [
      "[[-3.97767806 -2.87745786]\n",
      " [-0.9719314  -1.25367045]\n",
      " [-3.23128748  0.06909557]\n",
      " ..., \n",
      " [ 2.07154822  0.53599364]\n",
      " [ 1.08521593  3.61521411]\n",
      " [ 1.70017147  1.10197914]]\n",
      "[[ 0.  1.]\n",
      " [ 0.  1.]\n",
      " [ 0.  1.]\n",
      " ..., \n",
      " [ 1.  0.]\n",
      " [ 1.  0.]\n",
      " [ 1.  0.]]\n"
     ]
    },
    {
     "data": {
      "image/png": "[encoded data removed]",
      "text/plain": [
       "<matplotlib.figure.Figure at 0x7fdb35619110>"
      ]
     },
     "metadata": {},
     "output_type": "display_data"
    }
   ],
   "source": [
    "import tensorflow as tf\n",
    "import numpy as np\n",
    "import matplotlib.pyplot as plt\n",
    "\n",
    "x_positive = np.random.randn(500, 1) + 2\n",
    "y_positive = np.random.randn(500, 1) + 2\n",
    "x_negative = np.random.randn(500, 1) - 2\n",
    "y_negative = np.random.randn(500, 1) - 2\n",
    "\n",
    "plt.figure(1)\n",
    "plt.plot(x_positive, y_positive, 'ro', label='Data1')\n",
    "plt.plot(x_negative, y_negative, 'bo', label='Data2')\n",
    "\n",
    "N = len(x_positive)\n",
    "POSITIVE = np.zeros((N,2))\n",
    "for i in xrange(N):\n",
    "  POSITIVE[i][0] = x_positive[i]\n",
    "  POSITIVE[i][1] = y_positive[i]\n",
    "\n",
    "NEGATIVE = np.zeros((N,2))\n",
    "for i in xrange(N):\n",
    "  NEGATIVE[i][0] = x_negative[i]\n",
    "  NEGATIVE[i][1] = y_negative[i]\n",
    "\n",
    "VIRUS = np.vstack([NEGATIVE, POSITIVE]).astype(np.float32)\n",
    "\n",
    "print VIRUS\n",
    "\n",
    "STATE = np.zeros((N*2,2), dtype=np.float32)\n",
    "for i in xrange(N*2):\n",
    "  if i < N:\n",
    "    STATE[i][1] = 1\n",
    "  else:\n",
    "    STATE[i][0] = 1\n",
    "\n",
    "print STATE"
   ]
  },
  {
   "cell_type": "markdown",
   "metadata": {},
   "source": [
    "TensorFlow処理"
   ]
  },
  {
   "cell_type": "code",
   "execution_count": 155,
   "metadata": {
    "collapsed": false
   },
   "outputs": [
    {
     "name": "stdout",
     "output_type": "stream",
     "text": [
      "step 0, cost 0.682563, accuracy 0.998000\n",
      "step 100, cost 0.402190, accuracy 0.998000\n",
      "step 200, cost 0.367502, accuracy 0.997000\n",
      "step 300, cost 0.354013, accuracy 0.997000\n",
      "step 400, cost 0.346680, accuracy 0.997000\n",
      "step 500, cost 0.342009, accuracy 0.997000\n",
      "step 600, cost 0.338744, accuracy 0.997000\n",
      "step 700, cost 0.336317, accuracy 0.997000\n",
      "step 800, cost 0.334433, accuracy 0.997000\n",
      "step 900, cost 0.332923, accuracy 0.997000\n",
      "flag position is 1\n",
      "flag position is 0\n",
      "INFO:tensorflow:Froze 2 variables.\n",
      "Converted 2 variables to const ops.\n"
     ]
    }
   ],
   "source": [
    "from tensorflow.python.framework.graph_util import convert_variables_to_constants\n",
    "\n",
    "tf.reset_default_graph()\n",
    "LOGDIR = \"./data_virus\"\n",
    " \n",
    "# TensorBoardへの反映\n",
    "#w_graph = tf.summary.histogram(\"W_graph\", w)\n",
    "#b_graph = tf.summary.histogram(\"b_graph\", b)\n",
    "#y_graph = tf.summary.histogram(\"y_graph\", y)\n",
    "#cost_graph = tf.summary.scalar(\"cost_graph\", cost)\n",
    "\n",
    "\n",
    "with tf.Graph().as_default(): \n",
    "  x = tf.placeholder(tf.float32, shape=(None,2), name=\"input\")\n",
    "  y = tf.placeholder(tf.float32, shape=(None,2), name=\"output\")\n",
    "  w = tf.Variable(tf.random_normal([2,2], stddev=0.01), dtype=tf.float32, name=\"weight\")\n",
    "  b = tf.Variable(tf.random_normal([2], stddev=0.01), dtype=tf.float32, name=\"bias\")\n",
    "\n",
    "  # ロジスティック回帰のモデルを定義\n",
    "  y_pred = tf.nn.softmax(tf.matmul(x,w) + b, name=\"y_pred\")\n",
    "  \n",
    "  # コストの計算\n",
    "  loss = tf.nn.softmax_cross_entropy_with_logits(labels=y,logits=y_pred)\n",
    "  cost = tf.reduce_mean(loss, 0, name=\"cost\")\n",
    "\n",
    "  # 精度の計算\n",
    "  correct_pred = tf.equal(tf.argmax(y_pred,1), tf.argmax(STATE,1))\n",
    "  accuracy_op = tf.reduce_mean(tf.cast(correct_pred, tf.float32), name=\"accuracy\")\n",
    "\n",
    "  # 予測\n",
    "  predict_op = tf.argmax(y_pred, 1, name=\"predict_op\")\n",
    "  \n",
    "  with tf.Session() as sess:\n",
    "    \n",
    "     # 初期化処理\n",
    "    init_op = tf.global_variables_initializer()\n",
    "    sess.run(init_op)\n",
    "\n",
    "    # トレーニング\n",
    "    learning_rate = 0.01\n",
    "    train_op = tf.train.GradientDescentOptimizer(learning_rate).minimize(cost)\n",
    "  \n",
    "    # Summary\n",
    "    summary_writer = tf.summary.FileWriter(LOGDIR, sess.graph)\n",
    "    summary_op = tf.summary.merge_all()\n",
    "  \n",
    "    \n",
    "    # トレーニング回数\n",
    "    training_step = 1000\n",
    "    validation_step = 100\n",
    "\n",
    "    # トレーニング\n",
    "    for step in xrange(training_step):\n",
    "      sess.run(train_op, feed_dict={x: VIRUS, y: STATE})\n",
    "\n",
    "      if step % validation_step == 0:\n",
    "        accuracy_output,cost_output = sess.run([accuracy_op,cost], feed_dict={x: VIRUS, y: STATE})\n",
    "        print \"step %d, cost %f, accuracy %f\" % (step,cost_output,accuracy_output)\n",
    "\n",
    "        # TensorBoardにも反映\n",
    "        #summary_str = sess.run(summary_op, feed_dict={x: VIRUS, y: STATE})\n",
    "        #summary_writer.add_summary(summary_str, step)\n",
    "\n",
    "    # check anser\n",
    "    data = [[-2,-2]]\n",
    "    x_check = np.array(data)\n",
    "    flag_pos = sess.run(predict_op, feed_dict={x: x_check})\n",
    "    print \"flag position is %d\" % (flag_pos)\n",
    "    data = [[2,2]]\n",
    "    x_check = np.array(data)\n",
    "    flag_pos = sess.run(predict_op, feed_dict={x: x_check})\n",
    "    print \"flag position is %d\" % (flag_pos)\n",
    "\n",
    "    minimal_graph = convert_variables_to_constants(sess, sess.graph_def, [\"y_pred\", \"predict_op\", \"accuracy\", \"cost\"])\n",
    "\n",
    "    tf.train.write_graph(minimal_graph, '.', 'minimal_graph.proto', as_text=False)\n",
    "  \n",
    "    summary_writer.flush()\n",
    "    \n",
    "  sess.close()\n"
   ]
  },
  {
   "cell_type": "markdown",
   "metadata": {},
   "source": [
    "保存したモデルを評価"
   ]
  },
  {
   "cell_type": "code",
   "execution_count": 156,
   "metadata": {
    "collapsed": false
   },
   "outputs": [
    {
     "ename": "TypeError",
     "evalue": "Cannot interpret feed_dict key as Tensor: Tensor Tensor(\"input:0\", shape=(?, 2), dtype=float32) is not an element of this graph.",
     "output_type": "error",
     "traceback": [
      "\u001b[0;31m\u001b[0m",
      "\u001b[0;31mTypeError\u001b[0mTraceback (most recent call last)",
      "\u001b[0;32m<ipython-input-156-188b89bc6bdf>\u001b[0m in \u001b[0;36m<module>\u001b[0;34m()\u001b[0m\n\u001b[1;32m     19\u001b[0m       \u001b[0mdata\u001b[0m \u001b[0;34m=\u001b[0m \u001b[0;34m[\u001b[0m\u001b[0;34m[\u001b[0m\u001b[0;34m-\u001b[0m\u001b[0;36m2\u001b[0m\u001b[0;34m,\u001b[0m\u001b[0;34m-\u001b[0m\u001b[0;36m2\u001b[0m\u001b[0;34m]\u001b[0m\u001b[0;34m]\u001b[0m\u001b[0;34m\u001b[0m\u001b[0m\n\u001b[1;32m     20\u001b[0m       \u001b[0mx_check\u001b[0m \u001b[0;34m=\u001b[0m \u001b[0mnp\u001b[0m\u001b[0;34m.\u001b[0m\u001b[0marray\u001b[0m\u001b[0;34m(\u001b[0m\u001b[0mdata\u001b[0m\u001b[0;34m)\u001b[0m\u001b[0;34m\u001b[0m\u001b[0m\n\u001b[0;32m---> 21\u001b[0;31m       \u001b[0mflag_pos\u001b[0m \u001b[0;34m=\u001b[0m \u001b[0msess\u001b[0m\u001b[0;34m.\u001b[0m\u001b[0mrun\u001b[0m\u001b[0;34m(\u001b[0m\u001b[0mpersisted_result\u001b[0m\u001b[0;34m,\u001b[0m \u001b[0mfeed_dict\u001b[0m\u001b[0;34m=\u001b[0m\u001b[0;34m{\u001b[0m\u001b[0mx\u001b[0m\u001b[0;34m:\u001b[0m \u001b[0mx_check\u001b[0m\u001b[0;34m}\u001b[0m\u001b[0;34m)\u001b[0m\u001b[0;34m\u001b[0m\u001b[0m\n\u001b[0m\u001b[1;32m     22\u001b[0m \u001b[0;34m\u001b[0m\u001b[0m\n",
      "\u001b[0;32m/usr/local/lib/python2.7/dist-packages/tensorflow/python/client/session.pyc\u001b[0m in \u001b[0;36mrun\u001b[0;34m(self, fetches, feed_dict, options, run_metadata)\u001b[0m\n\u001b[1;32m    765\u001b[0m     \u001b[0;32mtry\u001b[0m\u001b[0;34m:\u001b[0m\u001b[0;34m\u001b[0m\u001b[0m\n\u001b[1;32m    766\u001b[0m       result = self._run(None, fetches, feed_dict, options_ptr,\n\u001b[0;32m--> 767\u001b[0;31m                          run_metadata_ptr)\n\u001b[0m\u001b[1;32m    768\u001b[0m       \u001b[0;32mif\u001b[0m \u001b[0mrun_metadata\u001b[0m\u001b[0;34m:\u001b[0m\u001b[0;34m\u001b[0m\u001b[0m\n\u001b[1;32m    769\u001b[0m         \u001b[0mproto_data\u001b[0m \u001b[0;34m=\u001b[0m \u001b[0mtf_session\u001b[0m\u001b[0;34m.\u001b[0m\u001b[0mTF_GetBuffer\u001b[0m\u001b[0;34m(\u001b[0m\u001b[0mrun_metadata_ptr\u001b[0m\u001b[0;34m)\u001b[0m\u001b[0;34m\u001b[0m\u001b[0m\n",
      "\u001b[0;32m/usr/local/lib/python2.7/dist-packages/tensorflow/python/client/session.pyc\u001b[0m in \u001b[0;36m_run\u001b[0;34m(self, handle, fetches, feed_dict, options, run_metadata)\u001b[0m\n\u001b[1;32m    920\u001b[0m           \u001b[0;32mexcept\u001b[0m \u001b[0mException\u001b[0m \u001b[0;32mas\u001b[0m \u001b[0me\u001b[0m\u001b[0;34m:\u001b[0m\u001b[0;34m\u001b[0m\u001b[0m\n\u001b[1;32m    921\u001b[0m             raise TypeError('Cannot interpret feed_dict key as Tensor: '\n\u001b[0;32m--> 922\u001b[0;31m                             + e.args[0])\n\u001b[0m\u001b[1;32m    923\u001b[0m \u001b[0;34m\u001b[0m\u001b[0m\n\u001b[1;32m    924\u001b[0m           \u001b[0;32mif\u001b[0m \u001b[0misinstance\u001b[0m\u001b[0;34m(\u001b[0m\u001b[0msubfeed_val\u001b[0m\u001b[0;34m,\u001b[0m \u001b[0mops\u001b[0m\u001b[0;34m.\u001b[0m\u001b[0mTensor\u001b[0m\u001b[0;34m)\u001b[0m\u001b[0;34m:\u001b[0m\u001b[0;34m\u001b[0m\u001b[0m\n",
      "\u001b[0;31mTypeError\u001b[0m: Cannot interpret feed_dict key as Tensor: Tensor Tensor(\"input:0\", shape=(?, 2), dtype=float32) is not an element of this graph."
     ]
    }
   ],
   "source": [
    "def showLog():\n",
    "  print('=' * 60)\n",
    "  for op in tf.get_default_graph().get_operations():\n",
    "    print(op.name)\n",
    "    for output in op.outputs:\n",
    "      print('  ', output.name)\n",
    "  print('=' * 60)\n",
    "\n",
    "from tensorflow.python.platform import gfile\n",
    "\n",
    "with tf.Graph().as_default():\n",
    "  with open('minimal_graph.proto', 'rb') as f:\n",
    "    graph_def = tf.GraphDef()\n",
    "    graph_def.ParseFromString(f.read())\n",
    "    tf.import_graph_def(graph_def, name='')\n",
    "    persisted_result = persisted_sess.graph.get_tensor_by_name(\"predict_op:0\")\n",
    "\n",
    "    with tf.Session() as sess:\n",
    "      data = [[-2,-2]]\n",
    "      x_check = np.array(data)\n",
    "      flag_pos = sess.run(persisted_result, feed_dict={x: x_check})\n",
    "  "
   ]
  },
  {
   "cell_type": "code",
   "execution_count": 152,
   "metadata": {
    "collapsed": false
   },
   "outputs": [
    {
     "name": "stdout",
     "output_type": "stream",
     "text": [
      "-rw-r--r-- 1 root root 11242 Feb  6 01:12 minimal_graph.proto\r\n",
      "-rw-r--r-- 1 root root 41953 Feb  6 01:12 minimal_graph.txt\r\n"
     ]
    }
   ],
   "source": [
    "!ls -la minimal*"
   ]
  },
  {
   "cell_type": "code",
   "execution_count": null,
   "metadata": {
    "collapsed": true
   },
   "outputs": [],
   "source": []
  }
 ],
 "metadata": {
  "kernelspec": {
   "display_name": "Python 2",
   "language": "python",
   "name": "python2"
  },
  "language_info": {
   "codemirror_mode": {
    "name": "ipython",
    "version": 2
   },
   "file_extension": ".py",
   "mimetype": "text/x-python",
   "name": "python",
   "nbconvert_exporter": "python",
   "pygments_lexer": "ipython2",
   "version": "2.7.9"
  }
 },
 "nbformat": 4,
 "nbformat_minor": 2
}
