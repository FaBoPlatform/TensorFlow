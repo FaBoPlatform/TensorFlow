{
 "cells": [
  {
   "cell_type": "markdown",
   "metadata": {},
   "source": [
    "データの作成"
   ]
  },
  {
   "cell_type": "code",
   "execution_count": 1,
   "metadata": {
    "collapsed": false
   },
   "outputs": [
    {
     "data": {
      "image/png": "[encoded data removed]",
      "text/plain": [
       "<matplotlib.figure.Figure at 0x7f42e0e23bd0>"
      ]
     },
     "metadata": {},
     "output_type": "display_data"
    }
   ],
   "source": [
    "# coding:utf-8\n",
    "import numpy as np\n",
    "import matplotlib.pyplot as plt\n",
    "import tensorflow as tf\n",
    "\n",
    "\n",
    "b_train = -1\n",
    "w_train = 0.7\n",
    "x_train = np.linspace(0, 1.0, 100)\n",
    "y_train = x_train * w_train + b_train\n",
    "\n",
    "plt.figure(1)\n",
    "plt.plot(x_train, y_train, 'ro', label='Data')\n",
    "plt.plot(x_train, y_train, 'k-', label='Line')\n",
    "plt.show()"
   ]
  },
  {
   "cell_type": "markdown",
   "metadata": {},
   "source": [
    "wとbをTensorFlowを用いて、導き出す。"
   ]
  },
  {
   "cell_type": "code",
   "execution_count": 2,
   "metadata": {
    "collapsed": false
   },
   "outputs": [
    {
     "name": "stdout",
     "output_type": "stream",
     "text": [
      "Step 0, cost 0.437419, weight -0.875578, bias 0.263572\n",
      "Step 100, cost 0.017763, weight 0.246335, bias -0.756865\n",
      "Step 200, cost 0.001194, weight 0.582400, bias -0.936974\n",
      "Step 300, cost 0.000080, weight 0.669515, bias -0.983662\n",
      "Step 400, cost 0.000005, weight 0.692098, bias -0.995765\n",
      "Step 500, cost 0.000000, weight 0.697952, bias -0.998902\n",
      "Step 600, cost 0.000000, weight 0.699469, bias -0.999715\n",
      "Step 700, cost 0.000000, weight 0.699862, bias -0.999926\n",
      "Step 800, cost 0.000000, weight 0.699964, bias -0.999981\n",
      "Step 900, cost 0.000000, weight 0.699990, bias -0.999995\n",
      "Step 1000, cost 0.000000, weight 0.699997, bias -0.999999\n",
      "Step 1100, cost 0.000000, weight 0.699997, bias -0.999999\n",
      "Step 1200, cost 0.000000, weight 0.699997, bias -0.999999\n",
      "Step 1300, cost 0.000000, weight 0.699997, bias -0.999999\n",
      "Step 1400, cost 0.000000, weight 0.699997, bias -0.999999\n"
     ]
    }
   ],
   "source": [
    "# GraphのReset(TF関連処理の一番最初に呼び出す)\n",
    "tf.reset_default_graph()\n",
    "\n",
    "# 変数の定義\n",
    "x = tf.placeholder(tf.float32, name=\"input\")\n",
    "y = tf.placeholder(tf.float32, name=\"output\")\n",
    "w = tf.Variable(np.random.randn(), name=\"weight\")\n",
    "b = tf.Variable(np.random.randn(), name=\"bias\")\n",
    "\n",
    "# 線形回帰のモデル\n",
    "y_pred = tf.add(tf.multiply(x, w), b)\n",
    "\n",
    "# 損失関数\n",
    "loss = tf.reduce_mean(tf.pow(y_pred - y, 2))\n",
    "\n",
    "# Optimizer\n",
    "# 勾配降下法\n",
    "learning_rate = 0.1\n",
    "train_op = tf.train.GradientDescentOptimizer(learning_rate).minimize(loss)\n",
    "\n",
    "# Data保存先\n",
    "LOGDIR = './data'\n",
    "\n",
    "# セッション  \n",
    "with tf.Session() as sess:\n",
    "  # 変数の初期化\n",
    "  init_op = tf.global_variables_initializer()\n",
    "  sess.run(init_op)\n",
    "  \n",
    "  # Summary\n",
    "  summary_writer = tf.summary.FileWriter(LOGDIR, sess.graph)\n",
    "    \n",
    "  # Graph\n",
    "  with tf.Graph().as_default() as graph:\n",
    "  \n",
    "    # トレーニング回数\n",
    "    training_step = 1500\n",
    "    validation_step = 100\n",
    "\n",
    "    #トレーニング\n",
    "    for step in range(training_step):\n",
    "      sess.run(train_op, feed_dict={x:x_train, y:y_train})\n",
    "\n",
    "      # 途中経過表示\n",
    "      if step % validation_step == 0:\n",
    "        loss_output = sess.run(loss, feed_dict={x:x_train, y:y_train})\n",
    "        w_output = sess.run(w)\n",
    "        b_output = sess.run(b)\n",
    "        print \"Step %i, cost %f, weight %f, bias %f\" % (step, loss_output, w_output, b_output)\n",
    "\n",
    "  summary_writer.flush()"
   ]
  },
  {
   "cell_type": "code",
   "execution_count": null,
   "metadata": {
    "collapsed": false
   },
   "outputs": [
    {
     "name": "stdout",
     "output_type": "stream",
     "text": [
      "Starting TensorBoard 41 on port 6006\n",
      "(You can navigate to http://172.17.0.2:6006)\n",
      "WARNING:tensorflow:Found more than one graph event per run, or there was a metagraph containing a graph_def, as well as one or more graph events.  Overwriting the graph with the newest event.\n",
      "WARNING:tensorflow:Found more than one metagraph event per run. Overwriting the metagraph with the newest event.\n",
      "WARNING:tensorflow:Found more than one graph event per run, or there was a metagraph containing a graph_def, as well as one or more graph events.  Overwriting the graph with the newest event.\n",
      "WARNING:tensorflow:Found more than one metagraph event per run. Overwriting the metagraph with the newest event.\n",
      "WARNING:tensorflow:Found more than one graph event per run, or there was a metagraph containing a graph_def, as well as one or more graph events.  Overwriting the graph with the newest event.\n",
      "WARNING:tensorflow:Found more than one metagraph event per run. Overwriting the metagraph with the newest event.\n",
      "WARNING:tensorflow:Found more than one graph event per run, or there was a metagraph containing a graph_def, as well as one or more graph events.  Overwriting the graph with the newest event.\n",
      "WARNING:tensorflow:Found more than one graph event per run, or there was a metagraph containing a graph_def, as well as one or more graph events.  Overwriting the graph with the newest event.\n",
      "WARNING:tensorflow:Found more than one graph event per run, or there was a metagraph containing a graph_def, as well as one or more graph events.  Overwriting the graph with the newest event.\n",
      "WARNING:tensorflow:Found more than one graph event per run, or there was a metagraph containing a graph_def, as well as one or more graph events.  Overwriting the graph with the newest event.\n",
      "WARNING:tensorflow:Found more than one graph event per run, or there was a metagraph containing a graph_def, as well as one or more graph events.  Overwriting the graph with the newest event.\n",
      "WARNING:tensorflow:Found more than one graph event per run, or there was a metagraph containing a graph_def, as well as one or more graph events.  Overwriting the graph with the newest event.\n",
      "WARNING:tensorflow:Found more than one metagraph event per run. Overwriting the metagraph with the newest event.\n",
      "WARNING:tensorflow:Found more than one graph event per run, or there was a metagraph containing a graph_def, as well as one or more graph events.  Overwriting the graph with the newest event.\n",
      "WARNING:tensorflow:Found more than one metagraph event per run. Overwriting the metagraph with the newest event.\n",
      "WARNING:tensorflow:Found more than one graph event per run, or there was a metagraph containing a graph_def, as well as one or more graph events.  Overwriting the graph with the newest event.\n",
      "WARNING:tensorflow:Found more than one metagraph event per run. Overwriting the metagraph with the newest event.\n",
      "WARNING:tensorflow:Found more than one graph event per run, or there was a metagraph containing a graph_def, as well as one or more graph events.  Overwriting the graph with the newest event.\n",
      "WARNING:tensorflow:Found more than one metagraph event per run. Overwriting the metagraph with the newest event.\n",
      "WARNING:tensorflow:Found more than one graph event per run, or there was a metagraph containing a graph_def, as well as one or more graph events.  Overwriting the graph with the newest event.\n",
      "WARNING:tensorflow:Found more than one metagraph event per run. Overwriting the metagraph with the newest event.\n",
      "WARNING:tensorflow:Found more than one graph event per run, or there was a metagraph containing a graph_def, as well as one or more graph events.  Overwriting the graph with the newest event.\n",
      "WARNING:tensorflow:Found more than one metagraph event per run. Overwriting the metagraph with the newest event.\n",
      "WARNING:tensorflow:Found more than one graph event per run, or there was a metagraph containing a graph_def, as well as one or more graph events.  Overwriting the graph with the newest event.\n",
      "WARNING:tensorflow:Found more than one metagraph event per run. Overwriting the metagraph with the newest event.\n",
      "WARNING:tensorflow:Found more than one graph event per run, or there was a metagraph containing a graph_def, as well as one or more graph events.  Overwriting the graph with the newest event.\n",
      "WARNING:tensorflow:Found more than one metagraph event per run. Overwriting the metagraph with the newest event.\n",
      "WARNING:tensorflow:Found more than one graph event per run, or there was a metagraph containing a graph_def, as well as one or more graph events.  Overwriting the graph with the newest event.\n",
      "WARNING:tensorflow:Found more than one metagraph event per run. Overwriting the metagraph with the newest event.\n",
      "WARNING:tensorflow:Found more than one graph event per run, or there was a metagraph containing a graph_def, as well as one or more graph events.  Overwriting the graph with the newest event.\n",
      "WARNING:tensorflow:Found more than one metagraph event per run. Overwriting the metagraph with the newest event.\n",
      "WARNING:tensorflow:Found more than one graph event per run, or there was a metagraph containing a graph_def, as well as one or more graph events.  Overwriting the graph with the newest event.\n",
      "WARNING:tensorflow:Found more than one metagraph event per run. Overwriting the metagraph with the newest event.\n"
     ]
    }
   ],
   "source": [
    "!tensorboard --logdir=data/"
   ]
  },
  {
   "cell_type": "code",
   "execution_count": null,
   "metadata": {
    "collapsed": true
   },
   "outputs": [],
   "source": []
  }
 ],
 "metadata": {
  "kernelspec": {
   "display_name": "Python 2",
   "language": "python",
   "name": "python2"
  },
  "language_info": {
   "codemirror_mode": {
    "name": "ipython",
    "version": 2
   },
   "file_extension": ".py",
   "mimetype": "text/x-python",
   "name": "python",
   "nbconvert_exporter": "python",
   "pygments_lexer": "ipython2",
   "version": "2.7.9"
  }
 },
 "nbformat": 4,
 "nbformat_minor": 2
}
