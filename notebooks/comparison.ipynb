{
 "cells": [
  {
   "cell_type": "markdown",
   "metadata": {},
   "source": [
    "comparison"
   ]
  },
  {
   "cell_type": "code",
   "execution_count": 1,
   "metadata": {
    "collapsed": false
   },
   "outputs": [
    {
     "name": "stdout",
     "output_type": "stream",
     "text": [
      "[[ 0.  1.]\n",
      " [ 2.  3.]]\n",
      "[[ 0.  1.]\n",
      " [ 2.  3.]]\n",
      "[[-1.  5.]\n",
      " [ 2.  0.]]\n",
      "[[ True  True]\n",
      " [ True  True]]\n",
      "[[False False]\n",
      " [False False]]\n",
      "[[False  True]\n",
      " [False False]]\n",
      "[[ True False]\n",
      " [False  True]]\n"
     ]
    }
   ],
   "source": [
    "# coding:utf-8\n",
    "import numpy as np\n",
    "import tensorflow as tf\n",
    "\n",
    "x_data = np.arange(0, 4).reshape(2, 2)\n",
    "x = tf.constant(x_data, dtype=tf.float32)\n",
    "y_data = np.arange(0, 4).reshape(2, 2)\n",
    "y = tf.constant(y_data, dtype=tf.float32)\n",
    "z_data = [[-1, 5], [2, 0]]\n",
    "z = tf.constant(z_data, dtype=tf.float32)\n",
    "\n",
    "# 比較オペレーション\n",
    "equal_op = tf.equal(x, y)\n",
    "not_equal_op = tf.not_equal(x, y)\n",
    "less_op = tf.less(x, z)\n",
    "greater_op = tf.greater(x, z)\n",
    "\n",
    "with tf.Session() as sess:\n",
    "    rx, ry, rz = sess.run([x,y,z])\n",
    "    print rx\n",
    "    print ry\n",
    "    print rz\n",
    "    re, rn, rl, rg = sess.run([equal_op, not_equal_op, less_op, greater_op])\n",
    "    print re\n",
    "    print rn\n",
    "    print rl\n",
    "    print rg"
   ]
  },
  {
   "cell_type": "code",
   "execution_count": null,
   "metadata": {
    "collapsed": true
   },
   "outputs": [],
   "source": []
  }
 ],
 "metadata": {
  "kernelspec": {
   "display_name": "Python 2",
   "language": "python",
   "name": "python2"
  },
  "language_info": {
   "codemirror_mode": {
    "name": "ipython",
    "version": 2
   },
   "file_extension": ".py",
   "mimetype": "text/x-python",
   "name": "python",
   "nbconvert_exporter": "python",
   "pygments_lexer": "ipython2",
   "version": "2.7.9"
  }
 },
 "nbformat": 4,
 "nbformat_minor": 2
}
