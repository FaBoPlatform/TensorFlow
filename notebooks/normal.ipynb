{
 "cells": [
  {
   "cell_type": "markdown",
   "metadata": {},
   "source": [
    "正規分布"
   ]
  },
  {
   "cell_type": "code",
   "execution_count": 1,
   "metadata": {
    "collapsed": false
   },
   "outputs": [
    {
     "name": "stdout",
     "output_type": "stream",
     "text": [
      "[[ 0.3965539   1.15095389  0.17147654]\n",
      " [ 0.41435835  1.38966775  1.17004395]\n",
      " [-0.4924331  -0.19774403 -0.5773052 ]]\n"
     ]
    }
   ],
   "source": [
    "# coding:utf-8\n",
    "import tensorflow as tf\n",
    "\n",
    "# 標準正規分布による乱数を値に持つ3x3行列\n",
    "x = tf.random_normal(shape=(3,3))\n",
    "\n",
    "sess = tf.Session()\n",
    "y = sess.run(x)\n",
    "print y"
   ]
  },
  {
   "cell_type": "markdown",
   "metadata": {},
   "source": [
    "1万件に増やし、正規分布が1.0に近づくかを確認　"
   ]
  },
  {
   "cell_type": "code",
   "execution_count": 2,
   "metadata": {
    "collapsed": false
   },
   "outputs": [
    {
     "name": "stdout",
     "output_type": "stream",
     "text": [
      "-0.0034537\n",
      "1.00372\n"
     ]
    }
   ],
   "source": [
    "# coding:utf-8\n",
    "import tensorflow as tf\n",
    "import numpy as np\n",
    "\n",
    "# 標準正規分布による乱数を値に持つ3x3行列\n",
    "x = tf.random_normal(shape=(5000,2))\n",
    "\n",
    "sess = tf.Session()\n",
    "y = sess.run(x)\n",
    "\n",
    "print np.average(y)\n",
    "print np.std(y)"
   ]
  },
  {
   "cell_type": "markdown",
   "metadata": {},
   "source": [
    "ｓｔｄdevに10指定し、平均値が10に近づく事を確認"
   ]
  },
  {
   "cell_type": "code",
   "execution_count": 3,
   "metadata": {
    "collapsed": false
   },
   "outputs": [
    {
     "name": "stdout",
     "output_type": "stream",
     "text": [
      "0.932907\n",
      "9.99162\n"
     ]
    }
   ],
   "source": [
    "# 標準正規分布による乱数を値に持つ3x3行列\n",
    "x = tf.random_normal(shape=(5000,2), mean=1, stddev=10)\n",
    "\n",
    "sess = tf.Session()\n",
    "y = sess.run(x)\n",
    "\n",
    "print np.average(y)\n",
    "print np.std(y)"
   ]
  },
  {
   "cell_type": "markdown",
   "metadata": {},
   "source": [
    "切断正規分布"
   ]
  },
  {
   "cell_type": "code",
   "execution_count": 5,
   "metadata": {
    "collapsed": false
   },
   "outputs": [
    {
     "name": "stdout",
     "output_type": "stream",
     "text": [
      "[ 0.32649776 -0.06358565 -0.18682097  0.03000117  1.153772   -0.20649542\n",
      " -0.6161164   0.1225847  -0.22354253 -0.49373651  0.26072192  0.20323634\n",
      "  1.03735781  0.99454892  1.32633817 -0.51533198  1.83715034 -1.87044203\n",
      "  1.21890247  0.26190174]\n"
     ]
    }
   ],
   "source": [
    "# coding:utf-8\n",
    "import numpy as np\n",
    "import tensorflow as tf\n",
    "\n",
    "# デフォルトは1.0なので、乱数の値は-2〜2の間に収まる\n",
    "truncated_normal = tf.truncated_normal([20])\n",
    "sess = tf.Session()\n",
    "val = sess.run(truncated_normal)\n",
    "print val"
   ]
  },
  {
   "cell_type": "code",
   "execution_count": null,
   "metadata": {
    "collapsed": true
   },
   "outputs": [],
   "source": []
  }
 ],
 "metadata": {
  "kernelspec": {
   "display_name": "Python 2",
   "language": "python",
   "name": "python2"
  },
  "language_info": {
   "codemirror_mode": {
    "name": "ipython",
    "version": 2
   },
   "file_extension": ".py",
   "mimetype": "text/x-python",
   "name": "python",
   "nbconvert_exporter": "python",
   "pygments_lexer": "ipython2",
   "version": "2.7.9"
  }
 },
 "nbformat": 4,
 "nbformat_minor": 2
}
