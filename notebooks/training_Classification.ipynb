{
 "cells": [
  {
   "cell_type": "code",
   "execution_count": 1,
   "metadata": {
    "collapsed": true
   },
   "outputs": [],
   "source": [
    "import numpy as np\n",
    "import tensorflow as tf\n",
    "\n",
    "### データの準備\n",
    "# データセットの読み込み\n",
    "train_dataset = np.genfromtxt(\"./class_train.csv\", delimiter=',', dtype=[float, float, float, \"S32\"])\n",
    "test_dataset = np.genfromtxt(\"./class_test.csv\", delimiter=',', dtype=[float, float, float, \"S32\"])\n",
    "\n",
    "#データをシャッフル\n",
    "np.random.shuffle(train_dataset)\n",
    "np.random.shuffle(test_dataset)"
   ]
  },
  {
   "cell_type": "code",
   "execution_count": 2,
   "metadata": {
    "collapsed": false
   },
   "outputs": [],
   "source": [
    "def get_labels(dataset):\n",
    "    \"\"\"ラベル(正解データ)を1ofKベクトルに変換する\"\"\"\n",
    "    raw_labels = [item[3] for item in dataset]\n",
    "    labels = []\n",
    "    for l in raw_labels:\n",
    "        if l == \"classA\":\n",
    "            labels.append([1.0,0.0,0.0])\n",
    "        elif l == \"classB\":\n",
    "            labels.append([0.0,1.0,0.0])\n",
    "        elif l == \"classC\":\n",
    "            labels.append([0.0,0.0,1.0])\n",
    "    return np.array(labels)\n",
    "\n",
    "def get_data(dataset):\n",
    "    \"\"\"データセットをnparrayに変換する\"\"\"\n",
    "    raw_data = [list(item)[:3] for item in dataset]\n",
    "    return np.array(raw_data)"
   ]
  },
  {
   "cell_type": "code",
   "execution_count": 3,
   "metadata": {
    "collapsed": false
   },
   "outputs": [],
   "source": [
    "# ラベル\n",
    "t_train = get_labels(train_dataset)\n",
    "# データ\n",
    "x_train = get_data(train_dataset)"
   ]
  },
  {
   "cell_type": "code",
   "execution_count": 5,
   "metadata": {
    "collapsed": true
   },
   "outputs": [],
   "source": [
    "t_test = get_labels(test_dataset)\n",
    "x_test = get_data(test_dataset)"
   ]
  },
  {
   "cell_type": "code",
   "execution_count": 6,
   "metadata": {
    "collapsed": true
   },
   "outputs": [],
   "source": [
    "# ラベルを格納するPlaceholder\n",
    "t = tf.placeholder(tf.float32, shape=(None,3))\n",
    "# データを格納するPlaceholder\n",
    "X = tf.placeholder(tf.float32, shape=(None,3))\n",
    "\n",
    "def single_layer(X):\n",
    "    \"\"\"隠れ層\"\"\"\n",
    "    node_num = 30\n",
    "    w = tf.Variable(tf.truncated_normal([3,node_num]))\n",
    "    b = tf.Variable(tf.zeros([node_num]))\n",
    "    f = tf.matmul(X, w) + b\n",
    "    layer = tf.nn.relu(f)\n",
    "    return layer\n",
    "\n",
    "def output_layer(layer):\n",
    "    \"\"\"出力層\"\"\"\n",
    "    node_num = 30\n",
    "    w = tf.Variable(tf.zeros([node_num,3]))\n",
    "    b = tf.Variable(tf.zeros([3]))\n",
    "    f = tf.matmul(layer, w) + b\n",
    "    p = tf.nn.softmax(f)\n",
    "    return p\n",
    "\n",
    "# 隠れ層\n",
    "hidden_layer = single_layer(X)\n",
    "# 出力層\n",
    "p = output_layer(hidden_layer)\n",
    "\n",
    "# 交差エントロピー\n",
    "cross_entropy = t * tf.log(p)\n",
    "# 誤差関数\n",
    "loss = -tf.reduce_mean(cross_entropy)\n",
    "# トレーニングアルゴリズム\n",
    "# 勾配降下法 学習率0.1\n",
    "optimizer = tf.train.GradientDescentOptimizer(learning_rate=0.1)\n",
    "train_step = optimizer.minimize(loss)\n",
    "# モデルの予測と正解が一致しているか調べる\n",
    "correct_pred = tf.equal(tf.argmax(p, 1), tf.argmax(t, 1))\n",
    "# モデルの精度\n",
    "accuracy = tf.reduce_mean(tf.cast(correct_pred, tf.float32))"
   ]
  },
  {
   "cell_type": "code",
   "execution_count": 7,
   "metadata": {
    "collapsed": false
   },
   "outputs": [
    {
     "name": "stdout",
     "output_type": "stream",
     "text": [
      "Step: 200\n",
      "[Train] cost: 0.179964, acc: 0.783333\n",
      "[Test] cost: 0.193735, acc: 0.744444\n",
      "Step: 400\n",
      "[Train] cost: 0.133637, acc: 0.910000\n",
      "[Test] cost: 0.148840, acc: 0.855556\n",
      "Step: 600\n",
      "[Train] cost: 0.099130, acc: 0.973333\n",
      "[Test] cost: 0.109639, acc: 0.933333\n",
      "Step: 800\n",
      "[Train] cost: 0.072292, acc: 0.990000\n",
      "[Test] cost: 0.079158, acc: 0.977778\n",
      "Step: 1000\n",
      "[Train] cost: 0.049095, acc: 0.990000\n",
      "[Test] cost: 0.054772, acc: 1.000000\n",
      "Step: 1200\n",
      "[Train] cost: 0.035220, acc: 1.000000\n",
      "[Test] cost: 0.040222, acc: 1.000000\n",
      "Step: 1400\n",
      "[Train] cost: 0.026494, acc: 1.000000\n",
      "[Test] cost: 0.030829, acc: 1.000000\n",
      "Step: 1600\n",
      "[Train] cost: 0.020881, acc: 1.000000\n",
      "[Test] cost: 0.024762, acc: 1.000000\n",
      "Step: 1800\n",
      "[Train] cost: 0.017069, acc: 1.000000\n",
      "[Test] cost: 0.020570, acc: 1.000000\n",
      "Step: 2000\n",
      "[Train] cost: 0.014351, acc: 1.000000\n",
      "[Test] cost: 0.017538, acc: 1.000000\n"
     ]
    }
   ],
   "source": [
    "sess = tf.Session()\n",
    "sess.run(tf.global_variables_initializer())\n",
    "i = 0\n",
    "for _ in range(2000):\n",
    "    i += 1\n",
    "    # トレーニング\n",
    "    sess.run(train_step, feed_dict={X:x_train,t:t_train})\n",
    "    # 200ステップごとに精度を出力\n",
    "    if i % 200 == 0:\n",
    "        # コストと精度を出力\n",
    "        train_loss, train_acc = sess.run([loss, accuracy], feed_dict={X:x_train,t:t_train})\n",
    "        # テスト用データを使って評価\n",
    "        test_loss, test_acc = sess.run([loss, accuracy], feed_dict={X:x_test,t:t_test})\n",
    "        print \"Step: %d\" % i\n",
    "        print \"[Train] cost: %f, acc: %f\" % (train_loss, train_acc)\n",
    "        print \"[Test] cost: %f, acc: %f\" % (test_loss, test_acc)"
   ]
  },
  {
   "cell_type": "code",
   "execution_count": 9,
   "metadata": {
    "collapsed": false
   },
   "outputs": [
    {
     "name": "stdout",
     "output_type": "stream",
     "text": [
      "[[  9.92181301e-01   7.81868119e-03   1.23376628e-10]]\n",
      "classA\n",
      "[[  7.11938029e-08   2.38032592e-03   9.97619569e-01]]\n",
      "classC\n"
     ]
    }
   ],
   "source": [
    "test = np.array([8.3,8.1,8.2])\n",
    "test = np.array([test])\n",
    "ans = sess.run(p,feed_dict={X:test})\n",
    "print(ans)\n",
    "tmp = np.argmax(ans,axis=1)\n",
    "if(tmp == 0):\n",
    "  print(\"classA\")\n",
    "elif(tmp == 1):\n",
    "  print(\"classB\")\n",
    "elif(tmp == 2):\n",
    "  print(\"classC\")\n",
    "\n",
    "test = np.array([0.23,2.11,1.15])\n",
    "test = np.array([test])\n",
    "ans = sess.run(p,feed_dict={X:test})\n",
    "print(ans)\n",
    "tmp = np.argmax(ans,axis=1)\n",
    "if(tmp == 0):\n",
    "  print(\"classA\")\n",
    "elif(tmp == 1):\n",
    "  print(\"classB\")\n",
    "elif(tmp == 2):\n",
    "  print(\"classC\")"
   ]
  }
 ],
 "metadata": {
  "kernelspec": {
   "display_name": "Python 2",
   "language": "python",
   "name": "python2"
  },
  "language_info": {
   "codemirror_mode": {
    "name": "ipython",
    "version": 2
   },
   "file_extension": ".py",
   "mimetype": "text/x-python",
   "name": "python",
   "nbconvert_exporter": "python",
   "pygments_lexer": "ipython2",
   "version": "2.7.9"
  }
 },
 "nbformat": 4,
 "nbformat_minor": 2
}
