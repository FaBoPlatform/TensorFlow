{
 "cells": [
  {
   "cell_type": "markdown",
   "metadata": {},
   "source": [
    "平均二乗誤差"
   ]
  },
  {
   "cell_type": "code",
   "execution_count": 1,
   "metadata": {
    "collapsed": false
   },
   "outputs": [
    {
     "name": "stdout",
     "output_type": "stream",
     "text": [
      "[[ 2883.69018555]\n",
      " [ 1246.08996582]\n",
      " [  718.2399292 ]\n",
      " [  198.81001282]]\n",
      "5046.83\n"
     ]
    }
   ],
   "source": [
    "# coding:utf-8\n",
    "import numpy as np\n",
    "import tensorflow as tf\n",
    "\n",
    "# 乱数のシードを設定する\n",
    "np.random.seed(20200724)\n",
    "\n",
    "# 4x2行列\n",
    "x = tf.placeholder(tf.float32, [4,2])\n",
    "x_data = np.random.randint(0, 100, (4,2))\n",
    "# 2x1行列\n",
    "w = tf.constant([[0.5],[0.2]], tf.float32, shape=(2,1))\n",
    "# y = xw\n",
    "y = tf.matmul(x, w)\n",
    "# 4x1行列\n",
    "t = tf.constant([1], tf.float32, shape=(4,1))\n",
    "# 二乗\n",
    "square = tf.square(y-t)\n",
    "# 平均二乗誤差\n",
    "mse = tf.reduce_sum(square)\n",
    "\n",
    "with tf.Session() as sess:\n",
    "    square = sess.run(square, feed_dict={x:x_data})\n",
    "    print \"--squre--\"\n",
    "    print square\n",
    "    mse_result = sess.run(mse, feed_dict={x:x_data})\n",
    "    print \"--Mean square error(MSE)--\"\n",
    "    print mse_result"
   ]
  },
  {
   "cell_type": "code",
   "execution_count": null,
   "metadata": {
    "collapsed": true
   },
   "outputs": [],
   "source": []
  }
 ],
 "metadata": {
  "kernelspec": {
   "display_name": "Python 2",
   "language": "python",
   "name": "python2"
  },
  "language_info": {
   "codemirror_mode": {
    "name": "ipython",
    "version": 2
   },
   "file_extension": ".py",
   "mimetype": "text/x-python",
   "name": "python",
   "nbconvert_exporter": "python",
   "pygments_lexer": "ipython2",
   "version": "2.7.9"
  }
 },
 "nbformat": 4,
 "nbformat_minor": 2
}
