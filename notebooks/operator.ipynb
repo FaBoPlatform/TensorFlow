{
 "cells": [
  {
   "cell_type": "markdown",
   "metadata": {},
   "source": [
    "和"
   ]
  },
  {
   "cell_type": "code",
   "execution_count": 1,
   "metadata": {
    "collapsed": false
   },
   "outputs": [
    {
     "name": "stdout",
     "output_type": "stream",
     "text": [
      "[[ 12.  14.]\n",
      " [ 16.  18.]]\n"
     ]
    }
   ],
   "source": [
    "import tensorflow as tf \n",
    "import numpy as np\n",
    "\n",
    "# 2 x 2行列のPlaceholder\n",
    "x = tf.placeholder(tf.float32, shape=(2,2))\n",
    "y = tf.placeholder(tf.float32, shape=(2,2))\n",
    "\n",
    "# [[1,2],\n",
    "#  [3,4]]\n",
    "mat_a = np.arange(1,5).reshape(2,2)\n",
    "# [[11, 12],\n",
    "#  [13,14]]\n",
    "mat_b = np.arange(11,15).reshape(2,2)\n",
    "\n",
    "# 和のオペレーション\n",
    "add_op = tf.add(x, y)\n",
    "\n",
    "# セッション\n",
    "sess = tf.Session()\n",
    "\n",
    "# 実行\n",
    "result_mat = sess.run(add_op, feed_dict={x:mat_a, y:mat_b})\n",
    "\n",
    "# 結果を表示\n",
    "print result_mat"
   ]
  },
  {
   "cell_type": "markdown",
   "metadata": {},
   "source": [
    "差"
   ]
  },
  {
   "cell_type": "code",
   "execution_count": 6,
   "metadata": {
    "collapsed": false
   },
   "outputs": [
    {
     "name": "stdout",
     "output_type": "stream",
     "text": [
      "[[-10. -10.]\n",
      " [-10. -10.]]\n"
     ]
    }
   ],
   "source": [
    "# 差のオペレーション\n",
    "sub_op = tf.subtract(x, y)\n",
    "\n",
    "# 実行\n",
    "result_mat = sess.run(sub_op, feed_dict={x:mat_a, y:mat_b})\n",
    "\n",
    "# 結果を表示\n",
    "print result_mat"
   ]
  },
  {
   "cell_type": "markdown",
   "metadata": {},
   "source": [
    "積"
   ]
  },
  {
   "cell_type": "code",
   "execution_count": 8,
   "metadata": {
    "collapsed": false
   },
   "outputs": [
    {
     "name": "stdout",
     "output_type": "stream",
     "text": [
      "[[ 37.  40.]\n",
      " [ 85.  92.]]\n"
     ]
    }
   ],
   "source": [
    "# 積のオペレーション\n",
    "matmul_op = tf.matmul(x, y)\n",
    "\n",
    "# 実行\n",
    "result_mat = sess.run(matmul_op, feed_dict={x:mat_a, y:mat_b})\n",
    "\n",
    "# 結果を表示\n",
    "print result_mat"
   ]
  },
  {
   "cell_type": "markdown",
   "metadata": {},
   "source": [
    "要素の積"
   ]
  },
  {
   "cell_type": "code",
   "execution_count": 11,
   "metadata": {
    "collapsed": false
   },
   "outputs": [
    {
     "name": "stdout",
     "output_type": "stream",
     "text": [
      "[[ 11.  24.]\n",
      " [ 39.  56.]]\n"
     ]
    }
   ],
   "source": [
    "# 積のオペレーション\n",
    "mul_op = tf.multiply(x, y)\n",
    "\n",
    "# 実行\n",
    "result_mat = sess.run(mul_op, feed_dict={x:mat_a, y:mat_b})\n",
    "\n",
    "# 結果を表示\n",
    "print result_mat"
   ]
  },
  {
   "cell_type": "code",
   "execution_count": null,
   "metadata": {
    "collapsed": true
   },
   "outputs": [],
   "source": []
  }
 ],
 "metadata": {
  "kernelspec": {
   "display_name": "Python 2",
   "language": "python",
   "name": "python2"
  },
  "language_info": {
   "codemirror_mode": {
    "name": "ipython",
    "version": 2
   },
   "file_extension": ".py",
   "mimetype": "text/x-python",
   "name": "python",
   "nbconvert_exporter": "python",
   "pygments_lexer": "ipython2",
   "version": "2.7.9"
  }
 },
 "nbformat": 4,
 "nbformat_minor": 2
}
