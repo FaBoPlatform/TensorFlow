{
 "cells": [
  {
   "cell_type": "markdown",
   "metadata": {},
   "source": [
    "最小値・最大値"
   ]
  },
  {
   "cell_type": "code",
   "execution_count": 1,
   "metadata": {
    "collapsed": false
   },
   "outputs": [
    {
     "name": "stdout",
     "output_type": "stream",
     "text": [
      "[[ 61.  83.  60.  26.]\n",
      " [ 11.   5.  26.  49.]\n",
      " [ 93.  80.  25.  99.]\n",
      " [ 89.  57.  60.  45.]]\n",
      "[3 1 2 3]\n",
      "[1 3 3 0]\n"
     ]
    }
   ],
   "source": [
    "# coding:utf-8\n",
    "import numpy as np\n",
    "import tensorflow as tf\n",
    "\n",
    "# 4x4行列 要素の値は0〜100の乱数\n",
    "data_a = np.random.randint(0, 100, (4,4))\n",
    "const_a = tf.constant(data_a, dtype=tf.float32)\n",
    "\n",
    "# 最小値 各行の最小値\n",
    "argmin_op = tf.argmin(const_a, 1)\n",
    "# 最大値 各行の最大値\n",
    "argmax_op = tf.argmax(const_a, 1)\n",
    "\n",
    "with tf.Session() as sess:\n",
    "    c, min, max = sess.run([const_a,argmin_op,argmax_op])\n",
    "    print c\n",
    "    print min\n",
    "    print max"
   ]
  },
  {
   "cell_type": "code",
   "execution_count": null,
   "metadata": {
    "collapsed": true
   },
   "outputs": [],
   "source": []
  }
 ],
 "metadata": {
  "kernelspec": {
   "display_name": "Python 2",
   "language": "python",
   "name": "python2"
  },
  "language_info": {
   "codemirror_mode": {
    "name": "ipython",
    "version": 2
   },
   "file_extension": ".py",
   "mimetype": "text/x-python",
   "name": "python",
   "nbconvert_exporter": "python",
   "pygments_lexer": "ipython2",
   "version": "2.7.9"
  }
 },
 "nbformat": 4,
 "nbformat_minor": 2
}
