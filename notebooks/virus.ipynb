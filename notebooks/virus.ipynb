{
 "cells": [
  {
   "cell_type": "markdown",
   "metadata": {},
   "source": [
    "ウィルス分布のデータを作成する。"
   ]
  },
  {
   "cell_type": "code",
   "execution_count": 1,
   "metadata": {
    "collapsed": false
   },
   "outputs": [
    {
     "data": {
      "text/plain": [
       "[<matplotlib.lines.Line2D at 0x7f03c63e4c50>]"
      ]
     },
     "execution_count": 1,
     "metadata": {},
     "output_type": "execute_result"
    },
    {
     "data": {
      "image/png": "[encoded data removed]",
      "text/plain": [
       "<matplotlib.figure.Figure at 0x7f03defe9110>"
      ]
     },
     "metadata": {},
     "output_type": "display_data"
    }
   ],
   "source": [
    "import tensorflow as tf\n",
    "import numpy as np\n",
    "import matplotlib.pyplot as plt\n",
    "%matplotlib inline\n",
    "\n",
    "x_positive = np.random.randn(500, 1) + 2\n",
    "y_positive = np.random.randn(500, 1) + 2\n",
    "x_negative = np.random.randn(500, 1) - 2\n",
    "y_negative = np.random.randn(500, 1) - 2\n",
    "\n",
    "plt.figure(1)\n",
    "plt.plot(x_positive, y_positive, 'ro', label='Data1')\n",
    "plt.plot(x_negative, y_negative, 'bo', label='Data2')"
   ]
  },
  {
   "cell_type": "markdown",
   "metadata": {},
   "source": [
    "感染、非感染の(x,y)座標を1つのデータに結合する"
   ]
  },
  {
   "cell_type": "code",
   "execution_count": 2,
   "metadata": {
    "collapsed": false
   },
   "outputs": [
    {
     "name": "stdout",
     "output_type": "stream",
     "text": [
      "[[-1.79510105 -0.9344911 ]\n",
      " [-1.83358312 -2.57615113]\n",
      " [-2.8175962  -1.28735662]\n",
      " ..., \n",
      " [ 3.75633049  2.54164767]\n",
      " [ 1.97954583  1.36675024]\n",
      " [ 2.33600497  1.39233327]]\n"
     ]
    }
   ],
   "source": [
    "N = len(x_positive)\n",
    "POSITIVE = np.zeros((N,2))\n",
    "for i in xrange(N):\n",
    "  POSITIVE[i][0] = x_positive[i]\n",
    "  POSITIVE[i][1] = y_positive[i]\n",
    "\n",
    "NEGATIVE = np.zeros((N,2))\n",
    "for i in xrange(N):\n",
    "  NEGATIVE[i][0] = x_negative[i]\n",
    "  NEGATIVE[i][1] = y_negative[i]\n",
    "\n",
    "VIRUS = np.vstack([NEGATIVE, POSITIVE]).astype(np.float32)\n",
    "\n",
    "print VIRUS"
   ]
  },
  {
   "cell_type": "markdown",
   "metadata": {},
   "source": [
    "各データにラベル付けをする。ウイルス感染のラベルを[0,1]、ウイルス非感染のラベルを[1,0]にする"
   ]
  },
  {
   "cell_type": "code",
   "execution_count": 49,
   "metadata": {
    "collapsed": false
   },
   "outputs": [
    {
     "name": "stdout",
     "output_type": "stream",
     "text": [
      "[[ 0.  1.]\n",
      " [ 0.  1.]\n",
      " [ 0.  1.]\n",
      " ..., \n",
      " [ 1.  0.]\n",
      " [ 1.  0.]\n",
      " [ 1.  0.]]\n"
     ]
    }
   ],
   "source": [
    "STATE = np.zeros((N*2,2), dtype=np.float32)\n",
    "for i in xrange(N*2):\n",
    "  if i < N:\n",
    "    STATE[i][1] = 1\n",
    "  else:\n",
    "    STATE[i][0] = 1\n",
    "\n",
    "print STATE"
   ]
  },
  {
   "cell_type": "markdown",
   "metadata": {},
   "source": [
    "それでは、ここからTensorFlowで結果を求める。"
   ]
  },
  {
   "cell_type": "code",
   "execution_count": 50,
   "metadata": {
    "collapsed": true
   },
   "outputs": [],
   "source": [
    "tf.reset_default_graph()\n",
    "LOGDIR = \"./data\"\n",
    " \n",
    "x = tf.placeholder(tf.float32, shape=(None,2), name=\"input\")\n",
    "y = tf.placeholder(tf.float32, shape=(None,2), name=\"output\")\n",
    "w = tf.Variable(tf.random_normal([2,2], stddev=0.01), dtype=tf.float32, name=\"weight\")\n",
    "b = tf.Variable(tf.random_normal([2], stddev=0.01), dtype=tf.float32, name=\"bias\")"
   ]
  },
  {
   "cell_type": "markdown",
   "metadata": {},
   "source": [
    "ロジスティック回帰のモデルを定義する"
   ]
  },
  {
   "cell_type": "code",
   "execution_count": 51,
   "metadata": {
    "collapsed": true
   },
   "outputs": [],
   "source": [
    "with tf.name_scope('forward'):\n",
    "  y_pred = tf.nn.softmax(tf.matmul(x,w) + b, name=\"forward\")"
   ]
  },
  {
   "cell_type": "markdown",
   "metadata": {},
   "source": [
    "コストの計算する"
   ]
  },
  {
   "cell_type": "code",
   "execution_count": 52,
   "metadata": {
    "collapsed": true
   },
   "outputs": [],
   "source": [
    "with tf.name_scope('cost'):\n",
    "  loss = tf.nn.softmax_cross_entropy_with_logits(labels=y,logits=y_pred)\n",
    "  cost = tf.reduce_mean(loss, 0)"
   ]
  },
  {
   "cell_type": "markdown",
   "metadata": {},
   "source": [
    "予測する"
   ]
  },
  {
   "cell_type": "code",
   "execution_count": 53,
   "metadata": {
    "collapsed": true
   },
   "outputs": [],
   "source": [
    "with tf.name_scope('predict'):\n",
    "  predict_op = tf.argmax(y_pred, 1)"
   ]
  },
  {
   "cell_type": "markdown",
   "metadata": {},
   "source": [
    "精度の計算をする"
   ]
  },
  {
   "cell_type": "code",
   "execution_count": 54,
   "metadata": {
    "collapsed": true
   },
   "outputs": [],
   "source": [
    "with tf.name_scope('accuracy'):\n",
    "  correct_pred = tf.equal(tf.argmax(y_pred,1), tf.argmax(STATE,1))\n",
    "  accuracy_op = tf.reduce_mean(tf.cast(correct_pred, tf.float32))"
   ]
  },
  {
   "cell_type": "markdown",
   "metadata": {},
   "source": [
    "トレーニングの設定をする"
   ]
  },
  {
   "cell_type": "code",
   "execution_count": 55,
   "metadata": {
    "collapsed": false
   },
   "outputs": [
    {
     "name": "stdout",
     "output_type": "stream",
     "text": [
      "step 0, cost 0.698565, accuracy 0.014000\n",
      "step 100, cost 0.397773, accuracy 0.999000\n",
      "step 200, cost 0.363852, accuracy 0.999000\n",
      "step 300, cost 0.350910, accuracy 0.999000\n",
      "step 400, cost 0.343933, accuracy 0.999000\n",
      "step 500, cost 0.339509, accuracy 0.999000\n",
      "step 600, cost 0.336426, accuracy 0.999000\n",
      "step 700, cost 0.334139, accuracy 0.999000\n",
      "step 800, cost 0.332366, accuracy 0.999000\n",
      "step 900, cost 0.330947, accuracy 0.999000\n",
      "[-2,-2]'s answer 1\n",
      "[2,2]'s answer 0\n"
     ]
    }
   ],
   "source": [
    "with tf.Session() as sess:\n",
    "  # 初期化処理\n",
    "  init_op = tf.global_variables_initializer()\n",
    "  sess.run(init_op)\n",
    "\n",
    "  # トレーニング\n",
    "  learning_rate = 0.01\n",
    "  train_op = tf.train.GradientDescentOptimizer(learning_rate).minimize(cost)\n",
    "\n",
    "  # Summary\n",
    "  summary_writer = tf.summary.FileWriter(LOGDIR, sess.graph)\n",
    "\n",
    "  with tf.Graph().as_default():\n",
    "    # トレーニング回数\n",
    "    training_step = 1000\n",
    "    validation_step = 100\n",
    "\n",
    "    # トレーニング\n",
    "    for step in xrange(training_step):\n",
    "      sess.run(train_op, feed_dict={x: VIRUS, y: STATE})\n",
    "\n",
    "      if step % validation_step == 0:\n",
    "        accuracy_output,cost_output = sess.run([accuracy_op,cost], feed_dict={x: VIRUS, y: STATE})\n",
    "        print \"step %d, cost %f, accuracy %f\" % (step,cost_output,accuracy_output)\n",
    "\n",
    "    summary_writer.flush()\n",
    "\n",
    "    # Check answer\n",
    "    data = [[-2,-2]]\n",
    "    x_check = np.array(data)\n",
    "    ans = sess.run(predict_op, feed_dict={x: x_check, y: STATE})\n",
    "    print \"[-2,-2]'s answer %d\" % (ans)\n",
    "\n",
    "    data = [[2,2]]\n",
    "    x_check = np.array(data)\n",
    "    ans = sess.run(predict_op, feed_dict={x: x_check, y: STATE})\n",
    "    print \"[2,2]'s answer %d\" % (ans)"
   ]
  },
  {
   "cell_type": "code",
   "execution_count": null,
   "metadata": {
    "collapsed": true
   },
   "outputs": [],
   "source": []
  }
 ],
 "metadata": {
  "kernelspec": {
   "display_name": "Python 2",
   "language": "python",
   "name": "python2"
  },
  "language_info": {
   "codemirror_mode": {
    "name": "ipython",
    "version": 2
   },
   "file_extension": ".py",
   "mimetype": "text/x-python",
   "name": "python",
   "nbconvert_exporter": "python",
   "pygments_lexer": "ipython2",
   "version": "2.7.9"
  }
 },
 "nbformat": 4,
 "nbformat_minor": 2
}
