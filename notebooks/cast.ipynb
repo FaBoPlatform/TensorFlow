{
 "cells": [
  {
   "cell_type": "markdown",
   "metadata": {},
   "source": [
    "Cast"
   ]
  },
  {
   "cell_type": "code",
   "execution_count": 1,
   "metadata": {
    "collapsed": false
   },
   "outputs": [
    {
     "name": "stdout",
     "output_type": "stream",
     "text": [
      "[-1  0  2 10]\n",
      "<dtype: 'int32'>\n",
      "[ -1.   0.   2.  10.]\n",
      "float32\n",
      "['0.123' '3.14']\n",
      "[ 0.123      3.1400001]\n",
      "[ True False]\n",
      "[1 0]\n"
     ]
    }
   ],
   "source": [
    "# coding:utf-8\n",
    "import numpy as np\n",
    "import tensorflow as tf\n",
    "\n",
    "int_tensor = tf.constant([-1, 0, 2, 10], dtype=tf.int32)\n",
    "int_tensor_cast = tf.cast(int_tensor, dtype=tf.float32)\n",
    "# 以下も同様\n",
    "# int_tensor_cast = tf.to_float(int_tensor)\n",
    "\n",
    "# 文字列Tensor\n",
    "string_tensor = tf.constant([\"0.123\", \"3.14\"], dtype=tf.string)\n",
    "# 文字列Tensorを浮動小数点数にキャストする\n",
    "string_tensor_cast = tf.string_to_number(string_tensor)\n",
    "\n",
    "# Bool値Tensor\n",
    "bool_tensor = tf.constant([True, False], dtype=tf.bool)\n",
    "# Bool値Tensorを整数値にキャストする\n",
    "bool_tensor_cast = tf.to_int32(bool_tensor)\n",
    "\n",
    "with tf.Session() as sess:\n",
    "    print int_tensor.eval()\n",
    "    print int_tensor.dtype\n",
    "    int_tensor = int_tensor_cast.eval()\n",
    "    print int_tensor\n",
    "    print int_tensor.dtype\n",
    "\n",
    "    print string_tensor.eval()\n",
    "    print string_tensor_cast.eval()\n",
    "\n",
    "    print bool_tensor.eval()\n",
    "    print bool_tensor_cast.eval()"
   ]
  },
  {
   "cell_type": "code",
   "execution_count": null,
   "metadata": {
    "collapsed": true
   },
   "outputs": [],
   "source": []
  }
 ],
 "metadata": {
  "kernelspec": {
   "display_name": "Python 2",
   "language": "python",
   "name": "python2"
  },
  "language_info": {
   "codemirror_mode": {
    "name": "ipython",
    "version": 2
   },
   "file_extension": ".py",
   "mimetype": "text/x-python",
   "name": "python",
   "nbconvert_exporter": "python",
   "pygments_lexer": "ipython2",
   "version": "2.7.9"
  }
 },
 "nbformat": 4,
 "nbformat_minor": 2
}
