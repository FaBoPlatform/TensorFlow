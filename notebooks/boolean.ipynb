{
 "cells": [
  {
   "cell_type": "markdown",
   "metadata": {},
   "source": [
    "Trueとなっているインデックスを返す"
   ]
  },
  {
   "cell_type": "code",
   "execution_count": 1,
   "metadata": {
    "collapsed": false
   },
   "outputs": [
    {
     "name": "stdout",
     "output_type": "stream",
     "text": [
      "[[False  True False  True]\n",
      " [ True False  True False]\n",
      " [False False  True  True]\n",
      " [ True False False False]]\n",
      "[[0 1]\n",
      " [0 3]\n",
      " [1 0]\n",
      " [1 2]\n",
      " [2 2]\n",
      " [2 3]\n",
      " [3 0]]\n"
     ]
    }
   ],
   "source": [
    "# coding:utf-8\n",
    "from random import choice\n",
    "import numpy as np\n",
    "import tensorflow as tf\n",
    "\n",
    "# TrueかFalseを持つ4x4行列\n",
    "input_data = np.array([choice([True,False]) for _ in range(16)]).reshape(4, 4)\n",
    "where_op = tf.where(input_data)\n",
    "\n",
    "sess = tf.Session()\n",
    "\n",
    "print input_data\n",
    "# TrueとなっているTensorのインデックスを返す\n",
    "w = sess.run(where_op)\n",
    "print w"
   ]
  },
  {
   "cell_type": "code",
   "execution_count": null,
   "metadata": {
    "collapsed": true
   },
   "outputs": [],
   "source": []
  }
 ],
 "metadata": {
  "kernelspec": {
   "display_name": "Python 2",
   "language": "python",
   "name": "python2"
  },
  "language_info": {
   "codemirror_mode": {
    "name": "ipython",
    "version": 2
   },
   "file_extension": ".py",
   "mimetype": "text/x-python",
   "name": "python",
   "nbconvert_exporter": "python",
   "pygments_lexer": "ipython2",
   "version": "2.7.9"
  }
 },
 "nbformat": 4,
 "nbformat_minor": 2
}
