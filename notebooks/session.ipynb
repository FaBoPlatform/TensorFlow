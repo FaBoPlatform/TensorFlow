{
 "cells": [
  {
   "cell_type": "markdown",
   "metadata": {},
   "source": [
    "Sessionの保存と読み込み"
   ]
  },
  {
   "cell_type": "code",
   "execution_count": 9,
   "metadata": {
    "collapsed": false
   },
   "outputs": [
    {
     "name": "stdout",
     "output_type": "stream",
     "text": [
      "--save ./rand-0--\n",
      "[[ 0.56738025  1.29318893  0.20012558]\n",
      " [ 0.05409123  0.5954473   0.94214749]\n",
      " [ 1.36393642  0.00922111  0.01840344]]\n",
      "--save ./rand-1--\n",
      "[[ 0.00793184  0.28140947 -0.09582984]\n",
      " [ 2.01118255 -0.24437483 -1.63220096]\n",
      " [ 0.03120653  1.01750195 -0.23053376]]\n",
      "--save ./rand-2--\n",
      "[[ 1.99330962  0.59653908 -1.28212738]\n",
      " [-0.37193841 -0.44014138 -0.58220094]\n",
      " [ 0.17938922  0.49688783 -0.74690545]]\n",
      "--load ./rand-2--\n",
      "[[ 1.99330962  0.59653908 -1.28212738]\n",
      " [-0.37193841 -0.44014138 -0.58220094]\n",
      " [ 0.17938922  0.49688783 -0.74690545]]\n"
     ]
    }
   ],
   "source": [
    "import numpy as np\n",
    "import tensorflow as tf\n",
    "\n",
    "# 3x3行列の乱数生成オペレーション\n",
    "rand_op = tf.random_normal(shape=(3,3))\n",
    "# 3x3行列のVariable このノードが保存される\n",
    "x = tf.Variable(tf.zeros(shape=(3,3)))\n",
    "# xに3x3の乱数行列を割り当てるオペレーション\n",
    "update_x = tf.assign(x, rand_op)\n",
    "\n",
    "# セッションの保存・読み込みを行うオブジェクト\n",
    "saver = tf.train.Saver()\n",
    "\n",
    "# 保存用のセッション\n",
    "# rand_opの実行ごとにxノードには違う乱数が格納される\n",
    "# そのときのセッションが保存される\n",
    "with tf.Session() as sess1:\n",
    "  sess1.run(tf.global_variables_initializer())\n",
    "  for i in range(0, 3):\n",
    "    # rand_opを実行して、3x3行列を生成し、xに割り当てる\n",
    "    sess1.run(update_x)\n",
    "    # xの値を表示する\n",
    "    print \"--save ./rand-%d--\" % i\n",
    "    print sess1.run(x)\n",
    "    # セッション情報を保存する\n",
    "    saver.save(sess1, \"./rand\", global_step=i)\n",
    "\n",
    "# セッションの読み込み\n",
    "with tf.Session() as sess2:\n",
    "  sess2.run(tf.global_variables_initializer())\n",
    "  # 最後のセッションを読み込む\n",
    "  saver.restore(sess2, \"./rand-2\")\n",
    "  print \"--load ./rand-2--\"\n",
    "  print sess2.run(x)"
   ]
  },
  {
   "cell_type": "code",
   "execution_count": null,
   "metadata": {
    "collapsed": true
   },
   "outputs": [],
   "source": []
  }
 ],
 "metadata": {
  "kernelspec": {
   "display_name": "Python 2",
   "language": "python",
   "name": "python2"
  },
  "language_info": {
   "codemirror_mode": {
    "name": "ipython",
    "version": 2
   },
   "file_extension": ".py",
   "mimetype": "text/x-python",
   "name": "python",
   "nbconvert_exporter": "python",
   "pygments_lexer": "ipython2",
   "version": "2.7.9"
  }
 },
 "nbformat": 4,
 "nbformat_minor": 2
}
