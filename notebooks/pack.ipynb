{
 "cells": [
  {
   "cell_type": "markdown",
   "metadata": {},
   "source": [
    "pack"
   ]
  },
  {
   "cell_type": "code",
   "execution_count": 1,
   "metadata": {
    "collapsed": false
   },
   "outputs": [
    {
     "name": "stdout",
     "output_type": "stream",
     "text": [
      "[[ 0.  0.]\n",
      " [ 0.  0.]]\n",
      "[[ 1.  1.]\n",
      " [ 1.  1.]]\n",
      "[[ 1.  0.]\n",
      " [ 0.  1.]]\n",
      "[[[ 0.  0.]\n",
      "  [ 0.  0.]]\n",
      "\n",
      " [[ 1.  1.]\n",
      "  [ 1.  1.]]\n",
      "\n",
      " [[ 1.  0.]\n",
      "  [ 0.  1.]]]\n",
      "[3 2 2]\n",
      "[[[ 0.  0.]\n",
      "  [ 1.  1.]\n",
      "  [ 1.  0.]]\n",
      "\n",
      " [[ 0.  0.]\n",
      "  [ 1.  1.]\n",
      "  [ 0.  1.]]]\n",
      "[2 3 2]\n"
     ]
    }
   ],
   "source": [
    "# coding:utf-8\n",
    "import numpy as np\n",
    "import tensorflow as tf\n",
    "\n",
    "x_data = np.zeros((2,2))\n",
    "x = tf.constant(x_data)\n",
    "y_data = np.ones((2,2))\n",
    "y = tf.constant(y_data)\n",
    "z_data = np.eye(2)\n",
    "z = tf.constant(z_data)\n",
    "\n",
    "# 縦方向にTensorをまとめる\n",
    "stack_op = tf.stack([x,y,z])\n",
    "# 横方向にTensorをまとめる\n",
    "stack_op2 = tf.stack([x,y,z], axis=1)\n",
    "\n",
    "with tf.Session() as sess:\n",
    "    rx, ry, rz = sess.run([x,y,z])\n",
    "    print rx\n",
    "    print ry\n",
    "    print rz\n",
    "\n",
    "    p, ps = sess.run([stack_op, tf.shape(stack_op)])\n",
    "    print p\n",
    "    print ps\n",
    "    p, ps = sess.run([stack_op2, tf.shape(stack_op2)])\n",
    "    print p\n",
    "    print ps"
   ]
  },
  {
   "cell_type": "code",
   "execution_count": null,
   "metadata": {
    "collapsed": true
   },
   "outputs": [],
   "source": []
  }
 ],
 "metadata": {
  "kernelspec": {
   "display_name": "Python 2",
   "language": "python",
   "name": "python2"
  },
  "language_info": {
   "codemirror_mode": {
    "name": "ipython",
    "version": 2
   },
   "file_extension": ".py",
   "mimetype": "text/x-python",
   "name": "python",
   "nbconvert_exporter": "python",
   "pygments_lexer": "ipython2",
   "version": "2.7.9"
  }
 },
 "nbformat": 4,
 "nbformat_minor": 2
}
