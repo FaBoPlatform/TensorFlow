{
 "cells": [
  {
   "cell_type": "markdown",
   "metadata": {},
   "source": [
    "ウィルス分布のデータを作成する。"
   ]
  },
  {
   "cell_type": "code",
   "execution_count": 4,
   "metadata": {
    "collapsed": false
   },
   "outputs": [
    {
     "data": {
      "text/plain": [
       "[<matplotlib.lines.Line2D at 0x7f8b5ed61d10>]"
      ]
     },
     "execution_count": 4,
     "metadata": {},
     "output_type": "execute_result"
    },
    {
     "data": {
      "image/png": "[encoded data removed]",
      "text/plain": [
       "<matplotlib.figure.Figure at 0x7f8b6052d510>"
      ]
     },
     "metadata": {},
     "output_type": "display_data"
    }
   ],
   "source": [
    "import tensorflow as tf\n",
    "import numpy as np\n",
    "import matplotlib.pyplot as plt\n",
    "\n",
    "x_positive = np.random.randn(500, 1) + 2\n",
    "y_positive = np.random.randn(500, 1) + 2\n",
    "x_negative = np.random.randn(500, 1) - 2\n",
    "y_negative = np.random.randn(500, 1) - 2\n",
    "\n",
    "plt.figure(1)\n",
    "plt.plot(x_positive, y_positive, 'ro', label='Data1')\n",
    "plt.plot(x_negative, y_negative, 'bo', label='Data2')"
   ]
  },
  {
   "cell_type": "markdown",
   "metadata": {},
   "source": [
    "感染、非感染の(x,y)座標を1つのデータに結合する"
   ]
  },
  {
   "cell_type": "code",
   "execution_count": 5,
   "metadata": {
    "collapsed": false
   },
   "outputs": [
    {
     "name": "stdout",
     "output_type": "stream",
     "text": [
      "[[-2.52602124 -1.5560869 ]\n",
      " [-0.98754537 -0.33516634]\n",
      " [-2.24593019 -1.59417355]\n",
      " ..., \n",
      " [ 0.37142265  1.30117118]\n",
      " [ 1.23769999  4.22338676]\n",
      " [ 1.29728305  1.51972091]]\n"
     ]
    }
   ],
   "source": [
    "N = len(x_positive)\n",
    "POSITIVE = np.zeros((N,2))\n",
    "for i in xrange(N):\n",
    "  POSITIVE[i][0] = x_positive[i]\n",
    "  POSITIVE[i][1] = y_positive[i]\n",
    "\n",
    "NEGATIVE = np.zeros((N,2))\n",
    "for i in xrange(N):\n",
    "  NEGATIVE[i][0] = x_negative[i]\n",
    "  NEGATIVE[i][1] = y_negative[i]\n",
    "\n",
    "VIRUS = np.vstack([NEGATIVE, POSITIVE]).astype(np.float32)\n",
    "\n",
    "print VIRUS"
   ]
  },
  {
   "cell_type": "markdown",
   "metadata": {},
   "source": [
    "各データにラベル付けをする。ウイルス感染のラベルを[0,1]、ウイルス非感染のラベルを[1,0]にする"
   ]
  },
  {
   "cell_type": "code",
   "execution_count": 6,
   "metadata": {
    "collapsed": false
   },
   "outputs": [
    {
     "name": "stdout",
     "output_type": "stream",
     "text": [
      "[[ 0.  1.]\n",
      " [ 0.  1.]\n",
      " [ 0.  1.]\n",
      " ..., \n",
      " [ 1.  0.]\n",
      " [ 1.  0.]\n",
      " [ 1.  0.]]\n"
     ]
    }
   ],
   "source": [
    "STATE = np.zeros((N*2,2), dtype=np.float32)\n",
    "for i in xrange(N*2):\n",
    "  if i < N:\n",
    "    STATE[i][1] = 1\n",
    "  else:\n",
    "    STATE[i][0] = 1\n",
    "\n",
    "print STATE"
   ]
  },
  {
   "cell_type": "markdown",
   "metadata": {},
   "source": [
    "それでは、ここからTensorFlowで結果を求める。"
   ]
  },
  {
   "cell_type": "code",
   "execution_count": 7,
   "metadata": {
    "collapsed": true
   },
   "outputs": [],
   "source": [
    "tf.reset_default_graph()\n",
    "LOGDIR = \"./data_virus\"\n",
    " \n",
    "x = tf.placeholder(tf.float32, shape=(None,2), name=\"input\")\n",
    "y = tf.placeholder(tf.float32, shape=(None,2), name=\"output\")\n",
    "w = tf.Variable(tf.random_normal([2,2], stddev=0.01), dtype=tf.float32, name=\"weight\")\n",
    "b = tf.Variable(tf.random_normal([2], stddev=0.01), dtype=tf.float32, name=\"bias\")"
   ]
  },
  {
   "cell_type": "markdown",
   "metadata": {},
   "source": [
    "ロジスティック回帰のモデルを定義する"
   ]
  },
  {
   "cell_type": "code",
   "execution_count": 8,
   "metadata": {
    "collapsed": true
   },
   "outputs": [],
   "source": [
    "with tf.name_scope('forward'):\n",
    "  y_pred = tf.nn.softmax(tf.matmul(x,w) + b, name=\"forward\")"
   ]
  },
  {
   "cell_type": "markdown",
   "metadata": {},
   "source": [
    "コストの定義をする"
   ]
  },
  {
   "cell_type": "code",
   "execution_count": 9,
   "metadata": {
    "collapsed": true
   },
   "outputs": [],
   "source": [
    "with tf.name_scope('cost'):\n",
    "  loss = tf.nn.softmax_cross_entropy_with_logits(labels=y,logits=y_pred)\n",
    "  cost = tf.reduce_mean(loss, 0)"
   ]
  },
  {
   "cell_type": "markdown",
   "metadata": {},
   "source": [
    "精度の定義をする"
   ]
  },
  {
   "cell_type": "code",
   "execution_count": 10,
   "metadata": {
    "collapsed": true
   },
   "outputs": [],
   "source": [
    "with tf.name_scope('accuracy'):\n",
    "  correct_pred = tf.equal(tf.argmax(y_pred,1), tf.argmax(STATE,1))\n",
    "  accuracy_op = tf.reduce_mean(tf.cast(correct_pred, tf.float32))"
   ]
  },
  {
   "cell_type": "markdown",
   "metadata": {},
   "source": [
    "TensorBoardへの反映"
   ]
  },
  {
   "cell_type": "code",
   "execution_count": 11,
   "metadata": {
    "collapsed": false
   },
   "outputs": [],
   "source": [
    "# TensorBoardへの反映\n",
    "w_graph = tf.summary.histogram(\"W_graph\", w)\n",
    "b_graph = tf.summary.histogram(\"b_graph\", b)\n",
    "y_graph = tf.summary.histogram(\"y_graph\", y)\n",
    "cost_graph = tf.summary.scalar(\"cost_graph\", cost)"
   ]
  },
  {
   "cell_type": "markdown",
   "metadata": {},
   "source": [
    "トレーニングの設定をする"
   ]
  },
  {
   "cell_type": "code",
   "execution_count": 12,
   "metadata": {
    "collapsed": false
   },
   "outputs": [
    {
     "name": "stdout",
     "output_type": "stream",
     "text": [
      "step 0, cost 0.680736, accuracy 0.981000\n",
      "step 100, cost 0.394187, accuracy 0.997000\n",
      "step 200, cost 0.362436, accuracy 0.997000\n",
      "step 300, cost 0.350282, accuracy 0.997000\n",
      "step 400, cost 0.343721, accuracy 0.997000\n",
      "step 500, cost 0.339558, accuracy 0.997000\n",
      "step 600, cost 0.336656, accuracy 0.997000\n",
      "step 700, cost 0.334504, accuracy 0.997000\n",
      "step 800, cost 0.332835, accuracy 0.997000\n",
      "step 900, cost 0.331499, accuracy 0.997000\n"
     ]
    }
   ],
   "source": [
    "with tf.Session() as sess:\n",
    "  # 初期化処理\n",
    "  init_op = tf.global_variables_initializer()\n",
    "  sess.run(init_op)\n",
    "\n",
    "  # トレーニング\n",
    "  learning_rate = 0.01\n",
    "  train_op = tf.train.GradientDescentOptimizer(learning_rate).minimize(cost)\n",
    "\n",
    "  # Summary\n",
    "  summary_writer = tf.summary.FileWriter(LOGDIR, sess.graph)\n",
    "  summary_op = tf.summary.merge_all()\n",
    "  \n",
    "  with tf.Graph().as_default():\n",
    "    # トレーニング回数\n",
    "    training_step = 1000\n",
    "    validation_step = 100\n",
    "\n",
    "    # トレーニング\n",
    "    for step in xrange(training_step):\n",
    "      sess.run(train_op, feed_dict={x: VIRUS, y: STATE})\n",
    "\n",
    "      if step % validation_step == 0:\n",
    "        accuracy_output,cost_output = sess.run([accuracy_op,cost], feed_dict={x: VIRUS, y: STATE})\n",
    "        print \"step %d, cost %f, accuracy %f\" % (step,cost_output,accuracy_output)\n",
    "        \n",
    "        # TensorBoardにも反映\n",
    "        summary_str = sess.run(summary_op, feed_dict={x: VIRUS, y: STATE})\n",
    "        summary_writer.add_summary(summary_str, step)\n",
    "            \n",
    "    summary_writer.flush()"
   ]
  },
  {
   "cell_type": "markdown",
   "metadata": {},
   "source": [
    "再計算時はフォルダを消す(TensorFlowを実行する前に消す事)"
   ]
  },
  {
   "cell_type": "code",
   "execution_count": 1,
   "metadata": {
    "collapsed": false
   },
   "outputs": [],
   "source": [
    "!rm -r ./data_virus"
   ]
  },
  {
   "cell_type": "markdown",
   "metadata": {},
   "source": [
    "TensorBoardを起動\n",
    "\n",
    "Datalabでは、TensorBoardをForground実行しかできないので、プロセスの停止は、メニューの[Reset Session]でResetを選ぶ事で停止する"
   ]
  },
  {
   "cell_type": "code",
   "execution_count": null,
   "metadata": {
    "collapsed": false
   },
   "outputs": [
    {
     "name": "stdout",
     "output_type": "stream",
     "text": [
      "Starting TensorBoard 41 on port 6006\r\n",
      "(You can navigate to http://172.17.0.2:6006)\r\n"
     ]
    }
   ],
   "source": [
    "!tensorboard --logdir=data_virus/"
   ]
  },
  {
   "cell_type": "code",
   "execution_count": null,
   "metadata": {
    "collapsed": true
   },
   "outputs": [],
   "source": []
  }
 ],
 "metadata": {
  "kernelspec": {
   "display_name": "Python 2",
   "language": "python",
   "name": "python2"
  },
  "language_info": {
   "codemirror_mode": {
    "name": "ipython",
    "version": 2
   },
   "file_extension": ".py",
   "mimetype": "text/x-python",
   "name": "python",
   "nbconvert_exporter": "python",
   "pygments_lexer": "ipython2",
   "version": "2.7.9"
  }
 },
 "nbformat": 4,
 "nbformat_minor": 2
}
