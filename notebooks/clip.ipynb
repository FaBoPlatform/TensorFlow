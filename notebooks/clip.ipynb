{
 "cells": [
  {
   "cell_type": "markdown",
   "metadata": {},
   "source": [
    "Clip"
   ]
  },
  {
   "cell_type": "code",
   "execution_count": 3,
   "metadata": {
    "collapsed": false
   },
   "outputs": [
    {
     "name": "stdout",
     "output_type": "stream",
     "text": [
      "[[ 0.    0.25]\n",
      " [ 0.5   1.  ]]\n",
      "[[  1.00000001e-10   2.50000000e-01]\n",
      " [  5.00000000e-01   1.00000000e+00]]\n"
     ]
    }
   ],
   "source": [
    "# coding:utf-8\n",
    "import tensorflow as tf\n",
    "\n",
    "sess = tf.Session()\n",
    "p = tf.constant([[0.0,0.25],[0.5,1.0]], dtype=tf.float32, shape=(2,2))\n",
    "# 値を指定した範囲の中に収まるようにする\n",
    "value = tf.clip_by_value(p, 1e-10, 1.0)\n",
    "\n",
    "print p.eval(session=sess)\n",
    "print value.eval(session=sess)"
   ]
  },
  {
   "cell_type": "markdown",
   "metadata": {},
   "source": [
    "Clip、Sessionで囲う"
   ]
  },
  {
   "cell_type": "code",
   "execution_count": 4,
   "metadata": {
    "collapsed": false
   },
   "outputs": [
    {
     "name": "stdout",
     "output_type": "stream",
     "text": [
      "[[ 0.    0.25]\n",
      " [ 0.5   1.  ]]\n",
      "[[  1.00000001e-10   2.50000000e-01]\n",
      " [  5.00000000e-01   1.00000000e+00]]\n"
     ]
    }
   ],
   "source": [
    "# coding:utf-8\n",
    "import tensorflow as tf\n",
    "\n",
    "with tf.Session() as sess:\n",
    "  p = tf.constant([[0.0,0.25],[0.5,1.0]], dtype=tf.float32, shape=(2,2))\n",
    "  # 値を指定した範囲の中に収まるようにする\n",
    "  value = tf.clip_by_value(p, 1e-10, 1.0)\n",
    "\n",
    "  print p.eval()\n",
    "  print value.eval()"
   ]
  },
  {
   "cell_type": "code",
   "execution_count": null,
   "metadata": {
    "collapsed": true
   },
   "outputs": [],
   "source": []
  }
 ],
 "metadata": {
  "kernelspec": {
   "display_name": "Python 2",
   "language": "python",
   "name": "python2"
  }
 },
 "nbformat": 4,
 "nbformat_minor": 2
}
