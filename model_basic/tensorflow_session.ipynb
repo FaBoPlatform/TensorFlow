{
 "cells": [
  {
   "cell_type": "markdown",
   "metadata": {},
   "source": [
    "# セッションの保存・読み込み\n",
    "---\n",
    "セッション内の`Variables`を保存・読み込む。モデルの学習時にパラメタの値を保存しておきたい場合に利用する。"
   ]
  },
  {
   "cell_type": "markdown",
   "metadata": {},
   "source": [
    "## Sample"
   ]
  },
  {
   "cell_type": "code",
   "execution_count": 1,
   "metadata": {
    "collapsed": true
   },
   "outputs": [],
   "source": [
    "import numpy as np\n",
    "import tensorflow as tf"
   ]
  },
  {
   "cell_type": "code",
   "execution_count": 2,
   "metadata": {
    "collapsed": true
   },
   "outputs": [],
   "source": [
    "# 3x3行列の乱数生成オペレーション\n",
    "rand_op = tf.random_normal(shape=(3,3))\n",
    "# 3x3行列のVariable このノードが保存される\n",
    "x = tf.Variable(tf.zeros(shape=(3,3)))\n",
    "# xに3x3の乱数行列を割り当てるオペレーション\n",
    "update_x = tf.assign(x, rand_op)"
   ]
  },
  {
   "cell_type": "code",
   "execution_count": 3,
   "metadata": {
    "collapsed": true
   },
   "outputs": [],
   "source": [
    "# セッションの保存・読み込みを行うオブジェクト\n",
    "saver = tf.train.Saver()"
   ]
  },
  {
   "cell_type": "code",
   "execution_count": 5,
   "metadata": {
    "collapsed": false
   },
   "outputs": [
    {
     "name": "stdout",
     "output_type": "stream",
     "text": [
      "--save ./ckpt/rand-0\n",
      "[[ 0.41520497  1.30850315  0.79608464]\n",
      " [-1.05371237  0.4179754   1.70405078]\n",
      " [-2.09356713  1.65813887  2.04488707]]\n",
      "--save ./ckpt/rand-1\n",
      "[[ 0.43886122 -0.48472795 -2.66985703]\n",
      " [ 0.34088948  0.78776151 -1.56999636]\n",
      " [-1.7500118  -0.51133436 -1.34959686]]\n",
      "--save ./ckpt/rand-2\n",
      "[[ 1.59489274  0.13907592  1.54993415]\n",
      " [-1.54051971  0.44665596 -0.01095306]\n",
      " [-0.80483067 -1.47003615  0.5624854 ]]\n"
     ]
    }
   ],
   "source": [
    "# 保存用のセッション\n",
    "# rand_opの実行ごとにxノードには違う乱数が格納される\n",
    "# その時のセッションが保存される\n",
    "with tf.Session() as sess1:\n",
    "  sess1.run(tf.global_variables_initializer())\n",
    "  for i in range(0,3):\n",
    "    # rand_opを実行して、3x3行列を生成し、xに割り当てる\n",
    "    sess1.run(update_x)\n",
    "    # xの値を表示する\n",
    "    print \"--save ./ckpt/rand-%d\" % i\n",
    "    print sess1.run(x)\n",
    "    # セッション情報を保存する\n",
    "    saver.save(sess1,\"./ckpt/rand\", global_step=i)"
   ]
  },
  {
   "cell_type": "code",
   "execution_count": 6,
   "metadata": {
    "collapsed": false
   },
   "outputs": [
    {
     "name": "stdout",
     "output_type": "stream",
     "text": [
      "INFO:tensorflow:Restoring parameters from ./ckpt/rand-2\n",
      "--load ./ckpt/rand-2\n",
      "[[ 1.59489274  0.13907592  1.54993415]\n",
      " [-1.54051971  0.44665596 -0.01095306]\n",
      " [-0.80483067 -1.47003615  0.5624854 ]]\n"
     ]
    }
   ],
   "source": [
    "# セッションの読み込み\n",
    "with tf.Session() as sess2:\n",
    "  sess2.run(tf.global_variables_initializer())\n",
    "  # 最後のセッションを読み込む\n",
    "  saver.restore(sess2, \"./ckpt/rand-2\")\n",
    "  print \"--load ./ckpt/rand-2\"\n",
    "  print sess2.run(x)"
   ]
  },
  {
   "cell_type": "markdown",
   "metadata": {},
   "source": [
    "以下のようなファイルが生成させる\n",
    "\n",
    "```shell\n",
    "$ ls ./ckpt/rand*\n",
    "rand-0.data-00000-of-00001 rand-1.data-00000-of-00001 rand-2.data-00000-of-00001\n",
    "rand-0.index               rand-1.index               rand-2.index\n",
    "rand-0.meta                rand-1.meta                rand-2.meta\n",
    "```\n",
    "\n",
    "## ノート\n",
    "\n",
    "セッションの読み込み時にファイルパスを\"ファイル名\"とすると失敗する可能性あり。\"./ファイル名\"としたところ成功した。\n",
    "\n",
    "実行環境:\n",
    "\n",
    "* Python 2.7.12 :: Anaconda 4.1.1 (x86_64)\n",
    "* TensorFlow 0.12.0-rc0\n",
    "\n",
    "類似の不具合:\n",
    "\n",
    "* https://github.com/tensorflow/tensorflow/issues/571\n",
    "\n",
    "---\n",
    "\n",
    "## Notebook\n",
    "\n",
    "[https://github.com/FaBoPlatform/TensorFlow/blob/master/notebooks/session.ipynb](https://github.com/FaBoPlatform/TensorFlow/blob/master/notebooks/session.ipynb)"
   ]
  }
 ],
 "metadata": {
  "kernelspec": {
   "display_name": "Python 2",
   "language": "python",
   "name": "python2"
  },
  "language_info": {
   "codemirror_mode": {
    "name": "ipython",
    "version": 2
   },
   "file_extension": ".py",
   "mimetype": "text/x-python",
   "name": "python",
   "nbconvert_exporter": "python",
   "pygments_lexer": "ipython2",
   "version": "2.7.9"
  }
 },
 "nbformat": 4,
 "nbformat_minor": 2
}
