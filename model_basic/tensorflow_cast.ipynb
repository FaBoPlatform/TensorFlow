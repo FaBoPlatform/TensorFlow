{
 "cells": [
  {
   "cell_type": "markdown",
   "metadata": {},
   "source": [
    "# キャスト\n",
    "---\n",
    "Tensorの値を変換する\n",
    "\n",
    "|関数名|説明|\n",
    "|:-:|:-:|\n",
    "|`tf.cast(x, dtype)`|キャストする|\n",
    "|`tf.string_to_number(string_tensor)`|文字列を`tf.float32`にキャストする|\n",
    "|`tf.to_float(x)`|`tf.float32`にキャストする|\n",
    "|`tf.to_int32(x)`|`tf.int32`にキャストする|"
   ]
  },
  {
   "cell_type": "code",
   "execution_count": 10,
   "metadata": {
    "collapsed": true
   },
   "outputs": [],
   "source": [
    "# coding:utf-8\n",
    "import numpy as np\n",
    "import tensorflow as tf"
   ]
  },
  {
   "cell_type": "code",
   "execution_count": 11,
   "metadata": {
    "collapsed": true
   },
   "outputs": [],
   "source": [
    "int_tensor = tf.constant([-1, 0, 2, 10],dtype=tf.int32)\n",
    "int_tensor_cast = tf.cast(int_tensor, dtype=tf.float32)\n",
    "# 以下も同様\n",
    "# int_tensor_cast = tf.to_float(int_tensor)"
   ]
  },
  {
   "cell_type": "code",
   "execution_count": 12,
   "metadata": {
    "collapsed": true
   },
   "outputs": [],
   "source": [
    "# 文字列Tensor\n",
    "string_tensor = tf.constant([\"0.123\",\"3.14\"], dtype=tf.string)\n",
    "# 文字列Tensorを浮動小数点にキャストする\n",
    "string_tensor_cast = tf.string_to_number(string_tensor)"
   ]
  },
  {
   "cell_type": "code",
   "execution_count": 13,
   "metadata": {
    "collapsed": true
   },
   "outputs": [],
   "source": [
    "# Bool値Tensor\n",
    "bool_tensor = tf.constant([True, False], dtype=tf.bool)\n",
    "# Bool値Tensorを整数値にキャストする\n",
    "bool_tensor_cast = tf.to_int32(bool_tensor)"
   ]
  },
  {
   "cell_type": "code",
   "execution_count": 14,
   "metadata": {
    "collapsed": false
   },
   "outputs": [
    {
     "name": "stdout",
     "output_type": "stream",
     "text": [
      "[-1  0  2 10]\n",
      "<dtype: 'int32'>\n",
      "[ -1.   0.   2.  10.]\n",
      "float32\n"
     ]
    }
   ],
   "source": [
    "with tf.Session() as sess:\n",
    "  print int_tensor.eval()\n",
    "  print int_tensor.dtype\n",
    "  int_tensor = int_tensor_cast.eval()\n",
    "  print int_tensor\n",
    "  print int_tensor.dtype\n",
    "  \n",
    "sess.close()"
   ]
  },
  {
   "cell_type": "code",
   "execution_count": 15,
   "metadata": {
    "collapsed": false
   },
   "outputs": [
    {
     "name": "stdout",
     "output_type": "stream",
     "text": [
      "['0.123' '3.14']\n",
      "[ 0.123      3.1400001]\n"
     ]
    }
   ],
   "source": [
    "with tf.Session() as sess:\n",
    "  print string_tensor.eval()\n",
    "  print string_tensor_cast.eval()\n",
    "  \n",
    "sess.close()"
   ]
  },
  {
   "cell_type": "code",
   "execution_count": 16,
   "metadata": {
    "collapsed": false
   },
   "outputs": [
    {
     "name": "stdout",
     "output_type": "stream",
     "text": [
      "[ True False]\n",
      "<dtype: 'int32'>\n"
     ]
    }
   ],
   "source": [
    "with tf.Session() as sess:\n",
    "  print bool_tensor.eval()\n",
    "  print bool_tensor_cast.dtype\n",
    "  \n",
    "sess.close()"
   ]
  },
  {
   "cell_type": "markdown",
   "metadata": {},
   "source": [
    "## 参考\n",
    "\n",
    "* https://www.tensorflow.org/api_guides/python/array_ops#Casting"
   ]
  }
 ],
 "metadata": {
  "kernelspec": {
   "display_name": "Python 2",
   "language": "python",
   "name": "python2"
  },
  "language_info": {
   "codemirror_mode": {
    "name": "ipython",
    "version": 2
   },
   "file_extension": ".py",
   "mimetype": "text/x-python",
   "name": "python",
   "nbconvert_exporter": "python",
   "pygments_lexer": "ipython2",
   "version": "2.7.9"
  }
 },
 "nbformat": 4,
 "nbformat_minor": 2
}
