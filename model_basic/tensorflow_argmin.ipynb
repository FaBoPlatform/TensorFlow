{
 "cells": [
  {
   "cell_type": "markdown",
   "metadata": {},
   "source": [
    "# 最小値・最大値\n",
    "---\n",
    "> tf.argmin(input, dimension, name=None)\n",
    "\n",
    "最小値のインデックスを返す  \n",
    "\n",
    "|引数名|概要|\n",
    "|:--|:--|\n",
    "|input|引数として渡すTensor|\n",
    "|dimension|処理対象とする次元, ベクトルの場合は0、行列の場合、0:列、1:行|\n",
    "\n",
    "> tf.argmax(input, dimension, name=None)\n",
    "\n",
    "最大値のインデックスを返す\n",
    "\n",
    "|引数名|概要|\n",
    "|:--|:--|\n",
    "|input|引数として渡すTensor|\n",
    "|dimension|処理対象とする次元, ベクトルの場合は0、行列の場合、0:列、1:行|"
   ]
  },
  {
   "cell_type": "code",
   "execution_count": 1,
   "metadata": {
    "collapsed": true
   },
   "outputs": [],
   "source": [
    "# coding:utf-8\n",
    "import numpy as np\n",
    "import tensorflow as tf"
   ]
  },
  {
   "cell_type": "code",
   "execution_count": 2,
   "metadata": {
    "collapsed": true
   },
   "outputs": [],
   "source": [
    "# 4x4行列　要素の値は0~100の乱数\n",
    "data_a = np.random.randint(0,100,(4,4))\n",
    "const_a = tf.constant(data_a,dtype=tf.float32)"
   ]
  },
  {
   "cell_type": "code",
   "execution_count": 3,
   "metadata": {
    "collapsed": true
   },
   "outputs": [],
   "source": [
    "# 最小値　各行の最小値\n",
    "argmin_op = tf.argmin(const_a,1)\n",
    "# 最大値　各行の最大値\n",
    "argmax_op = tf.argmax(const_a,1)"
   ]
  },
  {
   "cell_type": "code",
   "execution_count": 4,
   "metadata": {
    "collapsed": false
   },
   "outputs": [
    {
     "name": "stdout",
     "output_type": "stream",
     "text": [
      "[[ 88.  26.  38.  88.]\n",
      " [  1.  81.  88.  46.]\n",
      " [ 79.  48.   6.  10.]\n",
      " [ 77.  52.  24.  64.]]\n",
      "[1 0 2 2]\n",
      "[0 2 0 0]\n"
     ]
    }
   ],
   "source": [
    "with tf.Session() as sess:\n",
    "  c,min,max = sess.run([const_a,argmin_op,argmax_op])\n",
    "  print c\n",
    "  print min\n",
    "  print max"
   ]
  },
  {
   "cell_type": "markdown",
   "metadata": {},
   "source": [
    "## 参考\n",
    "\n",
    "* https://www.tensorflow.org/api_docs/python/tf/argmin\n",
    "* https://www.tensorflow.org/api_docs/python/tf/argmax"
   ]
  }
 ],
 "metadata": {
  "kernelspec": {
   "display_name": "Python 2",
   "language": "python",
   "name": "python2"
  },
  "language_info": {
   "codemirror_mode": {
    "name": "ipython",
    "version": 2
   },
   "file_extension": ".py",
   "mimetype": "text/x-python",
   "name": "python",
   "nbconvert_exporter": "python",
   "pygments_lexer": "ipython2",
   "version": "2.7.9"
  }
 },
 "nbformat": 4,
 "nbformat_minor": 2
}
