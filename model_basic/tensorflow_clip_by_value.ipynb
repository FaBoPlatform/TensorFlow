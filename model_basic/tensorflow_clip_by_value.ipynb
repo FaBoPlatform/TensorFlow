{
 "cells": [
  {
   "cell_type": "markdown",
   "metadata": {},
   "source": [
    "# Tensorのクリッピング\n",
    "\n",
    "Tensorを指定した範囲に収まるようにする\n",
    "\n",
    "> tf.clip_by_value(t, clip_value_min, clip_value_max, name=None)\n",
    "\n",
    "|引数名|概要|\n",
    "|:--|:--|\n",
    "| t | A Tensor |\n",
    "| clip_value_min | 範囲の最小値となるスカラー値 |\n",
    "| clip_value_max | 範囲の最大値となるスカラー値 |"
   ]
  },
  {
   "cell_type": "code",
   "execution_count": 1,
   "metadata": {
    "collapsed": true
   },
   "outputs": [],
   "source": [
    "import tensorflow as tf"
   ]
  },
  {
   "cell_type": "code",
   "execution_count": 5,
   "metadata": {
    "collapsed": true
   },
   "outputs": [],
   "source": [
    "sess = tf.Session()\n",
    "p = tf.constant([[0.0,0.25],[0.5,0.1]],dtype=tf.float32,shape=(2,2))\n",
    "# 値を指定した範囲の中に収まるようにする\n",
    "value = tf.clip_by_value(p, 1e-10, 1.0)"
   ]
  },
  {
   "cell_type": "code",
   "execution_count": 6,
   "metadata": {
    "collapsed": false
   },
   "outputs": [
    {
     "name": "stdout",
     "output_type": "stream",
     "text": [
      "[[ 0.    0.25]\n",
      " [ 0.5   0.1 ]]\n",
      "[[  1.00000001e-10   2.50000000e-01]\n",
      " [  5.00000000e-01   1.00000001e-01]]\n"
     ]
    }
   ],
   "source": [
    "print p.eval(session=sess)\n",
    "print value.eval(session=sess)"
   ]
  }
 ],
 "metadata": {
  "kernelspec": {
   "display_name": "Python 2",
   "language": "python",
   "name": "python2"
  },
  "language_info": {
   "codemirror_mode": {
    "name": "ipython",
    "version": 2
   },
   "file_extension": ".py",
   "mimetype": "text/x-python",
   "name": "python",
   "nbconvert_exporter": "python",
   "pygments_lexer": "ipython2",
   "version": "2.7.9"
  }
 },
 "nbformat": 4,
 "nbformat_minor": 2
}
