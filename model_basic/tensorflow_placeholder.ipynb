{
 "cells": [
  {
   "cell_type": "markdown",
   "metadata": {},
   "source": [
    "# Constant\n",
    "---\n",
    "Constantは、定数である。\n",
    "\n",
    "> tf.constant(value, dtype=None, shape=None, name='Const', verify_shape=False)\n",
    "\n",
    "\n",
    "|引数名|概要|\n",
    "|:--|:--|\n",
    "| value | dtypeで指定したOutputの定数の値 |\n",
    "| dtype | Tensorの型 |\n",
    "| shape | Tensorの形状, 無指定の場合は任意の形状のTensorを渡せる |\n",
    "| name | 名前(Const) |\n",
    "| verify_shape | 値の形状のVarification(検証)をするか |"
   ]
  },
  {
   "cell_type": "code",
   "execution_count": 1,
   "metadata": {
    "collapsed": true
   },
   "outputs": [],
   "source": [
    "import tensorflow as tf"
   ]
  },
  {
   "cell_type": "code",
   "execution_count": 2,
   "metadata": {
    "collapsed": false
   },
   "outputs": [
    {
     "name": "stdout",
     "output_type": "stream",
     "text": [
      "Tensor(\"Const:0\", shape=(3, 2), dtype=int32)\n"
     ]
    }
   ],
   "source": [
    "const_a = tf.constant([1,2,3,4,5,6],shape=(3,2))\n",
    "print(const_a)"
   ]
  },
  {
   "cell_type": "code",
   "execution_count": 3,
   "metadata": {
    "collapsed": false
   },
   "outputs": [
    {
     "name": "stdout",
     "output_type": "stream",
     "text": [
      "[[1 2]\n",
      " [3 4]\n",
      " [5 6]]\n"
     ]
    }
   ],
   "source": [
    "sess = tf.Session()\n",
    "result_a = sess.run(const_a)\n",
    "print(result_a)\n",
    "sess.close()"
   ]
  },
  {
   "cell_type": "markdown",
   "metadata": {},
   "source": [
    "# Variable\n",
    "---\n",
    "Variableは、変数である。\n",
    "\n",
    "> tf.Variable.__init__(initial_value=None, trainable=True, collections=None, validate_shape=True, caching_device=None, name=None, variable_def=None, dtype=None, expected_shape=None, import_scope=None)\n",
    "\n",
    "|引数名|概要|\n",
    "|:--|:--|\n",
    "| initial_value | 初期値 |\n",
    "| trainable| |\n",
    "| collections| |\n",
    "| validate_shape| |\n",
    "| caching_device| |\n",
    "| name | 名前(Const) |\n",
    "| variable_def| |\n",
    "| dtype | Tensorの型 |\n",
    "| expected_shape |  |\n",
    "| import_scope| | "
   ]
  },
  {
   "cell_type": "code",
   "execution_count": 4,
   "metadata": {
    "collapsed": false
   },
   "outputs": [
    {
     "name": "stdout",
     "output_type": "stream",
     "text": [
      "<tf.Variable 'Variable:0' shape=(2, 2) dtype=float32_ref>\n"
     ]
    }
   ],
   "source": [
    "variable_a = tf.Variable([[1.0,1.0],[2.0,2.0]],dtype=tf.float32)\n",
    "print(variable_a)"
   ]
  },
  {
   "cell_type": "code",
   "execution_count": 5,
   "metadata": {
    "collapsed": false
   },
   "outputs": [
    {
     "name": "stdout",
     "output_type": "stream",
     "text": [
      "[[ 1.  1.]\n",
      " [ 2.  2.]]\n"
     ]
    }
   ],
   "source": [
    "#Initializerで初期化を行う\n",
    "sess = tf.Session()\n",
    "sess.run(tf.global_variables_initializer())\n",
    "\n",
    "result_a = sess.run(variable_a)\n",
    "print(result_a)\n",
    "sess.close()"
   ]
  },
  {
   "cell_type": "markdown",
   "metadata": {},
   "source": [
    "# Placeholder\n",
    "---\n",
    "Placeholderは後でデータを格納するための空箱のようなもの。  \n",
    "Placeholderは、Session時に値を引数として渡す事ができます。  \n",
    "基本的には`sess.run()`内で`feed_dict`にデータを格納する処理を行う  \n",
    "> tf.placeholder(dtype, shape=None, name=None)\n",
    "\n",
    "\n",
    "|引数名|概要|\n",
    "|:--|:--|\n",
    "| dtype | Tensorの型 |\n",
    "| shape | Tensorの形状, 無指定の場合は任意の形状のTensorを渡せる |\n",
    "| name | 操作の名前 |"
   ]
  },
  {
   "cell_type": "code",
   "execution_count": 8,
   "metadata": {
    "collapsed": false
   },
   "outputs": [
    {
     "name": "stdout",
     "output_type": "stream",
     "text": [
      "5\n"
     ]
    }
   ],
   "source": [
    "ph_a = tf.placeholder(tf.int16)\n",
    "ph_b = tf.placeholder(tf.int16)\n",
    "\n",
    "add_op = tf.add(ph_a,ph_b)\n",
    "\n",
    "sess = tf.Session()\n",
    "result_a = sess.run(add_op,feed_dict={ph_a:2,ph_b:3})\n",
    "print(result_a)\n",
    "sess.close()"
   ]
  },
  {
   "cell_type": "markdown",
   "metadata": {},
   "source": [
    "## 参考\n",
    "\n",
    "[Placeholder](https://www.tensorflow.org/api_docs/python/io_ops/placeholders#placeholder)"
   ]
  }
 ],
 "metadata": {
  "kernelspec": {
   "display_name": "Python 2",
   "language": "python",
   "name": "python2"
  },
  "language_info": {
   "codemirror_mode": {
    "name": "ipython",
    "version": 2
   },
   "file_extension": ".py",
   "mimetype": "text/x-python",
   "name": "python",
   "nbconvert_exporter": "python",
   "pygments_lexer": "ipython2",
   "version": "2.7.9"
  }
 },
 "nbformat": 4,
 "nbformat_minor": 2
}
