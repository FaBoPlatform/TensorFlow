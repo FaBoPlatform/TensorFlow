{
 "cells": [
  {
   "cell_type": "markdown",
   "metadata": {},
   "source": [
    "# 標準正規分布のTensorを作る\n",
    "---\n",
    "正規分布により乱数を生成する。\n",
    "\n",
    "> tf.random_normal(shape, mean=0.0, stddev=1.0, dtype=tf.float32, seed=None, name=None)\n",
    "\n",
    "\n",
    "|変数|概要|\n",
    "|:--|:--|\n",
    "|shape|Tensorのサイズ|\n",
    "|mean|平均|\n",
    "|stdev|標準偏差| \n",
    "|dtype|値の型|\n",
    "|seed|シード|\n",
    "|name|操作名|\n",
    "\n",
    "デフォルトでは`mean=0.0, stddev=1.0`となっており、標準正規分布になっている。"
   ]
  },
  {
   "cell_type": "markdown",
   "metadata": {},
   "source": [
    "## Sample\n",
    "\n",
    "正規分布"
   ]
  },
  {
   "cell_type": "code",
   "execution_count": 3,
   "metadata": {
    "collapsed": true
   },
   "outputs": [],
   "source": [
    "# coding:utf-8\n",
    "import tensorflow as tf\n",
    "import numpy as np"
   ]
  },
  {
   "cell_type": "code",
   "execution_count": 4,
   "metadata": {
    "collapsed": false
   },
   "outputs": [
    {
     "name": "stdout",
     "output_type": "stream",
     "text": [
      "[[  2.14010453e+00   1.63878024e-01  -8.76375496e-01]\n",
      " [ -3.26650083e-01   6.48519516e-01   3.05447489e-01]\n",
      " [ -7.65992641e-01  -4.91622428e-04  -4.55635995e-01]]\n"
     ]
    }
   ],
   "source": [
    "# 標準正規分布による乱数を値にもつ3x3行列\n",
    "x = tf.random_normal(shape=(3,3))\n",
    "\n",
    "sess = tf.Session()\n",
    "y = sess.run(x)\n",
    "print y\n",
    "sess.close()"
   ]
  },
  {
   "cell_type": "markdown",
   "metadata": {},
   "source": [
    "1万件に増やし、正規分布が1.0に近づくかを確認　"
   ]
  },
  {
   "cell_type": "code",
   "execution_count": 6,
   "metadata": {
    "collapsed": false
   },
   "outputs": [
    {
     "name": "stdout",
     "output_type": "stream",
     "text": [
      "0.00350512\n",
      "1.00401\n"
     ]
    }
   ],
   "source": [
    "# 標準正規分布による乱数を値にもつ3x3行列\n",
    "x = tf.random_normal(shape=(5000,2))\n",
    "\n",
    "sess = tf.Session()\n",
    "y = sess.run(x)\n",
    "\n",
    "print np.average(y)\n",
    "print np.std(y)\n",
    "sess.close()"
   ]
  },
  {
   "cell_type": "markdown",
   "metadata": {},
   "source": [
    "stddevに10指定し、平均値が10に近づく事を確認"
   ]
  },
  {
   "cell_type": "code",
   "execution_count": 7,
   "metadata": {
    "collapsed": false
   },
   "outputs": [
    {
     "name": "stdout",
     "output_type": "stream",
     "text": [
      "1.09163\n",
      "10.0327\n"
     ]
    }
   ],
   "source": [
    "# 標準正規分布による乱数を値にもつ3x3行列\n",
    "x = tf.random_normal(shape=(5000,2), mean=1,stddev=10)\n",
    "\n",
    "sess = tf.Session()\n",
    "y = sess.run(x)\n",
    "\n",
    "print np.average(y)\n",
    "print np.std(y)\n",
    "sess.close()"
   ]
  },
  {
   "cell_type": "markdown",
   "metadata": {},
   "source": [
    "## 参考\n",
    "\n",
    "* [切断正規分布の解説](https://ja.wikipedia.org/wiki/%E5%88%87%E6%96%AD%E6%AD%A3%E8%A6%8F%E5%88%86%E5%B8%83)\n",
    "* https://www.tensorflow.org/api_docs/python/tf/random_normal"
   ]
  }
 ],
 "metadata": {
  "kernelspec": {
   "display_name": "Python 2",
   "language": "python",
   "name": "python2"
  },
  "language_info": {
   "codemirror_mode": {
    "name": "ipython",
    "version": 2
   },
   "file_extension": ".py",
   "mimetype": "text/x-python",
   "name": "python",
   "nbconvert_exporter": "python",
   "pygments_lexer": "ipython2",
   "version": "2.7.9"
  }
 },
 "nbformat": 4,
 "nbformat_minor": 2
}
