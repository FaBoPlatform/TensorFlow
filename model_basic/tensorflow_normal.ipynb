{
 "cells": [
  {
   "cell_type": "markdown",
   "metadata": {},
   "source": [
    "# 標準正規分布のTensorを作る\n",
    "---\n",
    "正規分布により乱数を生成する。\n",
    "\n",
    "> tf.random_normal(shape, mean=0.0, stddev=1.0, dtype=tf.float32, seed=None, name=None)\n",
    "\n",
    "\n",
    "|変数|概要|\n",
    "|:--|:--|\n",
    "|shape|Tensorのサイズ|\n",
    "|mean|平均|\n",
    "|stdev|標準偏差| \n",
    "|dtype|値の型|\n",
    "|seed|シード|\n",
    "|name|操作名|\n",
    "\n",
    "デフォルトでは`mean=0.0, stddev=1.0`となっており、標準正規分布になっている。"
   ]
  },
  {
   "cell_type": "markdown",
   "metadata": {},
   "source": [
    "## Sample\n",
    "\n",
    "正規分布"
   ]
  },
  {
   "cell_type": "code",
   "execution_count": 3,
   "metadata": {
    "collapsed": true
   },
   "outputs": [],
   "source": [
    "# coding:utf-8\n",
    "import tensorflow as tf\n",
    "import numpy as np"
   ]
  },
  {
   "cell_type": "code",
   "execution_count": 4,
   "metadata": {
    "collapsed": false
   },
   "outputs": [
    {
     "name": "stdout",
     "output_type": "stream",
     "text": [
      "[[  2.14010453e+00   1.63878024e-01  -8.76375496e-01]\n",
      " [ -3.26650083e-01   6.48519516e-01   3.05447489e-01]\n",
      " [ -7.65992641e-01  -4.91622428e-04  -4.55635995e-01]]\n"
     ]
    }
   ],
   "source": [
    "# 標準正規分布による乱数を値にもつ3x3行列\n",
    "x = tf.random_normal(shape=(3,3))\n",
    "\n",
    "sess = tf.Session()\n",
    "y = sess.run(x)\n",
    "print y\n",
    "sess.close()"
   ]
  },
  {
   "cell_type": "markdown",
   "metadata": {},
   "source": [
    "1万件に増やし、正規分布が1.0に近づくかを確認　"
   ]
  },
  {
   "cell_type": "code",
   "execution_count": 6,
   "metadata": {
    "collapsed": false
   },
   "outputs": [
    {
     "name": "stdout",
     "output_type": "stream",
     "text": [
      "0.00350512\n",
      "1.00401\n"
     ]
    }
   ],
   "source": [
    "# 標準正規分布による乱数を値にもつ3x3行列\n",
    "x = tf.random_normal(shape=(5000,2))\n",
    "\n",
    "sess = tf.Session()\n",
    "y = sess.run(x)\n",
    "\n",
    "print np.average(y)\n",
    "print np.std(y)\n",
    "sess.close()"
   ]
  },
  {
   "cell_type": "markdown",
   "metadata": {},
   "source": [
    "stddevに10指定し、平均値が10に近づく事を確認"
   ]
  },
  {
   "cell_type": "code",
   "execution_count": 7,
   "metadata": {
    "collapsed": false
   },
   "outputs": [
    {
     "name": "stdout",
     "output_type": "stream",
     "text": [
      "1.09163\n",
      "10.0327\n"
     ]
    }
   ],
   "source": [
    "# 標準正規分布による乱数を値にもつ3x3行列\n",
    "x = tf.random_normal(shape=(5000,2), mean=1,stddev=10)\n",
    "\n",
    "sess = tf.Session()\n",
    "y = sess.run(x)\n",
    "\n",
    "print np.average(y)\n",
    "print np.std(y)\n",
    "sess.close()"
   ]
  },
  {
   "cell_type": "markdown",
   "metadata": {},
   "source": [
    "## 参考\n",
    "\n",
    "* https://www.tensorflow.org/api_docs/python/tf/random_normal"
   ]
  },
  {
   "cell_type": "markdown",
   "metadata": {},
   "source": [
    "# 切断正規分布\n",
    "---\n",
    "標準偏差の2倍の間に収まるような乱数を生成する\n",
    "\n",
    "> tf.truncated_normal(shape, mean=0.0, stddev=1.0, dtype=tf.float32, seed=None, name=None)\n",
    "\n",
    "|変数|概要|\n",
    "|:--|:--|\n",
    "|shape|Tensorの形式|\n",
    "|mean|正規分布の平均。デフォルト 0.0|\n",
    "|stdev|正規分布の標準偏差。デフォルト 1.0| \n",
    "|dtype|値の型|"
   ]
  },
  {
   "cell_type": "markdown",
   "metadata": {},
   "source": [
    "## Sample\n",
    "\n",
    "切断正規分布"
   ]
  },
  {
   "cell_type": "code",
   "execution_count": 8,
   "metadata": {
    "collapsed": false
   },
   "outputs": [
    {
     "name": "stdout",
     "output_type": "stream",
     "text": [
      "[-0.30878934  0.35897934 -0.88472492  0.89773321 -1.82789302  1.24759364\n",
      " -1.60505593  1.10819244  1.16885257  0.05746071  1.51047444  1.92377067\n",
      "  1.10624337  1.09388161 -0.0676482   0.17268701  1.5651418   0.02382554\n",
      "  0.55061102  0.12201686]\n"
     ]
    }
   ],
   "source": [
    "# デフォルトは1.0なので、乱数の値は-2~2の間に収まる\n",
    "truncated_normal = tf.truncated_normal([20])\n",
    "sess = tf.Session()\n",
    "val = sess.run(truncated_normal)\n",
    "\n",
    "print(val)\n",
    "sess.close()"
   ]
  },
  {
   "cell_type": "markdown",
   "metadata": {},
   "source": [
    "## 参考\n",
    "\n",
    "* [切断正規分布の解説](https://ja.wikipedia.org/wiki/%E5%88%87%E6%96%AD%E6%AD%A3%E8%A6%8F%E5%88%86%E5%B8%83)"
   ]
  },
  {
   "cell_type": "markdown",
   "metadata": {},
   "source": [
    "# 乱数のシード\n",
    "---\n",
    "学習結果および計算結果に再現性を持たせるために使う。\n",
    "\n",
    "> tf.set_random_seed(seed)\n",
    "\n",
    "|変数|概要|\n",
    "|:--|:--|\n",
    "|seed|Seed値|\n"
   ]
  },
  {
   "cell_type": "code",
   "execution_count": 9,
   "metadata": {
    "collapsed": false
   },
   "outputs": [
    {
     "name": "stdout",
     "output_type": "stream",
     "text": [
      "[[ 0.58003223 -1.78534365 -0.07899306  0.09836151]\n",
      " [-0.21497221 -0.76032352  1.3579433   0.60065633]\n",
      " [-0.2302579   1.11828232 -0.44764459 -0.99638569]\n",
      " [ 0.45086274  1.80219543 -0.99858069  0.50142682]]\n"
     ]
    }
   ],
   "source": [
    "# 乱数のシードを設定する\n",
    "tf.set_random_seed(20200724)\n",
    "\n",
    "# 標準正規分布による乱数の値を持つ4x4行列\n",
    "x = tf.random_normal(shape=(4,4))\n",
    "\n",
    "sess = tf.Session()\n",
    "y = sess.run(x)\n",
    "print y"
   ]
  },
  {
   "cell_type": "markdown",
   "metadata": {},
   "source": [
    "## 参考\n",
    "\n",
    "* https://www.tensorflow.org/api_docs/python/tf/set_random_seed"
   ]
  }
 ],
 "metadata": {
  "kernelspec": {
   "display_name": "Python 2",
   "language": "python",
   "name": "python2"
  },
  "language_info": {
   "codemirror_mode": {
    "name": "ipython",
    "version": 2
   },
   "file_extension": ".py",
   "mimetype": "text/x-python",
   "name": "python",
   "nbconvert_exporter": "python",
   "pygments_lexer": "ipython2",
   "version": "2.7.9"
  }
 },
 "nbformat": 4,
 "nbformat_minor": 2
}
