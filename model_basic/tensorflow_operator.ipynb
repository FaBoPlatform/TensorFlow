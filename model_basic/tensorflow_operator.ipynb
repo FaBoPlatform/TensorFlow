{
 "cells": [
  {
   "cell_type": "markdown",
   "metadata": {},
   "source": [
    "# Tensor(行列)の和\n",
    "---\n",
    "## tf.add\n",
    "\n",
    "> tf.add(x, y, name=None)\n",
    "\n",
    "|変数|概要|\n",
    "|:--|:--|\n",
    "|x|half, float32, float64, uint8, int8, int16, int32, int64, complex64, complex128, stringの型の値を引数で渡せる|\n",
    "|y|half, float32, float64, uint8, int8, int16, int32, int64, complex64, complex128, stringの型の値を引数で渡せる|\n",
    "|name|操作の名前(任意)|"
   ]
  },
  {
   "cell_type": "markdown",
   "metadata": {},
   "source": [
    "# Sample\n",
    "> mat1 + mat2 = result_mat\n",
    "\n",
    "$\n",
    "\\begin{bmatrix}\n",
    "1 & 2 \\\\\n",
    "3 & 4 \n",
    "\\end{bmatrix}\n",
    "$ + \n",
    "$\n",
    "\\begin{bmatrix}\n",
    "11 & 12 \\\\\n",
    "13 & 14 \n",
    "\\end{bmatrix}\n",
    "$=\n",
    "$\n",
    "\\begin{bmatrix}\n",
    "12 & 14 \\\\\n",
    "16 & 18 \n",
    "\\end{bmatrix}\n",
    "$"
   ]
  },
  {
   "cell_type": "code",
   "execution_count": 1,
   "metadata": {
    "collapsed": true
   },
   "outputs": [],
   "source": [
    "import tensorflow as tf\n",
    "import numpy as np"
   ]
  },
  {
   "cell_type": "code",
   "execution_count": 2,
   "metadata": {
    "collapsed": true
   },
   "outputs": [],
   "source": [
    "# 2x2行列のPlaceholder\n",
    "x = tf.placeholder(dtype=tf.float32,shape=(2,2))\n",
    "y = tf.placeholder(dtype=tf.float32,shape=(2,2))"
   ]
  },
  {
   "cell_type": "code",
   "execution_count": 3,
   "metadata": {
    "collapsed": false
   },
   "outputs": [
    {
     "data": {
      "text/plain": [
       "array([[1, 2],\n",
       "       [3, 4]])"
      ]
     },
     "execution_count": 3,
     "metadata": {},
     "output_type": "execute_result"
    }
   ],
   "source": [
    "# [[1,2],\n",
    "#  [3,4]]\n",
    "mat_a = np.arange(1,5).reshape(2,2)\n",
    "mat_a"
   ]
  },
  {
   "cell_type": "code",
   "execution_count": 4,
   "metadata": {
    "collapsed": false
   },
   "outputs": [
    {
     "data": {
      "text/plain": [
       "array([[11, 12],\n",
       "       [13, 14]])"
      ]
     },
     "execution_count": 4,
     "metadata": {},
     "output_type": "execute_result"
    }
   ],
   "source": [
    "# [[11,12],\n",
    "#  [13,14]]\n",
    "mat_b = np.arange(11,15).reshape(2,2)\n",
    "mat_b"
   ]
  },
  {
   "cell_type": "code",
   "execution_count": 5,
   "metadata": {
    "collapsed": true
   },
   "outputs": [],
   "source": [
    "# 和のオペレーション\n",
    "add_op = tf.add(x,y)"
   ]
  },
  {
   "cell_type": "code",
   "execution_count": 7,
   "metadata": {
    "collapsed": false
   },
   "outputs": [
    {
     "name": "stdout",
     "output_type": "stream",
     "text": [
      "[[ 12.  14.]\n",
      " [ 16.  18.]]\n"
     ]
    }
   ],
   "source": [
    "# セッション\n",
    "sess = tf.Session()\n",
    "\n",
    "# 実行\n",
    "result_mat = sess.run(add_op,feed_dict={x:mat_a,y:mat_b})\n",
    "\n",
    "# 結果を表示\n",
    "print(result_mat)"
   ]
  },
  {
   "cell_type": "markdown",
   "metadata": {},
   "source": [
    "## 参考\n",
    "\n",
    "https://www.tensorflow.org/api_docs/python/tf/add\n",
    "\n",
    "\n"
   ]
  },
  {
   "cell_type": "markdown",
   "metadata": {},
   "source": [
    "# Tensor(行列)の差\n",
    "---\n",
    "## tf.subtract\n",
    "\n",
    "> tf.subtract(x, y, name=None)\n",
    "\n",
    "|変数|概要|\n",
    "|:--|:--|\n",
    "|x|half, float32, float64, int32, int64, complex64, complex128の型の値を引数で渡せる|\n",
    "|y|half, float32, float64, int32, int64, complex64, complex128の型の値を引数で渡せる|\n",
    "|name|操作の名前(任意)|"
   ]
  },
  {
   "cell_type": "markdown",
   "metadata": {},
   "source": [
    "## Sample\n",
    "\n",
    "> mat2 - mat1 = result_mat  \n",
    "\n",
    "$\n",
    "\\begin{bmatrix}\n",
    "11 & 12 \\\\\n",
    "13 & 14 \n",
    "\\end{bmatrix}\n",
    "$ -\n",
    "$\n",
    "\\begin{bmatrix}\n",
    "1 & 2 \\\\\n",
    "3 & 4 \n",
    "\\end{bmatrix}\n",
    "$=\n",
    "$\n",
    "\\begin{bmatrix}\n",
    "10 & 10 \\\\\n",
    "10 & 10 \n",
    "\\end{bmatrix}\n",
    "$"
   ]
  },
  {
   "cell_type": "code",
   "execution_count": 10,
   "metadata": {
    "collapsed": false
   },
   "outputs": [
    {
     "name": "stdout",
     "output_type": "stream",
     "text": [
      "[[ 10.  10.]\n",
      " [ 10.  10.]]\n"
     ]
    }
   ],
   "source": [
    "# 差のオペレーション\n",
    "sub_op = tf.subtract(x,y)\n",
    "\n",
    "# 実行\n",
    "result_mat = sess.run(sub_op,feed_dict={x:mat_b,y:mat_a})\n",
    "\n",
    "# 結果を表示\n",
    "print(result_mat)"
   ]
  },
  {
   "cell_type": "markdown",
   "metadata": {},
   "source": [
    "## 参考\n",
    "\n",
    "https://www.tensorflow.org/api_docs/python/tf/subtract"
   ]
  },
  {
   "cell_type": "markdown",
   "metadata": {},
   "source": [
    "# Tensor(行列)の積\n",
    "---\n",
    "## tf.matmul\n",
    "\n",
    "> tf.matmul(x, y, name=None)\n",
    "\n",
    "|変数|概要|\n",
    "|:--|:--|\n",
    "|x|half, float32, float64, uint8, int8, uint16, int16, int32, int64, complex64, complex128の型の値を引数で渡せる|\n",
    "|y|half, float32, float64, uint8, int8, uint16, int16, int32, int64, complex64, complex128の型の値を引数で渡せる|\n",
    "|name|操作の名前(任意)|"
   ]
  },
  {
   "cell_type": "markdown",
   "metadata": {},
   "source": [
    "## Sample\n",
    "\n",
    "> mat1 x mat2 = result_mat\n",
    "\n",
    "$\n",
    "\\begin{bmatrix}\n",
    "1 & 2 \\\\\n",
    "3 & 4 \n",
    "\\end{bmatrix}\n",
    "$ x \n",
    "$\n",
    "\\begin{bmatrix}\n",
    "11 & 12 \\\\\n",
    "13 & 14 \n",
    "\\end{bmatrix}\n",
    "$=\n",
    "$\n",
    "\\begin{bmatrix}\n",
    "37 & 40 \\\\\n",
    "85 & 92 \n",
    "\\end{bmatrix}\n",
    "$"
   ]
  },
  {
   "cell_type": "code",
   "execution_count": 12,
   "metadata": {
    "collapsed": false
   },
   "outputs": [
    {
     "name": "stdout",
     "output_type": "stream",
     "text": [
      "[[ 37.  40.]\n",
      " [ 85.  92.]]\n"
     ]
    }
   ],
   "source": [
    "# 積のオペレーション\n",
    "matmul_op = tf.matmul(x,y)\n",
    "\n",
    "# 実行\n",
    "result_mat = sess.run(matmul_op,feed_dict={x:mat_a,y:mat_b})\n",
    "\n",
    "# 結果を表示\n",
    "print result_mat"
   ]
  },
  {
   "cell_type": "markdown",
   "metadata": {},
   "source": [
    "## 参考\n",
    "\n",
    "https://www.tensorflow.org/api_docs/python/tf/matmul"
   ]
  },
  {
   "cell_type": "markdown",
   "metadata": {},
   "source": [
    "# Tensor(行列)の要素の積\n",
    "---\n",
    "## tf.multiply\n",
    "\n",
    "> tf.multiply(mat_a, mat_b, name=None)\n",
    "\n",
    "|変数|概要|\n",
    "|:--|:--|\n",
    "|x|half, float32, float64, uint8, int8, uint16, int16, int32, int64, complex64, complex128の型の値を引数で渡せる|\n",
    "|y|half, float32, float64, uint8, int8, uint16, int16, int32, int64, complex64, complex128の型の値を引数で渡せる|\n",
    "|name|操作の名前(任意)|"
   ]
  },
  {
   "cell_type": "markdown",
   "metadata": {},
   "source": [
    "## Sample\n",
    "\n",
    "> mat_a x mat_b = result_mat\n",
    "\n",
    "$\n",
    "\\begin{bmatrix}\n",
    "1 & 2 \\\\\n",
    "3 & 4 \n",
    "\\end{bmatrix}\n",
    "$ *\n",
    "$\n",
    "\\begin{bmatrix}\n",
    "11 & 12 \\\\\n",
    "13 & 14 \n",
    "\\end{bmatrix}\n",
    "$=\n",
    "$\n",
    "\\begin{bmatrix}\n",
    "11 & 24 \\\\\n",
    "39 & 56 \n",
    "\\end{bmatrix}\n",
    "$\n",
    "\n",
    "このような積をアダマール積という　"
   ]
  },
  {
   "cell_type": "code",
   "execution_count": 13,
   "metadata": {
    "collapsed": false
   },
   "outputs": [
    {
     "name": "stdout",
     "output_type": "stream",
     "text": [
      "[[ 11.  24.]\n",
      " [ 39.  56.]]\n"
     ]
    }
   ],
   "source": [
    "# 積のオペレーション\n",
    "mul_op = tf.multiply(x,y)\n",
    "\n",
    "# 実行\n",
    "result_mul = sess.run(mul_op,feed_dict={x:mat_a,y:mat_b})\n",
    "\n",
    "# 結果を表示\n",
    "print(result_mul)"
   ]
  },
  {
   "cell_type": "markdown",
   "metadata": {},
   "source": [
    "## 参考\n",
    "\n",
    "https://www.tensorflow.org/api_docs/python/tf/multiply\n",
    "\n",
    "* アダマール積について\n",
    "https://ja.wikipedia.org/wiki/%E3%82%A2%E3%83%80%E3%83%9E%E3%83%BC%E3%83%AB%E7%A9%8D"
   ]
  }
 ],
 "metadata": {
  "kernelspec": {
   "display_name": "Python 2",
   "language": "python",
   "name": "python2"
  },
  "language_info": {
   "codemirror_mode": {
    "name": "ipython",
    "version": 2
   },
   "file_extension": ".py",
   "mimetype": "text/x-python",
   "name": "python",
   "nbconvert_exporter": "python",
   "pygments_lexer": "ipython2",
   "version": "2.7.9"
  }
 },
 "nbformat": 4,
 "nbformat_minor": 2
}
