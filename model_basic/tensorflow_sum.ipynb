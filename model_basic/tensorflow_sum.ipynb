{
 "cells": [
  {
   "cell_type": "markdown",
   "metadata": {},
   "source": [
    "# Tensorの総和\n",
    "---\n",
    "\n",
    "|変数|概要|\n",
    "|:--|:--|\n",
    "|input_tensor|引数として渡すTensor|\n",
    "|aixs|処理対象とする次元, 0 列, 1 行|\n",
    "|keep_dims| trueの場合、長さ1の縮小された次元を保持。|\n",
    "|name|操作の名前(任意)|"
   ]
  },
  {
   "cell_type": "code",
   "execution_count": 1,
   "metadata": {
    "collapsed": true
   },
   "outputs": [],
   "source": [
    "# coding:utf-8\n",
    "import numpy as np\n",
    "import tensorflow as tf"
   ]
  },
  {
   "cell_type": "code",
   "execution_count": 2,
   "metadata": {
    "collapsed": false
   },
   "outputs": [
    {
     "data": {
      "text/plain": [
       "array([[1, 2],\n",
       "       [3, 4]])"
      ]
     },
     "execution_count": 2,
     "metadata": {},
     "output_type": "execute_result"
    }
   ],
   "source": [
    "# 2x2行列(Tensor)\n",
    "x_data = np.arange(1,5).reshape(2,2)\n",
    "x_data"
   ]
  },
  {
   "cell_type": "code",
   "execution_count": 3,
   "metadata": {
    "collapsed": true
   },
   "outputs": [],
   "source": [
    "# 2x2行列のPlaceholder\n",
    "x = tf.placeholder(dtype=tf.float32,shape=(2,2))"
   ]
  },
  {
   "cell_type": "code",
   "execution_count": 4,
   "metadata": {
    "collapsed": true
   },
   "outputs": [],
   "source": [
    "# 全要素の和\n",
    "a1 = tf.reduce_sum(x)\n",
    "# 列ごとの和\n",
    "a2 = tf.reduce_sum(x,0)\n",
    "# 行ごとの和\n",
    "a3 = tf.reduce_sum(x,1)"
   ]
  },
  {
   "cell_type": "code",
   "execution_count": 5,
   "metadata": {
    "collapsed": false
   },
   "outputs": [
    {
     "name": "stdout",
     "output_type": "stream",
     "text": [
      "[[ 1.  2.]\n",
      " [ 3.  4.]]\n"
     ]
    }
   ],
   "source": [
    "sess = tf.Session()\n",
    "print sess.run(x,feed_dict={x:x_data})"
   ]
  },
  {
   "cell_type": "code",
   "execution_count": 8,
   "metadata": {
    "collapsed": false
   },
   "outputs": [
    {
     "name": "stdout",
     "output_type": "stream",
     "text": [
      "10.0\n",
      "[ 4.  6.]\n",
      "[ 3.  7.]\n"
     ]
    }
   ],
   "source": [
    "# 各総和\n",
    "print sess.run(a1,feed_dict={x:x_data})\n",
    "print sess.run(a2,feed_dict={x:x_data})\n",
    "print sess.run(a3,feed_dict={x:x_data})\n",
    "\n",
    "sess.close()"
   ]
  },
  {
   "cell_type": "markdown",
   "metadata": {},
   "source": [
    "## 参考\n",
    "\n",
    "https://www.tensorflow.org/api_docs/python/tf/reduce_sum"
   ]
  },
  {
   "cell_type": "markdown",
   "metadata": {},
   "source": [
    "# Tensorの総積\n",
    "---\n",
    "> tf.reduce_prod(input_tensor, axis=None, keep_dims=False, name=None, reduction_indices=None)\n",
    "\n",
    "|変数|概要|\n",
    "|:--|:--|\n",
    "|input_tensor|引数として渡すTensor|\n",
    "|aixs|処理対象とする次元, 0 列, 1 行|\n",
    "|keep_dims| trueの場合、長さ1の縮小された次元を保持。|\n",
    "|name|操作の名前(任意)|"
   ]
  },
  {
   "cell_type": "code",
   "execution_count": 10,
   "metadata": {
    "collapsed": false
   },
   "outputs": [],
   "source": [
    "# 全要素の積\n",
    "b1 = tf.reduce_prod(x)\n",
    "# 列ごとの積\n",
    "b2 = tf.reduce_prod(x,0)\n",
    "# 行ごとの積\n",
    "b3 = tf.reduce_prod(x,1)\n",
    "\n",
    "sess = tf.Session()"
   ]
  },
  {
   "cell_type": "code",
   "execution_count": 11,
   "metadata": {
    "collapsed": false
   },
   "outputs": [
    {
     "name": "stdout",
     "output_type": "stream",
     "text": [
      "24.0\n",
      "[ 3.  8.]\n",
      "[  2.  12.]\n"
     ]
    }
   ],
   "source": [
    "# 総積\n",
    "print sess.run(b1,feed_dict={x:x_data})\n",
    "print sess.run(b2,feed_dict={x:x_data})\n",
    "print sess.run(b3,feed_dict={x:x_data})"
   ]
  },
  {
   "cell_type": "markdown",
   "metadata": {},
   "source": [
    "## 参考\n",
    "\n",
    "https://www.tensorflow.org/api_docs/python/tf/reduce_prod"
   ]
  }
 ],
 "metadata": {
  "kernelspec": {
   "display_name": "Python 2",
   "language": "python",
   "name": "python2"
  },
  "language_info": {
   "codemirror_mode": {
    "name": "ipython",
    "version": 2
   },
   "file_extension": ".py",
   "mimetype": "text/x-python",
   "name": "python",
   "nbconvert_exporter": "python",
   "pygments_lexer": "ipython2",
   "version": "2.7.9"
  }
 },
 "nbformat": 4,
 "nbformat_minor": 2
}
