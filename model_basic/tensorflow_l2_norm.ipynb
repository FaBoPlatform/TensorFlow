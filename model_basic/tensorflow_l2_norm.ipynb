{
 "cells": [
  {
   "cell_type": "markdown",
   "metadata": {},
   "source": [
    "# L2正則化\n",
    "---"
   ]
  },
  {
   "cell_type": "code",
   "execution_count": 1,
   "metadata": {
    "collapsed": true
   },
   "outputs": [],
   "source": [
    "# coding:utf-8\n",
    "import tensorflow as tf"
   ]
  },
  {
   "cell_type": "code",
   "execution_count": 2,
   "metadata": {
    "collapsed": true
   },
   "outputs": [],
   "source": [
    "# 乱数のシードを設定する\n",
    "tf.set_random_seed(20200724)"
   ]
  },
  {
   "cell_type": "code",
   "execution_count": 3,
   "metadata": {
    "collapsed": true
   },
   "outputs": [],
   "source": [
    "# 入力Tensor\n",
    "x = tf.random_normal([10])\n",
    "# L2正則化 sum(x ** 2) /2\n",
    "l2_loss_op = tf.nn.l2_loss(x)\n",
    "\n",
    "# 以下も同様\n",
    "my_l2_loss_op = tf.reduce_sum(tf.square(x))/2.0"
   ]
  },
  {
   "cell_type": "code",
   "execution_count": 4,
   "metadata": {
    "collapsed": false
   },
   "outputs": [
    {
     "name": "stdout",
     "output_type": "stream",
     "text": [
      "[ 0.91728258  0.16987979 -0.06950273  0.41364911 -0.23856264 -3.08316779\n",
      "  1.08747196 -0.89166135  0.04147797 -0.35033408]\n",
      "6.35557\n",
      "6.35557\n"
     ]
    }
   ],
   "source": [
    "with tf.Session() as sess:\n",
    "  x, l2_loss, my_l2_loss = sess.run([x, l2_loss_op, my_l2_loss_op])\n",
    "  print x\n",
    "  print l2_loss\n",
    "  print my_l2_loss"
   ]
  },
  {
   "cell_type": "markdown",
   "metadata": {},
   "source": [
    "## 参考\n",
    "\n",
    "* https://www.tensorflow.org/api_docs/python/tf/nn/l2_loss\n",
    "\n",
    "---\n",
    "\n",
    "## Notebook\n",
    "\n",
    "[https://github.com/FaBoPlatform/TensorFlow/blob/master/notebooks/l2_normal.ipynb](https://github.com/FaBoPlatform/TensorFlow/blob/master/notebooks/l2_normal.ipynb)"
   ]
  }
 ],
 "metadata": {
  "kernelspec": {
   "display_name": "Python 2",
   "language": "python",
   "name": "python2"
  },
  "language_info": {
   "codemirror_mode": {
    "name": "ipython",
    "version": 2
   },
   "file_extension": ".py",
   "mimetype": "text/x-python",
   "name": "python",
   "nbconvert_exporter": "python",
   "pygments_lexer": "ipython2",
   "version": "2.7.9"
  }
 },
 "nbformat": 4,
 "nbformat_minor": 2
}
